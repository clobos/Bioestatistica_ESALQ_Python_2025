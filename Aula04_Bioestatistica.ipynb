{
  "nbformat": 4,
  "nbformat_minor": 0,
  "metadata": {
    "colab": {
      "provenance": [],
      "include_colab_link": true
    },
    "kernelspec": {
      "name": "python3",
      "display_name": "Python 3"
    },
    "language_info": {
      "name": "python"
    }
  },
  "cells": [
    {
      "cell_type": "markdown",
      "metadata": {
        "id": "view-in-github",
        "colab_type": "text"
      },
      "source": [
        "<a href=\"https://colab.research.google.com/github/clobos/Bioestatistica_ESALQ_Python_2025/blob/main/Aula04_Bioestatistica.ipynb\" target=\"_parent\"><img src=\"https://colab.research.google.com/assets/colab-badge.svg\" alt=\"Open In Colab\"/></a>"
      ]
    },
    {
      "cell_type": "markdown",
      "source": [
        "# Regressão linear simples — teoria, estimação, correlação de Pearson (com Python e dados biológicos)\n",
        "\n",
        "## Modelo e suposições\n",
        "Regressão linear simples (RLS):\n",
        "$$\n",
        "Y_i = \\beta_0 + \\beta_1 X_i + \\varepsilon_i,\\quad i=1,\\ldots,n,\n",
        "$$\n",
        "com $\\mathbb{E}[\\varepsilon_i]=0$, $\\mathrm{Var}(\\varepsilon_i)=\\sigma^2$ (homocedasticidade) e independência. Sob normalidade $\\varepsilon_i\\sim\\mathcal N(0,\\sigma^2)$, os MQO coincidem com os MLEs; sem normalidade, MQO é BLUE (Gauss–Markov).\n",
        "\n",
        "## Estimação por mínimos quadrados ordinários (MQO)\n",
        "Notação matricial $\\mathbf{X}=\\begin{bmatrix}\\mathbf{1}&\\mathbf{x}\\end{bmatrix}\\$:\n",
        "\n",
        "$$\n",
        "\\hat{\\boldsymbol\\beta} = (\\mathbf{X}^\\top \\mathbf{X})^{-1}\\mathbf{X}^\\top \\mathbf{y},\n",
        "\\qquad\n",
        "\\mathrm{Var}(\\hat{\\boldsymbol\\beta}) = \\sigma^2 (\\mathbf{X}^\\top \\mathbf{X})^{-1}.\n",
        "$$\n",
        "\n",
        "Forma escalar (com $\\bar x, \\bar y$ e somas de quadrados):\n",
        "$$\n",
        "S_{xx}=\\sum_{i=1}^n (x_i-\\bar x)^2,\\quad\n",
        "S_{xy}=\\sum_{i=1}^n (x_i-\\bar x)(y_i-\\bar y),\\quad\n",
        "S_{yy}=\\sum_{i=1}^n (y_i-\\bar y)^2.\n",
        "$$\n",
        "Estimadores fechados:\n",
        "$$\n",
        "\\hat\\beta_1=\\frac{S_{xy}}{S_{xx}},\\qquad\n",
        "\\hat\\beta_0=\\bar y-\\hat\\beta_1\\,\\bar x.\n",
        "$$\n",
        "\n",
        "**Resíduos e variância do erro.** Resíduos $e_i=y_i-\\hat y_i$ com $\\hat y_i=\\hat\\beta_0+\\hat\\beta_1 x_i$.  \n",
        "$$\n",
        "\\mathrm{RSS}=\\sum_{i=1}^n e_i^2,\\qquad\n",
        "\\hat\\sigma^2=\\frac{\\mathrm{RSS}}{n-2}.\n",
        "$$\n",
        "**Erros-padrão:**\n",
        "$$\n",
        "\\mathrm{SE}(\\hat\\beta_1)=\\sqrt{\\frac{\\hat\\sigma^2}{S_{xx}}},\\qquad\n",
        "\\mathrm{SE}(\\hat\\beta_0)=\\sqrt{\\hat\\sigma^2\\!\\left(\\frac{1}{n}+\\frac{\\bar x^2}{S_{xx}}\\right)}.\n",
        "$$\n",
        "Sob normalidade:\n",
        "$$\n",
        "\\frac{\\hat\\beta_j-\\beta_j}{\\mathrm{SE}(\\hat\\beta_j)}\\sim t_{n-2},\\quad j\\in\\{0,1\\}.\n",
        "$$\n",
        "\n",
        "**Decomposição e $R^2$.**\n",
        "$$\n",
        "\\mathrm{TSS}=\\sum (y_i-\\bar y)^2,\\quad\n",
        "\\mathrm{ESS}=\\sum (\\hat y_i-\\bar y)^2,\\quad\n",
        "\\mathrm{RSS}=\\sum (y_i-\\hat y_i)^2,\\quad\n",
        "\\mathrm{TSS}=\\mathrm{ESS}+\\mathrm{RSS},\\quad\n",
        "R^2=1-\\frac{\\mathrm{RSS}}{\\mathrm{TSS}}.\n",
        "$$\n",
        "\n",
        "## Inferência e predição\n",
        "Para $x_0$:\n",
        "$$\n",
        "\\hat y(x_0)=\\hat\\beta_0+\\hat\\beta_1 x_0,\n",
        "\\quad\n",
        "\\mathrm{SE}_{\\text{média}}(x_0)=\\sqrt{\\hat\\sigma^2\\!\\left(\\frac{1}{n}+\\frac{(x_0-\\bar x)^2}{S_{xx}}\\right)},\n",
        "$$\n",
        "$$\n",
        "\\mathrm{SE}_{\\text{pred}}(x_0)=\\sqrt{\\hat\\sigma^2\\!\\left(1+\\frac{1}{n}+\\frac{(x_0-\\bar x)^2}{S_{xx}}\\right)}.\n",
        "$$\n",
        "Intervalos:\n",
        "$$\n",
        "\\text{IC da média: }\\ \\hat y(x_0)\\pm t_{n-2,\\,1-\\alpha/2}\\,\\mathrm{SE}_{\\text{média}}(x_0),\\qquad\n",
        "\\text{IP: }\\ \\hat y(x_0)\\pm t_{n-2,\\,1-\\alpha/2}\\,\\mathrm{SE}_{\\text{pred}}(x_0).\n",
        "$$\n",
        "\n",
        "## Diagnóstico: matriz chapéu, alavancagem e resíduos\n",
        "Matriz chapéu:\n",
        "$$\n",
        "\\mathbf{H}=\\mathbf{X}(\\mathbf{X}^\\top\\mathbf{X})^{-1}\\mathbf{X}^\\top,\\quad\n",
        "\\mathbf{e}=\\mathbf{y}-\\hat{\\mathbf{y}}=(\\mathbf{I}-\\mathbf{H})\\mathbf{y}.\n",
        "$$\n",
        "Alavancagem $h_{ii}=[\\mathbf{H}]_{ii}$. Regra prática: $h_{ii}>2p/n$ (ou $3p/n$), com $p$ parâmetros (na RLS, $p=2$).\n",
        "\n",
        "**Resíduos studentizados.**\n",
        "$$\n",
        "r_i^{(\\text{int})}=\\frac{e_i}{\\hat\\sigma\\sqrt{1-h_{ii}}}\\quad(\\text{interno}),$$\n",
        "$$\n",
        "t_i=\\frac{e_i}{\\hat\\sigma_{(i)}\\sqrt{1-h_{ii}}}\\quad(\\text{externo}),\n",
        "$$\n",
        "onde $\\hat\\sigma_{(i)}$ é estimada sem o ponto $i$.\n",
        "\n",
        "**Distância de Cook (influência).**\n",
        "$$\n",
        "D_i=\\frac{e_i^2}{p\\,\\hat\\sigma^2}\\cdot\\frac{h_{ii}}{(1-h_{ii})^2}\n",
        "=\\frac{t_i^{\\,2}}{p}\\cdot\\frac{h_{ii}}{1-h_{ii}}.\n",
        "$$\n",
        "Regra prática: $D_i>4/n$ sugere influência elevada.\n",
        "\n",
        "## Correlação de Pearson e ligação com a RLS\n",
        "Correlação amostral:\n",
        "$$\n",
        "r=\\frac{S_{xy}}{\\sqrt{S_{xx}S_{yy}}}\\in[-1,1].\n",
        "$$\n",
        "Na RLS com intercepto:\n",
        "$$\n",
        "\\hat\\beta_1=r\\,\\frac{s_y}{s_x},\\qquad R^2=r^2,\n",
        "$$\n",
        "com $s_x^2=S_{xx}/(n-1)$ e $s_y^2=S_{yy}/(n-1)$.  \n",
        "$r=0$ indica ausência de **associação linear** (pode haver não linearidade).\n",
        "\n",
        "## Outros métodos (panorama)\n",
        "Sob normalidade, MLE = MQO. Alternativas: estimadores robustos (Huber, Tukey), LAD/L1, TLS (erro em X e Y), regularização (ridge, lasso).\n",
        "\n",
        "## Referências\n",
        "- Montgomery, D. C., Peck, E. A., & Vining, G. G. (2021). *Introduction to Linear Regression Analysis* (6th ed.). Wiley.  \n",
        "- Cook, R. D., & Weisberg, R. (1982). *Residuals and Influence in Regression*. Chapman & Hall.  \n",
        "- Belsley, D. A., Kuh, E., & Welsch, R. E. (1980). *Regression Diagnostics*. Wiley.  \n",
        "- Fox, J. (2016). *Applied Regression Analysis and GLMs* (3rd ed.). Sage.  \n",
        "- Seber, G. A. F., & Lee, A. J. (2012). *Linear Regression Analysis* (2nd ed.). Wiley.  \n",
        "- NIST/SEMATECH *e-Handbook of Statistical Methods* (capítulos de regressão e diagnóstico).\n"
      ],
      "metadata": {
        "id": "OCc-GNRbOpMb"
      }
    },
    {
      "cell_type": "markdown",
      "source": [
        "# Importação das bibliotecas a serem usadas\n",
        "\n"
      ],
      "metadata": {
        "id": "0vp7y8d6_vnI"
      }
    },
    {
      "cell_type": "code",
      "source": [
        "import sys, subprocess\n",
        "import numpy as np\n",
        "import pandas as pd\n",
        "import matplotlib.pyplot as plt\n",
        "from math import sqrt\n",
        "\n",
        "# Garante scipy e statsmodels (geralmente já existem no Colab)\n",
        "try:\n",
        "    import scipy.stats as st\n",
        "except Exception:\n",
        "    subprocess.check_call([sys.executable, \"-m\", \"pip\", \"install\", \"-q\", \"scipy\"])\n",
        "    import scipy.stats as st\n",
        "\n",
        "try:\n",
        "    import statsmodels.api as sm\n",
        "except Exception:\n",
        "    subprocess.check_call([sys.executable, \"-m\", \"pip\", \"install\", \"-q\", \"statsmodels\"])\n",
        "    import statsmodels.api as sm\n"
      ],
      "metadata": {
        "id": "wBgdyogYCRI-"
      },
      "execution_count": 21,
      "outputs": []
    },
    {
      "cell_type": "markdown",
      "source": [
        "# SIMULAÇÃO DE DADOS (BIOLOGIA)\n"
      ],
      "metadata": {
        "id": "55yAp9gw_64R"
      }
    },
    {
      "cell_type": "code",
      "source": [
        "np.random.seed(42)\n",
        "n = 80\n",
        "\n",
        "# \"x\" = dose de fertilizante NPK (g por vaso), criativamente variada\n",
        "dose = np.random.uniform(0, 10, size=n)\n",
        "\n",
        "# Variáveis categóricas adicionais (enriquecem o CSV)\n",
        "variedades = np.random.choice([\"Roma\", \"Cereja\", \"Caqui\", \"Santa Clara\"], size=n, p=[0.25, 0.35, 0.20, 0.20])\n",
        "estufa = np.random.choice([\"A\", \"B\"], size=n)\n",
        "id_planta = np.arange(1, n+1)\n",
        "\n",
        "# Modelo verdadeiro: altura (cm) após 30 dias\n",
        "beta0_true = 15.0\n",
        "beta1_true = 2.5\n",
        "sigma_true = 3.0\n",
        "altura = beta0_true + beta1_true * dose + np.random.normal(0, sigma_true, size=n)\n",
        "\n",
        "df = pd.DataFrame({\n",
        "    \"id_planta\": id_planta,\n",
        "    \"estufa\": estufa,\n",
        "    \"variedade\": variedades,\n",
        "    \"dose_fertilizante_g\": dose,\n",
        "    \"altura_cm\": altura\n",
        "})\n",
        "\n",
        "csv_path = \"biologia_regressao.csv\"\n",
        "df.to_csv(csv_path, index=False)\n",
        "print(f\"CSV salvo em: {csv_path}\")\n",
        "display(df.head())"
      ],
      "metadata": {
        "colab": {
          "base_uri": "https://localhost:8080/",
          "height": 224
        },
        "id": "Y3d0kdst_5En",
        "outputId": "f992c221-26e6-4314-bd5f-2bd52c228d41"
      },
      "execution_count": 22,
      "outputs": [
        {
          "output_type": "stream",
          "name": "stdout",
          "text": [
            "CSV salvo em: biologia_regressao.csv\n"
          ]
        },
        {
          "output_type": "display_data",
          "data": {
            "text/plain": [
              "   id_planta estufa    variedade  dose_fertilizante_g  altura_cm\n",
              "0          1      B  Santa Clara             3.745401  22.323429\n",
              "1          2      A        Caqui             9.507143  39.464619\n",
              "2          3      B       Cereja             7.319939  34.179066\n",
              "3          4      B         Roma             5.986585  27.823408\n",
              "4          5      B       Cereja             1.560186  24.497790"
            ],
            "text/html": [
              "\n",
              "  <div id=\"df-12c6c2fd-afe6-4515-9267-2012a39a78f2\" class=\"colab-df-container\">\n",
              "    <div>\n",
              "<style scoped>\n",
              "    .dataframe tbody tr th:only-of-type {\n",
              "        vertical-align: middle;\n",
              "    }\n",
              "\n",
              "    .dataframe tbody tr th {\n",
              "        vertical-align: top;\n",
              "    }\n",
              "\n",
              "    .dataframe thead th {\n",
              "        text-align: right;\n",
              "    }\n",
              "</style>\n",
              "<table border=\"1\" class=\"dataframe\">\n",
              "  <thead>\n",
              "    <tr style=\"text-align: right;\">\n",
              "      <th></th>\n",
              "      <th>id_planta</th>\n",
              "      <th>estufa</th>\n",
              "      <th>variedade</th>\n",
              "      <th>dose_fertilizante_g</th>\n",
              "      <th>altura_cm</th>\n",
              "    </tr>\n",
              "  </thead>\n",
              "  <tbody>\n",
              "    <tr>\n",
              "      <th>0</th>\n",
              "      <td>1</td>\n",
              "      <td>B</td>\n",
              "      <td>Santa Clara</td>\n",
              "      <td>3.745401</td>\n",
              "      <td>22.323429</td>\n",
              "    </tr>\n",
              "    <tr>\n",
              "      <th>1</th>\n",
              "      <td>2</td>\n",
              "      <td>A</td>\n",
              "      <td>Caqui</td>\n",
              "      <td>9.507143</td>\n",
              "      <td>39.464619</td>\n",
              "    </tr>\n",
              "    <tr>\n",
              "      <th>2</th>\n",
              "      <td>3</td>\n",
              "      <td>B</td>\n",
              "      <td>Cereja</td>\n",
              "      <td>7.319939</td>\n",
              "      <td>34.179066</td>\n",
              "    </tr>\n",
              "    <tr>\n",
              "      <th>3</th>\n",
              "      <td>4</td>\n",
              "      <td>B</td>\n",
              "      <td>Roma</td>\n",
              "      <td>5.986585</td>\n",
              "      <td>27.823408</td>\n",
              "    </tr>\n",
              "    <tr>\n",
              "      <th>4</th>\n",
              "      <td>5</td>\n",
              "      <td>B</td>\n",
              "      <td>Cereja</td>\n",
              "      <td>1.560186</td>\n",
              "      <td>24.497790</td>\n",
              "    </tr>\n",
              "  </tbody>\n",
              "</table>\n",
              "</div>\n",
              "    <div class=\"colab-df-buttons\">\n",
              "\n",
              "  <div class=\"colab-df-container\">\n",
              "    <button class=\"colab-df-convert\" onclick=\"convertToInteractive('df-12c6c2fd-afe6-4515-9267-2012a39a78f2')\"\n",
              "            title=\"Convert this dataframe to an interactive table.\"\n",
              "            style=\"display:none;\">\n",
              "\n",
              "  <svg xmlns=\"http://www.w3.org/2000/svg\" height=\"24px\" viewBox=\"0 -960 960 960\">\n",
              "    <path d=\"M120-120v-720h720v720H120Zm60-500h600v-160H180v160Zm220 220h160v-160H400v160Zm0 220h160v-160H400v160ZM180-400h160v-160H180v160Zm440 0h160v-160H620v160ZM180-180h160v-160H180v160Zm440 0h160v-160H620v160Z\"/>\n",
              "  </svg>\n",
              "    </button>\n",
              "\n",
              "  <style>\n",
              "    .colab-df-container {\n",
              "      display:flex;\n",
              "      gap: 12px;\n",
              "    }\n",
              "\n",
              "    .colab-df-convert {\n",
              "      background-color: #E8F0FE;\n",
              "      border: none;\n",
              "      border-radius: 50%;\n",
              "      cursor: pointer;\n",
              "      display: none;\n",
              "      fill: #1967D2;\n",
              "      height: 32px;\n",
              "      padding: 0 0 0 0;\n",
              "      width: 32px;\n",
              "    }\n",
              "\n",
              "    .colab-df-convert:hover {\n",
              "      background-color: #E2EBFA;\n",
              "      box-shadow: 0px 1px 2px rgba(60, 64, 67, 0.3), 0px 1px 3px 1px rgba(60, 64, 67, 0.15);\n",
              "      fill: #174EA6;\n",
              "    }\n",
              "\n",
              "    .colab-df-buttons div {\n",
              "      margin-bottom: 4px;\n",
              "    }\n",
              "\n",
              "    [theme=dark] .colab-df-convert {\n",
              "      background-color: #3B4455;\n",
              "      fill: #D2E3FC;\n",
              "    }\n",
              "\n",
              "    [theme=dark] .colab-df-convert:hover {\n",
              "      background-color: #434B5C;\n",
              "      box-shadow: 0px 1px 3px 1px rgba(0, 0, 0, 0.15);\n",
              "      filter: drop-shadow(0px 1px 2px rgba(0, 0, 0, 0.3));\n",
              "      fill: #FFFFFF;\n",
              "    }\n",
              "  </style>\n",
              "\n",
              "    <script>\n",
              "      const buttonEl =\n",
              "        document.querySelector('#df-12c6c2fd-afe6-4515-9267-2012a39a78f2 button.colab-df-convert');\n",
              "      buttonEl.style.display =\n",
              "        google.colab.kernel.accessAllowed ? 'block' : 'none';\n",
              "\n",
              "      async function convertToInteractive(key) {\n",
              "        const element = document.querySelector('#df-12c6c2fd-afe6-4515-9267-2012a39a78f2');\n",
              "        const dataTable =\n",
              "          await google.colab.kernel.invokeFunction('convertToInteractive',\n",
              "                                                    [key], {});\n",
              "        if (!dataTable) return;\n",
              "\n",
              "        const docLinkHtml = 'Like what you see? Visit the ' +\n",
              "          '<a target=\"_blank\" href=https://colab.research.google.com/notebooks/data_table.ipynb>data table notebook</a>'\n",
              "          + ' to learn more about interactive tables.';\n",
              "        element.innerHTML = '';\n",
              "        dataTable['output_type'] = 'display_data';\n",
              "        await google.colab.output.renderOutput(dataTable, element);\n",
              "        const docLink = document.createElement('div');\n",
              "        docLink.innerHTML = docLinkHtml;\n",
              "        element.appendChild(docLink);\n",
              "      }\n",
              "    </script>\n",
              "  </div>\n",
              "\n",
              "\n",
              "    <div id=\"df-c8a46a13-8d87-4794-a9c2-2a7113dfbf1d\">\n",
              "      <button class=\"colab-df-quickchart\" onclick=\"quickchart('df-c8a46a13-8d87-4794-a9c2-2a7113dfbf1d')\"\n",
              "                title=\"Suggest charts\"\n",
              "                style=\"display:none;\">\n",
              "\n",
              "<svg xmlns=\"http://www.w3.org/2000/svg\" height=\"24px\"viewBox=\"0 0 24 24\"\n",
              "     width=\"24px\">\n",
              "    <g>\n",
              "        <path d=\"M19 3H5c-1.1 0-2 .9-2 2v14c0 1.1.9 2 2 2h14c1.1 0 2-.9 2-2V5c0-1.1-.9-2-2-2zM9 17H7v-7h2v7zm4 0h-2V7h2v10zm4 0h-2v-4h2v4z\"/>\n",
              "    </g>\n",
              "</svg>\n",
              "      </button>\n",
              "\n",
              "<style>\n",
              "  .colab-df-quickchart {\n",
              "      --bg-color: #E8F0FE;\n",
              "      --fill-color: #1967D2;\n",
              "      --hover-bg-color: #E2EBFA;\n",
              "      --hover-fill-color: #174EA6;\n",
              "      --disabled-fill-color: #AAA;\n",
              "      --disabled-bg-color: #DDD;\n",
              "  }\n",
              "\n",
              "  [theme=dark] .colab-df-quickchart {\n",
              "      --bg-color: #3B4455;\n",
              "      --fill-color: #D2E3FC;\n",
              "      --hover-bg-color: #434B5C;\n",
              "      --hover-fill-color: #FFFFFF;\n",
              "      --disabled-bg-color: #3B4455;\n",
              "      --disabled-fill-color: #666;\n",
              "  }\n",
              "\n",
              "  .colab-df-quickchart {\n",
              "    background-color: var(--bg-color);\n",
              "    border: none;\n",
              "    border-radius: 50%;\n",
              "    cursor: pointer;\n",
              "    display: none;\n",
              "    fill: var(--fill-color);\n",
              "    height: 32px;\n",
              "    padding: 0;\n",
              "    width: 32px;\n",
              "  }\n",
              "\n",
              "  .colab-df-quickchart:hover {\n",
              "    background-color: var(--hover-bg-color);\n",
              "    box-shadow: 0 1px 2px rgba(60, 64, 67, 0.3), 0 1px 3px 1px rgba(60, 64, 67, 0.15);\n",
              "    fill: var(--button-hover-fill-color);\n",
              "  }\n",
              "\n",
              "  .colab-df-quickchart-complete:disabled,\n",
              "  .colab-df-quickchart-complete:disabled:hover {\n",
              "    background-color: var(--disabled-bg-color);\n",
              "    fill: var(--disabled-fill-color);\n",
              "    box-shadow: none;\n",
              "  }\n",
              "\n",
              "  .colab-df-spinner {\n",
              "    border: 2px solid var(--fill-color);\n",
              "    border-color: transparent;\n",
              "    border-bottom-color: var(--fill-color);\n",
              "    animation:\n",
              "      spin 1s steps(1) infinite;\n",
              "  }\n",
              "\n",
              "  @keyframes spin {\n",
              "    0% {\n",
              "      border-color: transparent;\n",
              "      border-bottom-color: var(--fill-color);\n",
              "      border-left-color: var(--fill-color);\n",
              "    }\n",
              "    20% {\n",
              "      border-color: transparent;\n",
              "      border-left-color: var(--fill-color);\n",
              "      border-top-color: var(--fill-color);\n",
              "    }\n",
              "    30% {\n",
              "      border-color: transparent;\n",
              "      border-left-color: var(--fill-color);\n",
              "      border-top-color: var(--fill-color);\n",
              "      border-right-color: var(--fill-color);\n",
              "    }\n",
              "    40% {\n",
              "      border-color: transparent;\n",
              "      border-right-color: var(--fill-color);\n",
              "      border-top-color: var(--fill-color);\n",
              "    }\n",
              "    60% {\n",
              "      border-color: transparent;\n",
              "      border-right-color: var(--fill-color);\n",
              "    }\n",
              "    80% {\n",
              "      border-color: transparent;\n",
              "      border-right-color: var(--fill-color);\n",
              "      border-bottom-color: var(--fill-color);\n",
              "    }\n",
              "    90% {\n",
              "      border-color: transparent;\n",
              "      border-bottom-color: var(--fill-color);\n",
              "    }\n",
              "  }\n",
              "</style>\n",
              "\n",
              "      <script>\n",
              "        async function quickchart(key) {\n",
              "          const quickchartButtonEl =\n",
              "            document.querySelector('#' + key + ' button');\n",
              "          quickchartButtonEl.disabled = true;  // To prevent multiple clicks.\n",
              "          quickchartButtonEl.classList.add('colab-df-spinner');\n",
              "          try {\n",
              "            const charts = await google.colab.kernel.invokeFunction(\n",
              "                'suggestCharts', [key], {});\n",
              "          } catch (error) {\n",
              "            console.error('Error during call to suggestCharts:', error);\n",
              "          }\n",
              "          quickchartButtonEl.classList.remove('colab-df-spinner');\n",
              "          quickchartButtonEl.classList.add('colab-df-quickchart-complete');\n",
              "        }\n",
              "        (() => {\n",
              "          let quickchartButtonEl =\n",
              "            document.querySelector('#df-c8a46a13-8d87-4794-a9c2-2a7113dfbf1d button');\n",
              "          quickchartButtonEl.style.display =\n",
              "            google.colab.kernel.accessAllowed ? 'block' : 'none';\n",
              "        })();\n",
              "      </script>\n",
              "    </div>\n",
              "\n",
              "    </div>\n",
              "  </div>\n"
            ],
            "application/vnd.google.colaboratory.intrinsic+json": {
              "type": "dataframe",
              "summary": "{\n  \"name\": \"display(df\",\n  \"rows\": 5,\n  \"fields\": [\n    {\n      \"column\": \"id_planta\",\n      \"properties\": {\n        \"dtype\": \"number\",\n        \"std\": 1,\n        \"min\": 1,\n        \"max\": 5,\n        \"num_unique_values\": 5,\n        \"samples\": [\n          2,\n          5,\n          3\n        ],\n        \"semantic_type\": \"\",\n        \"description\": \"\"\n      }\n    },\n    {\n      \"column\": \"estufa\",\n      \"properties\": {\n        \"dtype\": \"category\",\n        \"num_unique_values\": 2,\n        \"samples\": [\n          \"A\",\n          \"B\"\n        ],\n        \"semantic_type\": \"\",\n        \"description\": \"\"\n      }\n    },\n    {\n      \"column\": \"variedade\",\n      \"properties\": {\n        \"dtype\": \"string\",\n        \"num_unique_values\": 4,\n        \"samples\": [\n          \"Caqui\",\n          \"Roma\"\n        ],\n        \"semantic_type\": \"\",\n        \"description\": \"\"\n      }\n    },\n    {\n      \"column\": \"dose_fertilizante_g\",\n      \"properties\": {\n        \"dtype\": \"number\",\n        \"std\": 3.087482496186217,\n        \"min\": 1.5601864044243652,\n        \"max\": 9.50714306409916,\n        \"num_unique_values\": 5,\n        \"samples\": [\n          9.50714306409916,\n          1.5601864044243652\n        ],\n        \"semantic_type\": \"\",\n        \"description\": \"\"\n      }\n    },\n    {\n      \"column\": \"altura_cm\",\n      \"properties\": {\n        \"dtype\": \"number\",\n        \"std\": 7.078121981232568,\n        \"min\": 22.32342880644859,\n        \"max\": 39.46461875173091,\n        \"num_unique_values\": 5,\n        \"samples\": [\n          39.46461875173091,\n          24.497789544495184\n        ],\n        \"semantic_type\": \"\",\n        \"description\": \"\"\n      }\n    }\n  ]\n}"
            }
          },
          "metadata": {}
        }
      ]
    },
    {
      "cell_type": "code",
      "execution_count": 23,
      "metadata": {
        "id": "CDJiwB3dGuWf",
        "colab": {
          "base_uri": "https://localhost:8080/"
        },
        "outputId": "8289a96d-42c5-42f3-dfd2-f41caf3934d4"
      },
      "outputs": [
        {
          "output_type": "stream",
          "name": "stdout",
          "text": [
            "Parâmetros (const, dose): [15.82667074  2.40829786]\n",
            "                            OLS Regression Results                            \n",
            "==============================================================================\n",
            "Dep. Variable:                      y   R-squared:                       0.858\n",
            "Model:                            OLS   Adj. R-squared:                  0.856\n",
            "Method:                 Least Squares   F-statistic:                     470.3\n",
            "Date:                Wed, 27 Aug 2025   Prob (F-statistic):           9.06e-35\n",
            "Time:                        19:59:30   Log-Likelihood:                -200.85\n",
            "No. Observations:                  80   AIC:                             405.7\n",
            "Df Residuals:                      78   BIC:                             410.5\n",
            "Df Model:                           1                                         \n",
            "Covariance Type:            nonrobust                                         \n",
            "==============================================================================\n",
            "                 coef    std err          t      P>|t|      [0.025      0.975]\n",
            "------------------------------------------------------------------------------\n",
            "const         15.8267      0.618     25.624      0.000      14.597      17.056\n",
            "x1             2.4083      0.111     21.686      0.000       2.187       2.629\n",
            "==============================================================================\n",
            "Omnibus:                       10.004   Durbin-Watson:                   2.020\n",
            "Prob(Omnibus):                  0.007   Jarque-Bera (JB):               10.837\n",
            "Skew:                           0.660   Prob(JB):                      0.00443\n",
            "Kurtosis:                       4.227   Cond. No.                         10.4\n",
            "==============================================================================\n",
            "\n",
            "Notes:\n",
            "[1] Standard Errors assume that the covariance matrix of the errors is correctly specified.\n"
          ]
        }
      ],
      "source": [
        "X = sm.add_constant(df[\"dose_fertilizante_g\"].values)\n",
        "model = sm.OLS(df[\"altura_cm\"].values, X).fit()\n",
        "print(\"Parâmetros (const, dose):\", model.params)\n",
        "print(model.summary())  # resumo completo\n",
        "\n"
      ]
    },
    {
      "cell_type": "markdown",
      "source": [
        "# 4) PREDIÇÕES PARA ALGUNS VALORES DE x"
      ],
      "metadata": {
        "id": "-VP_oxiAAuys"
      }
    },
    {
      "cell_type": "code",
      "source": [
        "def prever_ols_simples(results_ols, x0):\n",
        "    \"\"\"\n",
        "    Predições em x0: média prevista, IC da média e intervalo de predição.\n",
        "    Usa t-Student com df=n-2 (SciPy). Caso SciPy indisponível, usa 1.96 (aprox. Normal).\n",
        "    \"\"\"\n",
        "    x0 = np.asarray(x0, dtype=float)\n",
        "    n = results_ols.nobs\n",
        "    xbar = results_ols.model.exog[:, 1].mean()  # Mean of the independent variable (excluding constant)\n",
        "    Sxx = np.sum((results_ols.model.exog[:, 1] - xbar)**2) # Sum of squares of x (excluding constant)\n",
        "    b0 = results_ols.params[0]\n",
        "    b1 = results_ols.params[1]\n",
        "\n",
        "    medias = b0 + b1 * x0\n",
        "\n",
        "    # Calculate SE for mean and prediction\n",
        "    sigma2_hat = results_ols.mse_resid\n",
        "    SE_mean = np.sqrt(sigma2_hat * (1/n + (x0 - xbar)**2 / Sxx))\n",
        "    SE_pred = np.sqrt(sigma2_hat * (1 + 1/n + (x0 - xbar)**2 / Sxx))\n",
        "\n",
        "    # Get t-critical value (assuming normal errors for simplicity if t distribution is not strictly needed or for approximation)\n",
        "    # Using SciPy for t-distribution if available\n",
        "    #alpha = 0.05\n",
        "    #df = n - 2\n",
        "    #try:\n",
        "    #    t_crit = st.t.ppf(1 - alpha/2, df)\n",
        "    #except Exception:\n",
        "    #    t_crit = 1.96 # Approximate with normal distribution if scipy.stats is not available\n",
        "\n",
        "    # Calculate Confidence and Prediction Intervals\n",
        "    #ic_media_lower = medias - t_crit * SE_mean\n",
        "    #ic_media_upper = medias + t_crit * SE_mean\n",
        "    #ip_lower = medias - t_crit * SE_pred\n",
        "    #ip_upper = medias + t_crit * SE_pred\n",
        "\n",
        "\n",
        "    out = pd.DataFrame({\n",
        "        \"x0\": x0,\n",
        "        \"y_hat\": medias\n",
        "     #   \"IC_media_lower\": ic_media_lower,\n",
        "     #   \"IC_media_upper\": ic_media_upper,\n",
        "     #   \"IP_lower\": ip_lower,\n",
        "     #   \"IP_upper\": ip_upper\n",
        "    })\n",
        "    return out"
      ],
      "metadata": {
        "id": "9R9gAmD2AqSs"
      },
      "execution_count": 24,
      "outputs": []
    },
    {
      "cell_type": "code",
      "source": [
        "x0_vals = np.array([0, 2.5, 5.0, 7.5, 10.0])\n",
        "res = prever_ols_simples(model, x0_vals)\n",
        "print(res)"
      ],
      "metadata": {
        "colab": {
          "base_uri": "https://localhost:8080/"
        },
        "id": "xvpYo3CnF6QP",
        "outputId": "8f588add-93d9-41a1-9430-3d494bddd267"
      },
      "execution_count": 25,
      "outputs": [
        {
          "output_type": "stream",
          "name": "stdout",
          "text": [
            "     x0      y_hat\n",
            "0   0.0  15.826671\n",
            "1   2.5  21.847415\n",
            "2   5.0  27.868160\n",
            "3   7.5  33.888905\n",
            "4  10.0  39.909649\n"
          ]
        }
      ]
    },
    {
      "cell_type": "markdown",
      "source": [
        "# 5) GRÁFICO: DISPERSÃO + RETA AJUSTADA"
      ],
      "metadata": {
        "id": "xOgivL83A08D"
      }
    },
    {
      "cell_type": "code",
      "source": [
        "plt.figure(figsize=(6.5,4.5))\n",
        "plt.scatter(df[\"dose_fertilizante_g\"], df[\"altura_cm\"], label=\"Dados\", color=\"red\")\n",
        "x_plot = np.linspace(df[\"dose_fertilizante_g\"].min(), df[\"dose_fertilizante_g\"].max(), 200)\n",
        "y_plot = model.params[0] + model.params[1] * x_plot\n",
        "plt.plot(x_plot, y_plot, label=\"Reta ajustada (MQO)\")\n",
        "\n",
        "# Add the equation of the line\n",
        "equation = f'y = {model.params[0]:.2f} + {model.params[1]:.2f}x'\n",
        "plt.text(0.05, 0.95, equation, transform=plt.gca().transAxes, fontsize=12,\n",
        "         verticalalignment='top', bbox=dict(boxstyle='round,pad=0.5', fc='wheat', alpha=0.5))\n",
        "\n",
        "plt.xlabel(\"Dose de fertilizante (g por vaso)\")\n",
        "plt.ylabel(\"Altura da planta (cm)\")\n",
        "plt.title(\"\")\n",
        "plt.legend()\n",
        "plt.grid(alpha=0.3)\n",
        "plt.show()"
      ],
      "metadata": {
        "id": "7WFrv6IDAy5N",
        "colab": {
          "base_uri": "https://localhost:8080/",
          "height": 426
        },
        "outputId": "c6ceb7f7-28f7-4114-a974-a3017e96f556"
      },
      "execution_count": 26,
      "outputs": [
        {
          "output_type": "display_data",
          "data": {
            "text/plain": [
              "<Figure size 650x450 with 1 Axes>"
            ],
            "image/png": "[encoded data removed]"
          },
          "metadata": {}
        }
      ]
    },
    {
      "cell_type": "code",
      "source": [
        "r_numpy = np.corrcoef(df[\"dose_fertilizante_g\"], df[\"altura_cm\"])[0,1]\n",
        "print(f\"r (NumPy)   = {r_numpy:.3f}\")"
      ],
      "metadata": {
        "id": "6t6VScWLG4w5",
        "colab": {
          "base_uri": "https://localhost:8080/"
        },
        "outputId": "1af9843a-5ff9-408e-baa9-3f10d00a75b2"
      },
      "execution_count": 27,
      "outputs": [
        {
          "output_type": "stream",
          "name": "stdout",
          "text": [
            "r (NumPy)   = 0.926\n"
          ]
        }
      ]
    },
    {
      "cell_type": "markdown",
      "source": [
        "# 7) DEMONSTRAÇÃO GRÁFICA: r=1, r=-1, r≈0"
      ],
      "metadata": {
        "id": "pYvmTH-UBBCn"
      }
    },
    {
      "cell_type": "code",
      "source": [
        "m = 50\n",
        "x_demo = np.linspace(0, 1, m)\n"
      ],
      "metadata": {
        "id": "LLgtVhTtA-Fs"
      },
      "execution_count": 28,
      "outputs": []
    },
    {
      "cell_type": "markdown",
      "source": [
        "# r = +1 (reta crescente sem ruído)"
      ],
      "metadata": {
        "id": "tz6ruKCzBG4U"
      }
    },
    {
      "cell_type": "code",
      "source": [
        "y_pos = 2 + 3 * x_demo\n",
        "plt.figure(figsize=(4.8,3.6))\n",
        "plt.scatter(x_demo, y_pos)\n",
        "plt.title(\"Correlação r = +1 (positiva perfeita)\")\n",
        "plt.xlabel(\"x\")\n",
        "plt.ylabel(\"y\")\n",
        "plt.grid(alpha=0.3)\n",
        "plt.show()\n",
        "print(\"r=+1 (exato):\")"
      ],
      "metadata": {
        "id": "oOeWgNJ_BFLV",
        "colab": {
          "base_uri": "https://localhost:8080/",
          "height": 397
        },
        "outputId": "36b671d4-9698-406d-f6f6-a1038fd9362a"
      },
      "execution_count": 29,
      "outputs": [
        {
          "output_type": "display_data",
          "data": {
            "text/plain": [
              "<Figure size 480x360 with 1 Axes>"
            ],
            "image/png": "[encoded data removed]"
          },
          "metadata": {}
        },
        {
          "output_type": "stream",
          "name": "stdout",
          "text": [
            "r=+1 (exato):\n"
          ]
        }
      ]
    },
    {
      "cell_type": "markdown",
      "source": [
        "# r = -1 (reta decrescente sem ruído)"
      ],
      "metadata": {
        "id": "kDlS1fjgBKWG"
      }
    },
    {
      "cell_type": "code",
      "source": [
        "y_neg = 5 - 4 * x_demo\n",
        "plt.figure(figsize=(4.8,3.6))\n",
        "plt.scatter(x_demo, y_neg)\n",
        "plt.title(\"Correlação r = -1 (negativa perfeita)\")\n",
        "plt.xlabel(\"x\")\n",
        "plt.ylabel(\"y\")\n",
        "plt.grid(alpha=0.3)\n",
        "plt.show()\n",
        "print(\"r=-1 (exato):\")"
      ],
      "metadata": {
        "id": "iMF6ZSoxBI_H",
        "colab": {
          "base_uri": "https://localhost:8080/",
          "height": 397
        },
        "outputId": "10be6876-91c5-4333-af11-81bf4f90ca0e"
      },
      "execution_count": 30,
      "outputs": [
        {
          "output_type": "display_data",
          "data": {
            "text/plain": [
              "<Figure size 480x360 with 1 Axes>"
            ],
            "image/png": "[encoded data removed]"
          },
          "metadata": {}
        },
        {
          "output_type": "stream",
          "name": "stdout",
          "text": [
            "r=-1 (exato):\n"
          ]
        }
      ]
    },
    {
      "cell_type": "markdown",
      "source": [
        "# r ≈ 0 (sem associação linear)"
      ],
      "metadata": {
        "id": "6P0iRYeDBNi2"
      }
    },
    {
      "cell_type": "code",
      "source": [
        "np.random.seed(123)\n",
        "x_zero = np.random.normal(0, 1, size=m)\n",
        "y_zero = np.random.normal(0, 1, size=m)\n",
        "plt.figure(figsize=(4.8,3.6))\n",
        "plt.scatter(x_zero, y_zero)\n",
        "plt.title(\"Correlação r ≈ 0 (sem associação linear)\")\n",
        "plt.xlabel(\"x\")\n",
        "plt.ylabel(\"y\")\n",
        "plt.grid(alpha=0.3)\n",
        "plt.show()\n",
        "print(\"r≈0 (simulado):\")\n"
      ],
      "metadata": {
        "id": "nn1IfX6-BMQV",
        "colab": {
          "base_uri": "https://localhost:8080/",
          "height": 397
        },
        "outputId": "1a8d3fcd-feff-4419-c33c-6dca474b81a7"
      },
      "execution_count": 31,
      "outputs": [
        {
          "output_type": "display_data",
          "data": {
            "text/plain": [
              "<Figure size 480x360 with 1 Axes>"
            ],
            "image/png": "[encoded data removed]"
          },
          "metadata": {}
        },
        {
          "output_type": "stream",
          "name": "stdout",
          "text": [
            "r≈0 (simulado):\n"
          ]
        }
      ]
    },
    {
      "cell_type": "markdown",
      "source": [],
      "metadata": {
        "id": "aXd7a_O3MqDq"
      }
    },
    {
      "cell_type": "markdown",
      "source": [
        "# Como definir uma função em Python"
      ],
      "metadata": {
        "id": "DYe-WsqpbY32"
      }
    },
    {
      "cell_type": "code",
      "metadata": {
        "id": "bdc43cbe",
        "colab": {
          "base_uri": "https://localhost:8080/"
        },
        "outputId": "54f5671b-b746-4cb6-a905-e4d253a8e752"
      },
      "source": [
        "def criar_funcao_linear(a, b):\n",
        "  \"\"\"\n",
        "  Cria uma função linear y = a*x + b com os parâmetros 'a' e 'b' fornecidos.\n",
        "\n",
        "  Args:\n",
        "    a: O coeficiente angular da reta.\n",
        "    b: O coeficiente linear (intercepto) da reta.\n",
        "\n",
        "  Returns:\n",
        "    Uma função lambda que representa a função linear.\n",
        "  \"\"\"\n",
        "  return lambda x: a * x + b\n",
        "\n",
        "# Exemplo de uso:\n",
        "# Crie uma função linear com a=2 e b=5\n",
        "minha_funcao = criar_funcao_linear(2, 5)\n",
        "print(minha_funcao)\n"
      ],
      "execution_count": 32,
      "outputs": [
        {
          "output_type": "stream",
          "name": "stdout",
          "text": [
            "<function criar_funcao_linear.<locals>.<lambda> at 0x7dc84cb5fd80>\n"
          ]
        }
      ]
    },
    {
      "cell_type": "code",
      "source": [
        "# Calcule o valor de y para um dado x (por exemplo, x=3)\n",
        "y_resultante = minha_funcao(3)\n",
        "print(f\"Para x = 3, y = {y_resultante}\")"
      ],
      "metadata": {
        "id": "xKFy_iqFdYZN",
        "colab": {
          "base_uri": "https://localhost:8080/"
        },
        "outputId": "b7ce08a0-a69e-430a-99b9-d53d47e9e74b"
      },
      "execution_count": 33,
      "outputs": [
        {
          "output_type": "stream",
          "name": "stdout",
          "text": [
            "Para x = 3, y = 11\n"
          ]
        }
      ]
    },
    {
      "cell_type": "code",
      "metadata": {
        "id": "0921b7f6",
        "colab": {
          "base_uri": "https://localhost:8080/"
        },
        "outputId": "9a1c4886-aee4-4eba-8155-cc9ac20089ed"
      },
      "source": [
        "# Solicite ao usuário que insira os valores de 'a' e 'b'\n",
        "try:\n",
        "  a = float(input(\"Digite o valor de 'a': \"))\n",
        "  b = float(input(\"Digite o valor de 'b': \"))\n",
        "  print(f\"Você definiu a função linear: y = {a}x + {b}\")\n",
        "except ValueError:\n",
        "  print(\"Entrada inválida. Por favor, digite números para 'a' e 'b'.\")"
      ],
      "execution_count": 34,
      "outputs": [
        {
          "output_type": "stream",
          "name": "stdout",
          "text": [
            "Digite o valor de 'a': 2\n",
            "Digite o valor de 'b': 3\n",
            "Você definiu a função linear: y = 2.0x + 3.0\n"
          ]
        }
      ]
    },
    {
      "cell_type": "code",
      "metadata": {
        "id": "61d3db42",
        "colab": {
          "base_uri": "https://localhost:8080/",
          "height": 411
        },
        "outputId": "2e26ac97-ff67-4a8d-deb7-61879363454e"
      },
      "source": [
        "# Crie a função linear usando a função definida anteriormente\n",
        "funcao_plot = criar_funcao_linear(a, b)\n",
        "\n",
        "# Gere valores de x para o gráfico\n",
        "x_vals = np.linspace(-10, 10, 100)\n",
        "\n",
        "# Calcule os valores de y correspondentes\n",
        "y_vals = funcao_plot(x_vals)\n",
        "\n",
        "# Plote a função linear\n",
        "plt.figure(figsize=(6, 4))\n",
        "plt.plot(x_vals, y_vals, label=f'y = {a}x + {b}')\n",
        "plt.xlabel('x')\n",
        "plt.ylabel('y')\n",
        "plt.title('Gráfico da Função Linear')\n",
        "plt.legend()\n",
        "plt.grid(True)\n",
        "plt.axhline(0, color='black',linewidth=0.5)\n",
        "plt.axvline(0, color='black',linewidth=0.5)\n",
        "plt.show()"
      ],
      "execution_count": 35,
      "outputs": [
        {
          "output_type": "display_data",
          "data": {
            "text/plain": [
              "<Figure size 600x400 with 1 Axes>"
            ],
            "image/png": "[encoded data removed]"
          },
          "metadata": {}
        }
      ]
    },
    {
      "cell_type": "markdown",
      "metadata": {
        "id": "b6a4f4f6"
      },
      "source": [
        "# Não será avaliado na prova\n",
        "\n",
        "Gere dois conjuntos de dados para ajustar os parâmetros de um modelo de Malthus e um modelo Verhulst na área de ecologia de populações. Faça o gráfico de dispersão de cada um desses modelos e insira no gráfico a curva ajustada."
      ]
    },
    {
      "cell_type": "markdown",
      "metadata": {
        "id": "f17e0ac1"
      },
      "source": [
        "## Gerar dados para o modelo de malthus\n",
        "\n",
        "### Subtask:\n",
        "Simular dados de tamanho populacional ao longo do tempo seguindo um crescimento exponencial (modelo de Malthus) com algum ruído aleatório.\n"
      ]
    },
    {
      "cell_type": "markdown",
      "metadata": {
        "id": "721f950b"
      },
      "source": [
        "**Reasoning**:\n",
        "Simulate population size data following an exponential growth model with random noise and store it in a pandas DataFrame.\n",
        "\n"
      ]
    },
    {
      "cell_type": "code",
      "metadata": {
        "colab": {
          "base_uri": "https://localhost:8080/",
          "height": 206
        },
        "id": "971b49d9",
        "outputId": "13c63fd9-63b8-4042-fa74-b6471c9cb79e"
      },
      "source": [
        "# 1. Defina parâmetros\n",
        "n_inicial = 100  # Tamanho inicial da população\n",
        "taxa_crescimento = 0.1   # Taxa de crescimento intrínseca\n",
        "n_pontos = 50      # Número de pontos no tempo\n",
        "tempo_final = 20     # Tempo final\n",
        "\n",
        "# 2. Gere a série temporal\n",
        "tempo = np.linspace(0, tempo_final, n_pontos)\n",
        "\n",
        "# 3. Calcule o tamanho populacional teórico (Modelo de Malthus)\n",
        "populacao_teorica = n_inicial * np.exp(taxa_crescimento * tempo)\n",
        "\n",
        "# 4. Adicione ruído aleatório\n",
        "np.random.seed(42) # para reprodutibilidade\n",
        "ruido = np.random.normal(0, 15, size=n_pontos) # ruído gaussiano com desvio padrão de 15\n",
        "populacao_observada = populacao_teorica + ruido\n",
        "\n",
        "# Garanta que os valores observados sejam não negativos\n",
        "populacao_observada[populacao_observada < 0] = 0\n",
        "\n",
        "\n",
        "# 5. Crie um DataFrame\n",
        "df_malthus = pd.DataFrame({\n",
        "    \"Tempo\": tempo,\n",
        "    \"Tamanho_Populacao\": populacao_observada\n",
        "})\n",
        "\n",
        "display(df_malthus.head())"
      ],
      "execution_count": 36,
      "outputs": [
        {
          "output_type": "display_data",
          "data": {
            "text/plain": [
              "      Tempo  Tamanho_Populacao\n",
              "0  0.000000         107.450712\n",
              "1  0.408163         102.092112\n",
              "2  0.816327         118.221042\n",
              "3  1.224490         135.871593\n",
              "4  1.632653         114.222600"
            ],
            "text/html": [
              "\n",
              "  <div id=\"df-250779ff-f91d-4ea0-924d-458f60433e7b\" class=\"colab-df-container\">\n",
              "    <div>\n",
              "<style scoped>\n",
              "    .dataframe tbody tr th:only-of-type {\n",
              "        vertical-align: middle;\n",
              "    }\n",
              "\n",
              "    .dataframe tbody tr th {\n",
              "        vertical-align: top;\n",
              "    }\n",
              "\n",
              "    .dataframe thead th {\n",
              "        text-align: right;\n",
              "    }\n",
              "</style>\n",
              "<table border=\"1\" class=\"dataframe\">\n",
              "  <thead>\n",
              "    <tr style=\"text-align: right;\">\n",
              "      <th></th>\n",
              "      <th>Tempo</th>\n",
              "      <th>Tamanho_Populacao</th>\n",
              "    </tr>\n",
              "  </thead>\n",
              "  <tbody>\n",
              "    <tr>\n",
              "      <th>0</th>\n",
              "      <td>0.000000</td>\n",
              "      <td>107.450712</td>\n",
              "    </tr>\n",
              "    <tr>\n",
              "      <th>1</th>\n",
              "      <td>0.408163</td>\n",
              "      <td>102.092112</td>\n",
              "    </tr>\n",
              "    <tr>\n",
              "      <th>2</th>\n",
              "      <td>0.816327</td>\n",
              "      <td>118.221042</td>\n",
              "    </tr>\n",
              "    <tr>\n",
              "      <th>3</th>\n",
              "      <td>1.224490</td>\n",
              "      <td>135.871593</td>\n",
              "    </tr>\n",
              "    <tr>\n",
              "      <th>4</th>\n",
              "      <td>1.632653</td>\n",
              "      <td>114.222600</td>\n",
              "    </tr>\n",
              "  </tbody>\n",
              "</table>\n",
              "</div>\n",
              "    <div class=\"colab-df-buttons\">\n",
              "\n",
              "  <div class=\"colab-df-container\">\n",
              "    <button class=\"colab-df-convert\" onclick=\"convertToInteractive('df-250779ff-f91d-4ea0-924d-458f60433e7b')\"\n",
              "            title=\"Convert this dataframe to an interactive table.\"\n",
              "            style=\"display:none;\">\n",
              "\n",
              "  <svg xmlns=\"http://www.w3.org/2000/svg\" height=\"24px\" viewBox=\"0 -960 960 960\">\n",
              "    <path d=\"M120-120v-720h720v720H120Zm60-500h600v-160H180v160Zm220 220h160v-160H400v160Zm0 220h160v-160H400v160ZM180-400h160v-160H180v160Zm440 0h160v-160H620v160ZM180-180h160v-160H180v160Zm440 0h160v-160H620v160Z\"/>\n",
              "  </svg>\n",
              "    </button>\n",
              "\n",
              "  <style>\n",
              "    .colab-df-container {\n",
              "      display:flex;\n",
              "      gap: 12px;\n",
              "    }\n",
              "\n",
              "    .colab-df-convert {\n",
              "      background-color: #E8F0FE;\n",
              "      border: none;\n",
              "      border-radius: 50%;\n",
              "      cursor: pointer;\n",
              "      display: none;\n",
              "      fill: #1967D2;\n",
              "      height: 32px;\n",
              "      padding: 0 0 0 0;\n",
              "      width: 32px;\n",
              "    }\n",
              "\n",
              "    .colab-df-convert:hover {\n",
              "      background-color: #E2EBFA;\n",
              "      box-shadow: 0px 1px 2px rgba(60, 64, 67, 0.3), 0px 1px 3px 1px rgba(60, 64, 67, 0.15);\n",
              "      fill: #174EA6;\n",
              "    }\n",
              "\n",
              "    .colab-df-buttons div {\n",
              "      margin-bottom: 4px;\n",
              "    }\n",
              "\n",
              "    [theme=dark] .colab-df-convert {\n",
              "      background-color: #3B4455;\n",
              "      fill: #D2E3FC;\n",
              "    }\n",
              "\n",
              "    [theme=dark] .colab-df-convert:hover {\n",
              "      background-color: #434B5C;\n",
              "      box-shadow: 0px 1px 3px 1px rgba(0, 0, 0, 0.15);\n",
              "      filter: drop-shadow(0px 1px 2px rgba(0, 0, 0, 0.3));\n",
              "      fill: #FFFFFF;\n",
              "    }\n",
              "  </style>\n",
              "\n",
              "    <script>\n",
              "      const buttonEl =\n",
              "        document.querySelector('#df-250779ff-f91d-4ea0-924d-458f60433e7b button.colab-df-convert');\n",
              "      buttonEl.style.display =\n",
              "        google.colab.kernel.accessAllowed ? 'block' : 'none';\n",
              "\n",
              "      async function convertToInteractive(key) {\n",
              "        const element = document.querySelector('#df-250779ff-f91d-4ea0-924d-458f60433e7b');\n",
              "        const dataTable =\n",
              "          await google.colab.kernel.invokeFunction('convertToInteractive',\n",
              "                                                    [key], {});\n",
              "        if (!dataTable) return;\n",
              "\n",
              "        const docLinkHtml = 'Like what you see? Visit the ' +\n",
              "          '<a target=\"_blank\" href=https://colab.research.google.com/notebooks/data_table.ipynb>data table notebook</a>'\n",
              "          + ' to learn more about interactive tables.';\n",
              "        element.innerHTML = '';\n",
              "        dataTable['output_type'] = 'display_data';\n",
              "        await google.colab.output.renderOutput(dataTable, element);\n",
              "        const docLink = document.createElement('div');\n",
              "        docLink.innerHTML = docLinkHtml;\n",
              "        element.appendChild(docLink);\n",
              "      }\n",
              "    </script>\n",
              "  </div>\n",
              "\n",
              "\n",
              "    <div id=\"df-b97ba34e-190e-4425-8b79-faca2c278d74\">\n",
              "      <button class=\"colab-df-quickchart\" onclick=\"quickchart('df-b97ba34e-190e-4425-8b79-faca2c278d74')\"\n",
              "                title=\"Suggest charts\"\n",
              "                style=\"display:none;\">\n",
              "\n",
              "<svg xmlns=\"http://www.w3.org/2000/svg\" height=\"24px\"viewBox=\"0 0 24 24\"\n",
              "     width=\"24px\">\n",
              "    <g>\n",
              "        <path d=\"M19 3H5c-1.1 0-2 .9-2 2v14c0 1.1.9 2 2 2h14c1.1 0 2-.9 2-2V5c0-1.1-.9-2-2-2zM9 17H7v-7h2v7zm4 0h-2V7h2v10zm4 0h-2v-4h2v4z\"/>\n",
              "    </g>\n",
              "</svg>\n",
              "      </button>\n",
              "\n",
              "<style>\n",
              "  .colab-df-quickchart {\n",
              "      --bg-color: #E8F0FE;\n",
              "      --fill-color: #1967D2;\n",
              "      --hover-bg-color: #E2EBFA;\n",
              "      --hover-fill-color: #174EA6;\n",
              "      --disabled-fill-color: #AAA;\n",
              "      --disabled-bg-color: #DDD;\n",
              "  }\n",
              "\n",
              "  [theme=dark] .colab-df-quickchart {\n",
              "      --bg-color: #3B4455;\n",
              "      --fill-color: #D2E3FC;\n",
              "      --hover-bg-color: #434B5C;\n",
              "      --hover-fill-color: #FFFFFF;\n",
              "      --disabled-bg-color: #3B4455;\n",
              "      --disabled-fill-color: #666;\n",
              "  }\n",
              "\n",
              "  .colab-df-quickchart {\n",
              "    background-color: var(--bg-color);\n",
              "    border: none;\n",
              "    border-radius: 50%;\n",
              "    cursor: pointer;\n",
              "    display: none;\n",
              "    fill: var(--fill-color);\n",
              "    height: 32px;\n",
              "    padding: 0;\n",
              "    width: 32px;\n",
              "  }\n",
              "\n",
              "  .colab-df-quickchart:hover {\n",
              "    background-color: var(--hover-bg-color);\n",
              "    box-shadow: 0 1px 2px rgba(60, 64, 67, 0.3), 0 1px 3px 1px rgba(60, 64, 67, 0.15);\n",
              "    fill: var(--button-hover-fill-color);\n",
              "  }\n",
              "\n",
              "  .colab-df-quickchart-complete:disabled,\n",
              "  .colab-df-quickchart-complete:disabled:hover {\n",
              "    background-color: var(--disabled-bg-color);\n",
              "    fill: var(--disabled-fill-color);\n",
              "    box-shadow: none;\n",
              "  }\n",
              "\n",
              "  .colab-df-spinner {\n",
              "    border: 2px solid var(--fill-color);\n",
              "    border-color: transparent;\n",
              "    border-bottom-color: var(--fill-color);\n",
              "    animation:\n",
              "      spin 1s steps(1) infinite;\n",
              "  }\n",
              "\n",
              "  @keyframes spin {\n",
              "    0% {\n",
              "      border-color: transparent;\n",
              "      border-bottom-color: var(--fill-color);\n",
              "      border-left-color: var(--fill-color);\n",
              "    }\n",
              "    20% {\n",
              "      border-color: transparent;\n",
              "      border-left-color: var(--fill-color);\n",
              "      border-top-color: var(--fill-color);\n",
              "    }\n",
              "    30% {\n",
              "      border-color: transparent;\n",
              "      border-left-color: var(--fill-color);\n",
              "      border-top-color: var(--fill-color);\n",
              "      border-right-color: var(--fill-color);\n",
              "    }\n",
              "    40% {\n",
              "      border-color: transparent;\n",
              "      border-right-color: var(--fill-color);\n",
              "      border-top-color: var(--fill-color);\n",
              "    }\n",
              "    60% {\n",
              "      border-color: transparent;\n",
              "      border-right-color: var(--fill-color);\n",
              "    }\n",
              "    80% {\n",
              "      border-color: transparent;\n",
              "      border-right-color: var(--fill-color);\n",
              "      border-bottom-color: var(--fill-color);\n",
              "    }\n",
              "    90% {\n",
              "      border-color: transparent;\n",
              "      border-bottom-color: var(--fill-color);\n",
              "    }\n",
              "  }\n",
              "</style>\n",
              "\n",
              "      <script>\n",
              "        async function quickchart(key) {\n",
              "          const quickchartButtonEl =\n",
              "            document.querySelector('#' + key + ' button');\n",
              "          quickchartButtonEl.disabled = true;  // To prevent multiple clicks.\n",
              "          quickchartButtonEl.classList.add('colab-df-spinner');\n",
              "          try {\n",
              "            const charts = await google.colab.kernel.invokeFunction(\n",
              "                'suggestCharts', [key], {});\n",
              "          } catch (error) {\n",
              "            console.error('Error during call to suggestCharts:', error);\n",
              "          }\n",
              "          quickchartButtonEl.classList.remove('colab-df-spinner');\n",
              "          quickchartButtonEl.classList.add('colab-df-quickchart-complete');\n",
              "        }\n",
              "        (() => {\n",
              "          let quickchartButtonEl =\n",
              "            document.querySelector('#df-b97ba34e-190e-4425-8b79-faca2c278d74 button');\n",
              "          quickchartButtonEl.style.display =\n",
              "            google.colab.kernel.accessAllowed ? 'block' : 'none';\n",
              "        })();\n",
              "      </script>\n",
              "    </div>\n",
              "\n",
              "    </div>\n",
              "  </div>\n"
            ],
            "application/vnd.google.colaboratory.intrinsic+json": {
              "type": "dataframe",
              "summary": "{\n  \"name\": \"display(df_malthus\",\n  \"rows\": 5,\n  \"fields\": [\n    {\n      \"column\": \"Tempo\",\n      \"properties\": {\n        \"dtype\": \"number\",\n        \"std\": 0.6453627877894652,\n        \"min\": 0.0,\n        \"max\": 1.6326530612244898,\n        \"num_unique_values\": 5,\n        \"samples\": [\n          0.40816326530612246,\n          1.6326530612244898,\n          0.8163265306122449\n        ],\n        \"semantic_type\": \"\",\n        \"description\": \"\"\n      }\n    },\n    {\n      \"column\": \"Tamanho_Populacao\",\n      \"properties\": {\n        \"dtype\": \"number\",\n        \"std\": 12.928403671887741,\n        \"min\": 102.09211173518432,\n        \"max\": 135.87159306634857,\n        \"num_unique_values\": 5,\n        \"samples\": [\n          102.09211173518432,\n          114.22259999479918,\n          118.22104249045204\n        ],\n        \"semantic_type\": \"\",\n        \"description\": \"\"\n      }\n    }\n  ]\n}"
            }
          },
          "metadata": {}
        }
      ]
    },
    {
      "cell_type": "markdown",
      "metadata": {
        "id": "d0ae1803"
      },
      "source": [
        "## Estimar parâmetros do modelo de malthus\n",
        "\n",
        "### Subtask:\n",
        "Ajustar um modelo exponencial aos dados gerados para estimar a taxa de crescimento intrínseca. Isso pode ser feito linearizando o modelo (tomando o logaritmo) e usando regressão linear, ou usando regressão não linear.\n"
      ]
    },
    {
      "cell_type": "markdown",
      "metadata": {
        "id": "18639523"
      },
      "source": [
        "**Reasoning**:\n",
        "Apply a logarithmic transformation to the 'Tamanho_Populacao' column and then fit a linear regression model to estimate the parameters for the Malthus model.\n",
        "\n"
      ]
    },
    {
      "cell_type": "code",
      "metadata": {
        "colab": {
          "base_uri": "https://localhost:8080/"
        },
        "id": "80c74b18",
        "outputId": "dd0017e8-e4d2-462b-87dc-8c5fcf102eec"
      },
      "source": [
        "df_malthus['log_Tamanho_Populacao'] = np.log(df_malthus['Tamanho_Populacao'])\n",
        "\n",
        "# Adjust linear model\n",
        "X = sm.add_constant(df_malthus['Tempo']) # independent variable\n",
        "y = df_malthus['log_Tamanho_Populacao'] # dependent variable\n",
        "model_linear = sm.OLS(y, X).fit()\n",
        "\n",
        "# Extract parameters\n",
        "intercept_estimated = model_linear.params[0]\n",
        "slope_estimated = model_linear.params[1]\n",
        "\n",
        "# Estimate initial population and growth rate\n",
        "N0_estimated = np.exp(intercept_estimated)\n",
        "taxa_crescimento_estimada = slope_estimated\n",
        "\n",
        "# Print estimated values\n",
        "print(\"=== Parâmetros estimados para o Modelo de Malthus (Linearização) ===\")\n",
        "print(f\"Tamanho Populacional Inicial Estimado (N0): {N0_estimated:.3f}\")\n",
        "print(f\"Taxa de Crescimento Intrínseca Estimada (r): {taxa_crescimento_estimada:.3f}\")"
      ],
      "execution_count": 37,
      "outputs": [
        {
          "output_type": "stream",
          "name": "stdout",
          "text": [
            "=== Parâmetros estimados para o Modelo de Malthus (Linearização) ===\n",
            "Tamanho Populacional Inicial Estimado (N0): 100.748\n",
            "Taxa de Crescimento Intrínseca Estimada (r): 0.098\n"
          ]
        },
        {
          "output_type": "stream",
          "name": "stderr",
          "text": [
            "/tmp/ipython-input-3269286419.py:9: FutureWarning: Series.__getitem__ treating keys as positions is deprecated. In a future version, integer keys will always be treated as labels (consistent with DataFrame behavior). To access a value by position, use `ser.iloc[pos]`\n",
            "  intercept_estimated = model_linear.params[0]\n",
            "/tmp/ipython-input-3269286419.py:10: FutureWarning: Series.__getitem__ treating keys as positions is deprecated. In a future version, integer keys will always be treated as labels (consistent with DataFrame behavior). To access a value by position, use `ser.iloc[pos]`\n",
            "  slope_estimated = model_linear.params[1]\n"
          ]
        }
      ]
    },
    {
      "cell_type": "markdown",
      "metadata": {
        "id": "9f973a10"
      },
      "source": [
        "## Gerar gráfico para o modelo de malthus\n",
        "\n",
        "### Subtask:\n",
        "Criar um gráfico de dispersão dos dados simulados e adicionar a curva exponencial ajustada.\n"
      ]
    },
    {
      "cell_type": "markdown",
      "metadata": {
        "id": "13150d2c"
      },
      "source": [
        "**Reasoning**:\n",
        "Create a scatter plot of the observed data and add the fitted exponential curve to the plot.\n",
        "\n"
      ]
    },
    {
      "cell_type": "code",
      "metadata": {
        "colab": {
          "base_uri": "https://localhost:8080/",
          "height": 564
        },
        "id": "228bfb70",
        "outputId": "2995d128-c9ff-4786-dbfc-24b538a96001"
      },
      "source": [
        "# 1. Create a figure and axes\n",
        "fig, ax = plt.figure(figsize=(8, 6)), plt.axes()\n",
        "\n",
        "# 2. Create a scatter plot of the observed data\n",
        "ax.scatter(df_malthus['Tempo'], df_malthus['Tamanho_Populacao'], label=\"Dados observados\", color=\"red\")\n",
        "\n",
        "# 3. Generate time values for the fitted curve\n",
        "tempo_para_curva = np.linspace(df_malthus['Tempo'].min(), df_malthus['Tempo'].max(), 100)\n",
        "\n",
        "# 4. Calculate the estimated population values for the fitted curve\n",
        "populacao_estimada = N0_estimated * np.exp(taxa_crescimento_estimada * tempo_para_curva)\n",
        "\n",
        "# 5. Plot the fitted exponential curve\n",
        "ax.plot(tempo_para_curva, populacao_estimada, label=\"Curva ajustada (Malthus)\")\n",
        "\n",
        "# 6. Add labels to the axes\n",
        "ax.set_xlabel(\"Tempo\")\n",
        "ax.set_ylabel(\"Tamanho Populacional\")\n",
        "\n",
        "# 7. Add a title to the plot\n",
        "ax.set_title(\"Crescimento Populacional - Modelo de Malthus\")\n",
        "\n",
        "# 8. Add a legend to the plot\n",
        "ax.legend()\n",
        "\n",
        "# 9. Add a grid to the plot\n",
        "ax.grid(alpha=0.3)\n",
        "\n",
        "# 10. Display the plot\n",
        "plt.show()"
      ],
      "execution_count": 38,
      "outputs": [
        {
          "output_type": "display_data",
          "data": {
            "text/plain": [
              "<Figure size 800x600 with 1 Axes>"
            ],
            "image/png": "[encoded data removed]"
          },
          "metadata": {}
        }
      ]
    },
    {
      "cell_type": "markdown",
      "metadata": {
        "id": "6781fc1a"
      },
      "source": [
        "## Gerar dados para o modelo de verhulst\n",
        "\n",
        "### Subtask:\n",
        "Simular dados de tamanho populacional ao longo do tempo seguindo um crescimento logístico (modelo de Verhulst), incluindo a capacidade de suporte do ambiente e algum ruído aleatório.\n"
      ]
    },
    {
      "cell_type": "markdown",
      "metadata": {
        "id": "f486d3e8"
      },
      "source": [
        "**Reasoning**:\n",
        "Define the parameters for the Verhulst model simulation and generate the time series and theoretical population values.\n",
        "\n"
      ]
    },
    {
      "cell_type": "code",
      "metadata": {
        "colab": {
          "base_uri": "https://localhost:8080/",
          "height": 206
        },
        "id": "1778463e",
        "outputId": "3a38c78c-6464-4909-b355-9489e3cf0541"
      },
      "source": [
        "# 1. Defina os parâmetros para a simulação do modelo de Verhulst\n",
        "n_inicial_verhulst = 10  # Tamanho inicial da população\n",
        "taxa_crescimento_verhulst = 0.5   # Taxa de crescimento intrínseca\n",
        "capacidade_suporte = 500 # Capacidade de suporte do ambiente\n",
        "n_pontos_verhulst = 100      # Número de pontos no tempo\n",
        "tempo_final_verhulst = 50     # Tempo final\n",
        "\n",
        "# 2. Gere uma série temporal\n",
        "tempo_verhulst = np.linspace(0, tempo_final_verhulst, n_pontos_verhulst)\n",
        "\n",
        "# 3. Calcule o tamanho populacional teórico (Modelo de Verhulst)\n",
        "populacao_teorica_verhulst = capacidade_suporte * n_inicial_verhulst / (n_inicial_verhulst + (capacidade_suporte - n_inicial_verhulst) * np.exp(-taxa_crescimento_verhulst * tempo_verhulst))\n",
        "\n",
        "# 4. Adicione ruído aleatório\n",
        "np.random.seed(42) # para reprodutibilidade\n",
        "ruido_verhulst = np.random.normal(0, 20, size=n_pontos_verhulst) # ruído gaussiano com desvio padrão de 20\n",
        "populacao_observada_verhulst = populacao_teorica_verhulst + ruido_verhulst\n",
        "\n",
        "# 5. Garanta que os valores de população observados sejam não negativos\n",
        "populacao_observada_verhulst[populacao_observada_verhulst < 0] = 0\n",
        "\n",
        "# 6. Crie um DataFrame pandas\n",
        "df_verhulst = pd.DataFrame({\n",
        "    \"Tempo\": tempo_verhulst,\n",
        "    \"Tamanho_Populacao\": populacao_observada_verhulst\n",
        "})\n",
        "\n",
        "# 7. Exiba as primeiras linhas do DataFrame resultante\n",
        "display(df_verhulst.head())"
      ],
      "execution_count": 39,
      "outputs": [
        {
          "output_type": "display_data",
          "data": {
            "text/plain": [
              "      Tempo  Tamanho_Populacao\n",
              "0  0.000000          19.934283\n",
              "1  0.505051          10.033897\n",
              "2  1.010101          29.309526\n",
              "3  1.515152          51.318895\n",
              "4  2.020202          21.849271"
            ],
            "text/html": [
              "\n",
              "  <div id=\"df-1687e64c-ce06-40c3-a1c0-6c92b7adf1d0\" class=\"colab-df-container\">\n",
              "    <div>\n",
              "<style scoped>\n",
              "    .dataframe tbody tr th:only-of-type {\n",
              "        vertical-align: middle;\n",
              "    }\n",
              "\n",
              "    .dataframe tbody tr th {\n",
              "        vertical-align: top;\n",
              "    }\n",
              "\n",
              "    .dataframe thead th {\n",
              "        text-align: right;\n",
              "    }\n",
              "</style>\n",
              "<table border=\"1\" class=\"dataframe\">\n",
              "  <thead>\n",
              "    <tr style=\"text-align: right;\">\n",
              "      <th></th>\n",
              "      <th>Tempo</th>\n",
              "      <th>Tamanho_Populacao</th>\n",
              "    </tr>\n",
              "  </thead>\n",
              "  <tbody>\n",
              "    <tr>\n",
              "      <th>0</th>\n",
              "      <td>0.000000</td>\n",
              "      <td>19.934283</td>\n",
              "    </tr>\n",
              "    <tr>\n",
              "      <th>1</th>\n",
              "      <td>0.505051</td>\n",
              "      <td>10.033897</td>\n",
              "    </tr>\n",
              "    <tr>\n",
              "      <th>2</th>\n",
              "      <td>1.010101</td>\n",
              "      <td>29.309526</td>\n",
              "    </tr>\n",
              "    <tr>\n",
              "      <th>3</th>\n",
              "      <td>1.515152</td>\n",
              "      <td>51.318895</td>\n",
              "    </tr>\n",
              "    <tr>\n",
              "      <th>4</th>\n",
              "      <td>2.020202</td>\n",
              "      <td>21.849271</td>\n",
              "    </tr>\n",
              "  </tbody>\n",
              "</table>\n",
              "</div>\n",
              "    <div class=\"colab-df-buttons\">\n",
              "\n",
              "  <div class=\"colab-df-container\">\n",
              "    <button class=\"colab-df-convert\" onclick=\"convertToInteractive('df-1687e64c-ce06-40c3-a1c0-6c92b7adf1d0')\"\n",
              "            title=\"Convert this dataframe to an interactive table.\"\n",
              "            style=\"display:none;\">\n",
              "\n",
              "  <svg xmlns=\"http://www.w3.org/2000/svg\" height=\"24px\" viewBox=\"0 -960 960 960\">\n",
              "    <path d=\"M120-120v-720h720v720H120Zm60-500h600v-160H180v160Zm220 220h160v-160H400v160Zm0 220h160v-160H400v160ZM180-400h160v-160H180v160Zm440 0h160v-160H620v160ZM180-180h160v-160H180v160Zm440 0h160v-160H620v160Z\"/>\n",
              "  </svg>\n",
              "    </button>\n",
              "\n",
              "  <style>\n",
              "    .colab-df-container {\n",
              "      display:flex;\n",
              "      gap: 12px;\n",
              "    }\n",
              "\n",
              "    .colab-df-convert {\n",
              "      background-color: #E8F0FE;\n",
              "      border: none;\n",
              "      border-radius: 50%;\n",
              "      cursor: pointer;\n",
              "      display: none;\n",
              "      fill: #1967D2;\n",
              "      height: 32px;\n",
              "      padding: 0 0 0 0;\n",
              "      width: 32px;\n",
              "    }\n",
              "\n",
              "    .colab-df-convert:hover {\n",
              "      background-color: #E2EBFA;\n",
              "      box-shadow: 0px 1px 2px rgba(60, 64, 67, 0.3), 0px 1px 3px 1px rgba(60, 64, 67, 0.15);\n",
              "      fill: #174EA6;\n",
              "    }\n",
              "\n",
              "    .colab-df-buttons div {\n",
              "      margin-bottom: 4px;\n",
              "    }\n",
              "\n",
              "    [theme=dark] .colab-df-convert {\n",
              "      background-color: #3B4455;\n",
              "      fill: #D2E3FC;\n",
              "    }\n",
              "\n",
              "    [theme=dark] .colab-df-convert:hover {\n",
              "      background-color: #434B5C;\n",
              "      box-shadow: 0px 1px 3px 1px rgba(0, 0, 0, 0.15);\n",
              "      filter: drop-shadow(0px 1px 2px rgba(0, 0, 0, 0.3));\n",
              "      fill: #FFFFFF;\n",
              "    }\n",
              "  </style>\n",
              "\n",
              "    <script>\n",
              "      const buttonEl =\n",
              "        document.querySelector('#df-1687e64c-ce06-40c3-a1c0-6c92b7adf1d0 button.colab-df-convert');\n",
              "      buttonEl.style.display =\n",
              "        google.colab.kernel.accessAllowed ? 'block' : 'none';\n",
              "\n",
              "      async function convertToInteractive(key) {\n",
              "        const element = document.querySelector('#df-1687e64c-ce06-40c3-a1c0-6c92b7adf1d0');\n",
              "        const dataTable =\n",
              "          await google.colab.kernel.invokeFunction('convertToInteractive',\n",
              "                                                    [key], {});\n",
              "        if (!dataTable) return;\n",
              "\n",
              "        const docLinkHtml = 'Like what you see? Visit the ' +\n",
              "          '<a target=\"_blank\" href=https://colab.research.google.com/notebooks/data_table.ipynb>data table notebook</a>'\n",
              "          + ' to learn more about interactive tables.';\n",
              "        element.innerHTML = '';\n",
              "        dataTable['output_type'] = 'display_data';\n",
              "        await google.colab.output.renderOutput(dataTable, element);\n",
              "        const docLink = document.createElement('div');\n",
              "        docLink.innerHTML = docLinkHtml;\n",
              "        element.appendChild(docLink);\n",
              "      }\n",
              "    </script>\n",
              "  </div>\n",
              "\n",
              "\n",
              "    <div id=\"df-37cf4a63-4f20-4d1e-926b-606d65d748fe\">\n",
              "      <button class=\"colab-df-quickchart\" onclick=\"quickchart('df-37cf4a63-4f20-4d1e-926b-606d65d748fe')\"\n",
              "                title=\"Suggest charts\"\n",
              "                style=\"display:none;\">\n",
              "\n",
              "<svg xmlns=\"http://www.w3.org/2000/svg\" height=\"24px\"viewBox=\"0 0 24 24\"\n",
              "     width=\"24px\">\n",
              "    <g>\n",
              "        <path d=\"M19 3H5c-1.1 0-2 .9-2 2v14c0 1.1.9 2 2 2h14c1.1 0 2-.9 2-2V5c0-1.1-.9-2-2-2zM9 17H7v-7h2v7zm4 0h-2V7h2v10zm4 0h-2v-4h2v4z\"/>\n",
              "    </g>\n",
              "</svg>\n",
              "      </button>\n",
              "\n",
              "<style>\n",
              "  .colab-df-quickchart {\n",
              "      --bg-color: #E8F0FE;\n",
              "      --fill-color: #1967D2;\n",
              "      --hover-bg-color: #E2EBFA;\n",
              "      --hover-fill-color: #174EA6;\n",
              "      --disabled-fill-color: #AAA;\n",
              "      --disabled-bg-color: #DDD;\n",
              "  }\n",
              "\n",
              "  [theme=dark] .colab-df-quickchart {\n",
              "      --bg-color: #3B4455;\n",
              "      --fill-color: #D2E3FC;\n",
              "      --hover-bg-color: #434B5C;\n",
              "      --hover-fill-color: #FFFFFF;\n",
              "      --disabled-bg-color: #3B4455;\n",
              "      --disabled-fill-color: #666;\n",
              "  }\n",
              "\n",
              "  .colab-df-quickchart {\n",
              "    background-color: var(--bg-color);\n",
              "    border: none;\n",
              "    border-radius: 50%;\n",
              "    cursor: pointer;\n",
              "    display: none;\n",
              "    fill: var(--fill-color);\n",
              "    height: 32px;\n",
              "    padding: 0;\n",
              "    width: 32px;\n",
              "  }\n",
              "\n",
              "  .colab-df-quickchart:hover {\n",
              "    background-color: var(--hover-bg-color);\n",
              "    box-shadow: 0 1px 2px rgba(60, 64, 67, 0.3), 0 1px 3px 1px rgba(60, 64, 67, 0.15);\n",
              "    fill: var(--button-hover-fill-color);\n",
              "  }\n",
              "\n",
              "  .colab-df-quickchart-complete:disabled,\n",
              "  .colab-df-quickchart-complete:disabled:hover {\n",
              "    background-color: var(--disabled-bg-color);\n",
              "    fill: var(--disabled-fill-color);\n",
              "    box-shadow: none;\n",
              "  }\n",
              "\n",
              "  .colab-df-spinner {\n",
              "    border: 2px solid var(--fill-color);\n",
              "    border-color: transparent;\n",
              "    border-bottom-color: var(--fill-color);\n",
              "    animation:\n",
              "      spin 1s steps(1) infinite;\n",
              "  }\n",
              "\n",
              "  @keyframes spin {\n",
              "    0% {\n",
              "      border-color: transparent;\n",
              "      border-bottom-color: var(--fill-color);\n",
              "      border-left-color: var(--fill-color);\n",
              "    }\n",
              "    20% {\n",
              "      border-color: transparent;\n",
              "      border-left-color: var(--fill-color);\n",
              "      border-top-color: var(--fill-color);\n",
              "    }\n",
              "    30% {\n",
              "      border-color: transparent;\n",
              "      border-left-color: var(--fill-color);\n",
              "      border-top-color: var(--fill-color);\n",
              "      border-right-color: var(--fill-color);\n",
              "    }\n",
              "    40% {\n",
              "      border-color: transparent;\n",
              "      border-right-color: var(--fill-color);\n",
              "      border-top-color: var(--fill-color);\n",
              "    }\n",
              "    60% {\n",
              "      border-color: transparent;\n",
              "      border-right-color: var(--fill-color);\n",
              "    }\n",
              "    80% {\n",
              "      border-color: transparent;\n",
              "      border-right-color: var(--fill-color);\n",
              "      border-bottom-color: var(--fill-color);\n",
              "    }\n",
              "    90% {\n",
              "      border-color: transparent;\n",
              "      border-bottom-color: var(--fill-color);\n",
              "    }\n",
              "  }\n",
              "</style>\n",
              "\n",
              "      <script>\n",
              "        async function quickchart(key) {\n",
              "          const quickchartButtonEl =\n",
              "            document.querySelector('#' + key + ' button');\n",
              "          quickchartButtonEl.disabled = true;  // To prevent multiple clicks.\n",
              "          quickchartButtonEl.classList.add('colab-df-spinner');\n",
              "          try {\n",
              "            const charts = await google.colab.kernel.invokeFunction(\n",
              "                'suggestCharts', [key], {});\n",
              "          } catch (error) {\n",
              "            console.error('Error during call to suggestCharts:', error);\n",
              "          }\n",
              "          quickchartButtonEl.classList.remove('colab-df-spinner');\n",
              "          quickchartButtonEl.classList.add('colab-df-quickchart-complete');\n",
              "        }\n",
              "        (() => {\n",
              "          let quickchartButtonEl =\n",
              "            document.querySelector('#df-37cf4a63-4f20-4d1e-926b-606d65d748fe button');\n",
              "          quickchartButtonEl.style.display =\n",
              "            google.colab.kernel.accessAllowed ? 'block' : 'none';\n",
              "        })();\n",
              "      </script>\n",
              "    </div>\n",
              "\n",
              "    </div>\n",
              "  </div>\n"
            ],
            "application/vnd.google.colaboratory.intrinsic+json": {
              "type": "dataframe",
              "summary": "{\n  \"name\": \"display(df_verhulst\",\n  \"rows\": 5,\n  \"fields\": [\n    {\n      \"column\": \"Tempo\",\n      \"properties\": {\n        \"dtype\": \"number\",\n        \"std\": 0.7985549646889847,\n        \"min\": 0.0,\n        \"max\": 2.0202020202020203,\n        \"num_unique_values\": 5,\n        \"samples\": [\n          0.5050505050505051,\n          2.0202020202020203,\n          1.0101010101010102\n        ],\n        \"semantic_type\": \"\",\n        \"description\": \"\"\n      }\n    },\n    {\n      \"column\": \"Tamanho_Populacao\",\n      \"properties\": {\n        \"dtype\": \"number\",\n        \"std\": 15.489842253509432,\n        \"min\": 10.033897063563206,\n        \"max\": 51.31889487343736,\n        \"num_unique_values\": 5,\n        \"samples\": [\n          10.033897063563206,\n          21.84927140242247,\n          29.309525591456303\n        ],\n        \"semantic_type\": \"\",\n        \"description\": \"\"\n      }\n    }\n  ]\n}"
            }
          },
          "metadata": {}
        }
      ]
    },
    {
      "cell_type": "markdown",
      "metadata": {
        "id": "b8409fa2"
      },
      "source": [
        "## Estimar parâmetros do modelo de verhulst\n",
        "\n",
        "### Subtask:\n",
        "Ajustar um modelo logístico (não linear) aos dados gerados para estimar a taxa de crescimento e a capacidade de suporte. Isso geralmente requer métodos de otimização para regressão não linear.\n"
      ]
    },
    {
      "cell_type": "markdown",
      "metadata": {
        "id": "5abf4acf"
      },
      "source": [
        "**Reasoning**:\n",
        "Import the necessary function for curve fitting and define the logistic model function.\n",
        "\n"
      ]
    },
    {
      "cell_type": "code",
      "metadata": {
        "id": "3e394377"
      },
      "source": [
        "from scipy.optimize import curve_fit\n",
        "\n",
        "def verhulst_model(t, K, r):\n",
        "    \"\"\"\n",
        "    Logistic growth model (Verhulst).\n",
        "\n",
        "    Args:\n",
        "        t: Time.\n",
        "        K: Carrying capacity.\n",
        "        r: Intrinsic growth rate.\n",
        "\n",
        "    Returns:\n",
        "        Population size at time t.\n",
        "    \"\"\"\n",
        "    N0 = df_verhulst[\"Tamanho_Populacao\"].iloc[0] # Use the first observed value as initial population\n",
        "    return K * N0 / (N0 + (K - N0) * np.exp(-r * t))\n"
      ],
      "execution_count": 40,
      "outputs": []
    },
    {
      "cell_type": "markdown",
      "metadata": {
        "id": "3456a27f"
      },
      "source": [
        "**Reasoning**:\n",
        "Fit the defined logistic model to the generated data and extract the estimated parameters.\n",
        "\n"
      ]
    },
    {
      "cell_type": "code",
      "metadata": {
        "colab": {
          "base_uri": "https://localhost:8080/"
        },
        "id": "04e852f6",
        "outputId": "ed817d66-ef2f-430d-9497-a11d63a1ddd4"
      },
      "source": [
        "# Use curve_fit to fit the Verhulst model to the data\n",
        "# Provide initial guesses for K and r\n",
        "# Initial guess for K can be the maximum population observed\n",
        "# Initial guess for r can be estimated from the Malthus growth phase or simply a small positive value\n",
        "initial_guess = [df_verhulst[\"Tamanho_Populacao\"].max(), 0.1]\n",
        "\n",
        "params_verhulst, covariance = curve_fit(verhulst_model, df_verhulst[\"Tempo\"], df_verhulst[\"Tamanho_Populacao\"], p0=initial_guess)\n",
        "\n",
        "# Extract the estimated parameters\n",
        "K_estimated = params_verhulst[0]\n",
        "r_estimated = params_verhulst[1]\n",
        "\n",
        "# Print the estimated parameters\n",
        "print(\"\\n=== Parâmetros estimados para o Modelo de Verhulst (Regressão Não Linear) ===\")\n",
        "print(f\"Capacidade de Suporte Estimada (K): {K_estimated:.3f}\")\n",
        "print(f\"Taxa de Crescimento Intrínseca Estimada (r): {r_estimated:.3f}\")"
      ],
      "execution_count": 41,
      "outputs": [
        {
          "output_type": "stream",
          "name": "stdout",
          "text": [
            "\n",
            "=== Parâmetros estimados para o Modelo de Verhulst (Regressão Não Linear) ===\n",
            "Capacidade de Suporte Estimada (K): 500.874\n",
            "Taxa de Crescimento Intrínseca Estimada (r): 0.406\n"
          ]
        }
      ]
    },
    {
      "cell_type": "markdown",
      "metadata": {
        "id": "0347a3c4"
      },
      "source": [
        "## Gerar gráfico para o modelo de verhulst\n",
        "\n",
        "### Subtask:\n",
        "Criar um gráfico de dispersão dos dados simulados e adicionar a curva logística ajustada.\n"
      ]
    },
    {
      "cell_type": "markdown",
      "metadata": {
        "id": "1fc8d74f"
      },
      "source": [
        "**Reasoning**:\n",
        "Create a scatter plot of the simulated data and add the fitted logistic curve, as well as labels, title, legend, and grid.\n",
        "\n"
      ]
    },
    {
      "cell_type": "code",
      "metadata": {
        "colab": {
          "base_uri": "https://localhost:8080/",
          "height": 564
        },
        "id": "43e6df86",
        "outputId": "403b9dc1-aadb-4fce-f72b-287cd3e67bf6"
      },
      "source": [
        "# 1. Crie uma figura e eixos para o gráfico usando matplotlib.pyplot.\n",
        "plt.figure(figsize=(8, 6))\n",
        "\n",
        "# 2. Crie um gráfico de dispersão dos dados de população observados\n",
        "plt.scatter(df_verhulst['Tempo'], df_verhulst['Tamanho_Populacao'], label=\"Dados observados\", color=\"red\")\n",
        "\n",
        "# 3. Gere uma sequência de valores de tempo para a curva ajustada\n",
        "tempo_para_curva_verhulst = np.linspace(df_verhulst['Tempo'].min(), df_verhulst['Tempo'].max(), 200)\n",
        "\n",
        "# 4. Calcule os valores de população estimados para a curva ajustada\n",
        "populacao_estimada_verhulst = verhulst_model(tempo_para_curva_verhulst, K_estimated, r_estimated)\n",
        "\n",
        "# 5. Plote a curva logística ajustada\n",
        "plt.plot(tempo_para_curva_verhulst, populacao_estimada_verhulst, label=\"Curva ajustada (Verhulst)\", color=\"blue\")\n",
        "\n",
        "# 6. Adicione rótulos adequados para os eixos x e y\n",
        "plt.xlabel(\"Tempo\")\n",
        "plt.ylabel(\"Tamanho Populacional\")\n",
        "\n",
        "# 7. Adicione um título ao gráfico\n",
        "plt.title(\"Crescimento Populacional - Modelo de Verhulst\")\n",
        "\n",
        "# 8. Adicione uma legenda ao gráfico\n",
        "plt.legend()\n",
        "\n",
        "# 9. Adicione uma grade ao gráfico\n",
        "plt.grid(alpha=0.3)\n",
        "\n",
        "# 10. Exiba o gráfico\n",
        "plt.show()"
      ],
      "execution_count": 42,
      "outputs": [
        {
          "output_type": "display_data",
          "data": {
            "text/plain": [
              "<Figure size 800x600 with 1 Axes>"
            ],
            "image/png": "[encoded data removed]"
          },
          "metadata": {}
        }
      ]
    },
    {
      "cell_type": "markdown",
      "metadata": {
        "id": "d8af5420"
      },
      "source": [
        "## Summary:\n",
        "\n",
        "### Data Analysis Key Findings\n",
        "\n",
        "*   For the Malthus model, the estimated initial population size was approximately 100.748, and the estimated intrinsic growth rate was approximately 0.098, obtained through linearizing the model and using linear regression.\n",
        "*   The plot for the Malthus model shows that the fitted exponential curve closely follows the trend of the simulated data, which exhibits exponential growth with some noise.\n",
        "*   For the Verhulst model, the estimated carrying capacity was approximately 500.874, and the estimated intrinsic growth rate was approximately 0.406, obtained by fitting a non-linear logistic model using `scipy.optimize.curve_fit`.\n",
        "*   The plot for the Verhulst model shows the simulated data points following a logistic growth pattern, leveling off around the estimated carrying capacity, and the fitted logistic curve accurately represents this trend.\n",
        "\n",
        "### Insights or Next Steps\n",
        "\n",
        "*   The fitting process successfully estimated the key parameters for both the Malthus and Verhulst models from simulated data, demonstrating the applicability of these methods for analyzing population growth patterns.\n",
        "*   Further analysis could involve comparing the goodness-of-fit for each model to determine which better describes a given real-world population dataset, considering factors like the presence of environmental limitations.\n"
      ]
    }
  ]
}