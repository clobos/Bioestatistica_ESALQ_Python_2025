{
  "nbformat": 4,
  "nbformat_minor": 0,
  "metadata": {
    "colab": {
      "provenance": [],
      "authorship_tag": "ABX9TyPTEQ2zgYEeMfOOg9HW0M+d",
      "include_colab_link": true
    },
    "kernelspec": {
      "name": "python3",
      "display_name": "Python 3"
    },
    "language_info": {
      "name": "python"
    }
  },
  "cells": [
    {
      "cell_type": "markdown",
      "metadata": {
        "id": "view-in-github",
        "colab_type": "text"
      },
      "source": [
        "<a href=\"https://colab.research.google.com/github/clobos/Bioestatistica_ESALQ_Python_2025/blob/main/probabilidades_aula1.ipynb\" target=\"_parent\"><img src=\"https://colab.research.google.com/assets/colab-badge.svg\" alt=\"Open In Colab\"/></a>"
      ]
    },
    {
      "cell_type": "markdown",
      "source": [
        "# Introdução à Probabilidade para Ciências Biológicas\n",
        "\n",
        "## Conceitos Fundamentais da Probabilidade\n",
        "\n",
        "A probabilidade é uma ferramenta matemática essencial em biologia, utilizada para entender e prever fenômenos que envolvem incerteza, como a herança genética, a distribuição de espécies ou a eficácia de um tratamento médico.\n",
        "\n",
        "1. **Experimento Aleatório**\n",
        "\n",
        "Um experimento aleatório é qualquer processo que pode ser repetido em condições idênticas e cujo resultado não pode ser previsto com certeza. Embora o resultado seja incerto, todos os resultados possíveis são conhecidos.\n",
        "\n",
        "Exemplo em Biologia: Lançar uma moeda é um experimento aleatório clássico. Em biologia, o cruzamento entre dois organismos heterozigotos (Aa x Aa) para um gene é um experimento aleatório, pois não podemos prever com certeza o genótipo de cada descendente, mas sabemos que os resultados possíveis são AA, Aa e aa.\n",
        "\n",
        "2. **Espaço Amostral** (Ω)\n",
        "\n",
        "O espaço amostral é o conjunto de todos os resultados possíveis de um experimento aleatório. Ele é representado pela letra grega ômega (Ω).\n",
        "\n",
        "Exemplo em Biologia:\n",
        "Cruzamento Aa x Aa: O espaço amostral é Ω={AA,Aa,aa}.\n",
        "Sorteio de um tipo sanguíneo em uma população (assumindo apenas A, B e O): O espaço amostral é Ω={A,B,O}.\n",
        "Observar a cor de uma flor de uma planta que pode ser branca (B) ou roxa (R): O espaço amostral é Ω={B,R}.\n",
        "\n",
        "3. **Evento** (E)\n",
        "Um evento é qualquer subconjunto do espaço amostral. Ele representa um resultado ou um conjunto de resultados de interesse.\n",
        "\n",
        "Exemplo em Biologia:\n",
        "Experimento (Cruzamento Aa x Aa):\n",
        "\n",
        "Evento 1: Obter um descendente com genótipo heterozigoto. O evento é E1​={Aa}.\n",
        "\n",
        "Evento 2: Obter um descendente com genótipo dominante (homozigoto ou heterozigoto). O evento é E2​={AA,Aa}.\n",
        "\n",
        "\n"
      ],
      "metadata": {
        "id": "UIUfwTL_U0oL"
      }
    },
    {
      "cell_type": "markdown",
      "source": [
        "# Teoria de Conjuntos e Diagrama de Venn\n",
        "\n",
        "A teoria de conjuntos é fundamental para entender como os eventos se relacionam. Os diagramas de Venn são representações visuais que facilitam essa compreensão.\n",
        "\n",
        "4. **União** (A∪B)\n",
        "A união de dois eventos, A∪B, representa a ocorrência de pelo menos um deles. No diagrama de Venn, é a área que cobre ambos os círculos.\n",
        "\n",
        "Exemplo em Biologia:\n",
        "Experimento (Analisar um paciente):\n",
        "Evento A: O paciente tem o gene para a doença X.\n",
        "Evento B: O paciente tem o gene para a doença Y.\n",
        "A união A∪B significa que o paciente tem o gene para a doença X ou para a doença Y (ou para ambas).\n",
        "\n",
        "5. **Interseção** (A∩B)\n",
        "A interseção de dois eventos, A∩B, representa a ocorrência de ambos os eventos simultaneamente. No diagrama de Venn, é a área em que os círculos se sobrepõem.\n",
        "\n",
        "Exemplo em Biologia:\n",
        "Experimento (Analisar um paciente):\n",
        "Evento A: O paciente tem o gene para a doença X.\n",
        "Evento B: O paciente tem o gene para a doença Y.\n",
        "A interseção A∩B significa que o paciente tem o gene para a doença X e para a doença Y.\n",
        "\n",
        "6. **Eventos Disjuntos ou Mutuamente Exclusivos**\n",
        "Dois eventos, A e B, são disjuntos ou mutuamente exclusivos se a ocorrência de um impede a ocorrência do outro. A interseção deles é o conjunto vazio (∅), ou seja, A∩B=∅. No diagrama de Venn, os círculos não se tocam.\n",
        "\n",
        "Exemplo em Biologia:\n",
        "Experimento (Cruzamento Aa x Aa):\n",
        "Evento A: Obter um descendente homozigoto dominante (AA).\n",
        "Evento B: Obter um descendente homozigoto recessivo (aa).\n",
        "Os eventos A e B são mutuamente exclusivos, pois um descendente não pode ser AA e aa ao mesmo tempo.\n",
        "\n",
        "7. **Evento Complementar** (Ac)\n",
        "O evento complementar de um evento A, representado por Ac, é o conjunto de todos os resultados do espaço amostral que não estão em A.\n",
        "\n",
        "Exemplo em Biologia:\n",
        "Experimento (Cruzamento Aa x Aa):\n",
        "Evento A: Obter um descendente com genótipo heterozigoto (Aa).\n",
        "O evento complementar Ac é obter um descendente que não seja Aa, ou seja, {AA,aa}.\n",
        "\n"
      ],
      "metadata": {
        "id": "BzP90uHsXnAq"
      }
    },
    {
      "cell_type": "markdown",
      "source": [
        "## Definições de Probabilidade\n",
        "\n",
        "A probabilidade de um evento, P(E), é um número entre 0 e 1 que quantifica a chance de ele ocorrer.\n",
        "\n",
        "8. **Definição Clássica (de Laplace)**\n",
        "\n",
        "A probabilidade de um evento E é a razão entre o número de resultados favoráveis e o número total de resultados possíveis, assumindo que todos os resultados são igualmente prováveis.\n",
        "P(E)=Número total de resultados possíveis/Número de resultados favoráveis.\n",
        "\n",
        "Exemplo em Biologia:\n",
        "Cruzamento Aa x Aa: O espaço amostral é Ω={AA,Aa,aa,Aa} (considerando a ordem dos alelos), com 4 resultados possíveis.\n",
        "\n",
        "Evento E: Obter um descendente heterozigoto (Aa).\n",
        "Resultados favoráveis: {Aa, aA}.\n",
        "P(E)=2/4=0.5 ou 50%.\n",
        "\n",
        "9. **Definição Frequentista**\n",
        "\n",
        "A probabilidade de um evento é a frequência relativa com que ele ocorre em uma longa série de repetições do experimento.\n",
        "\n",
        "Exemplo em Biologia:\n",
        "Um pesquisador está testando a eficácia de um novo antibiótico em uma bactéria. Ele administra o antibiótico em 1000 colônias de bactérias e observa que 850 delas foram eliminadas.\n",
        "A probabilidade (frequentista) de o antibiótico ser eficaz é P(eficaz)=850/1000=0.85 ou 85%.\n",
        "\n",
        "10. **Definição Axiomática (de Kolmogorov)**\n",
        "\n",
        "Esta é a definição mais rigorosa e formal. Ela se baseia em três axiomas:\n",
        "A probabilidade de qualquer evento E é um número real não negativo: P(E)≥0.\n",
        "\n",
        "A probabilidade do espaço amostral é 1: P(Ω)=1.\n",
        "\n",
        "Se A e B são eventos mutuamente exclusivos, a probabilidade da união deles é a soma de suas probabilidades: P(A∪B)=P(A)+P(B).\n"
      ],
      "metadata": {
        "id": "bS8RNZJpXqXz"
      }
    },
    {
      "cell_type": "markdown",
      "source": [
        "# Exemplos em Python"
      ],
      "metadata": {
        "id": "n9i-4ywnUhMm"
      }
    },
    {
      "cell_type": "code",
      "source": [
        "import random"
      ],
      "metadata": {
        "id": "3XejAExjUfhk"
      },
      "execution_count": 25,
      "outputs": []
    },
    {
      "cell_type": "markdown",
      "source": [
        "## EXPERIMENTO ALEATÓRIO (CRUZAMENTO GENÉTICO)"
      ],
      "metadata": {
        "id": "37-ecP-JVzyx"
      }
    },
    {
      "cell_type": "code",
      "source": [
        "print(\"--- 1. Experimento Aleatório (Cruzamento Genético) ---\")\n",
        "pai1 = [\"A\", \"a\"]\n",
        "pai2 = [\"A\", \"a\"]\n",
        "\n",
        "print(f\"Genótipo do pai 1: {pai1}\")\n",
        "print(f\"Genótipo do pai 2: {pai2}\")\n",
        "\n",
        "print(\"\\nSimulando 100 cruzamentos para observar os resultados possíveis:\")\n",
        "resultados_simulados = []\n",
        "for i in range(100):\n",
        "    genotipo_descendente = random.choice(pai1) + random.choice(pai2)\n",
        "    # Ensure genotypes are consistent (Aa and aA are treated as Aa)\n",
        "    if genotipo_descendente == \"aA\":\n",
        "       genotipo_descendente = \"Aa\"\n",
        "    resultados_simulados.append(genotipo_descendente)\n",
        "    #print(f\"Descendente {i+1}: {genotipo_descendente}\")\n",
        "\n",
        "# Create frequency table\n",
        "from collections import Counter\n",
        "frequencia_genotipos = Counter(resultados_simulados)\n",
        "\n",
        "print(\"\\nTabela de Frequência dos Genótipos:\")\n",
        "total_simulacoes = len(resultados_simulados)\n",
        "for genotipo, contagem in frequencia_genotipos.items():\n",
        "    porcentagem = (contagem / total_simulacoes) * 100\n",
        "    print(f\"{genotipo}: {contagem} ({porcentagem:.2f}%)\")"
      ],
      "metadata": {
        "colab": {
          "base_uri": "https://localhost:8080/"
        },
        "id": "8M9WnyFbVm6N",
        "outputId": "237f9386-9158-48c1-ac88-c410b317c604"
      },
      "execution_count": 26,
      "outputs": [
        {
          "output_type": "stream",
          "name": "stdout",
          "text": [
            "--- 1. Experimento Aleatório (Cruzamento Genético) ---\n",
            "Genótipo do pai 1: ['A', 'a']\n",
            "Genótipo do pai 2: ['A', 'a']\n",
            "\n",
            "Simulando 100 cruzamentos para observar os resultados possíveis:\n",
            "\n",
            "Tabela de Frequência dos Genótipos:\n",
            "Aa: 49 (49.00%)\n",
            "aa: 29 (29.00%)\n",
            "AA: 22 (22.00%)\n"
          ]
        }
      ]
    },
    {
      "cell_type": "markdown",
      "source": [
        "## ESPAÇO AMOSTRAL E PROBABILIDADE CLÁSSICA"
      ],
      "metadata": {
        "id": "jFbKRpXmV4MN"
      }
    },
    {
      "cell_type": "code",
      "source": [
        "print(\"\\n--- 2. Espaço Amostral e Probabilidade Clássica ---\")\n",
        "# O espaço amostral completo (com todas as combinações de alelos)\n",
        "espaco_amostral = [\"AA\", \"Aa\", \"aA\", \"aa\"]\n",
        "total_resultados = len(espaco_amostral)\n",
        "print(f\"Espaço Amostral: {espaco_amostral}\")\n",
        "print(f\"Total de resultados possíveis: {total_resultados}\")\n",
        "\n",
        "# Evento 1: Obter genótipo 'AA'\n",
        "evento_AA = [\"AA\"]\n",
        "probabilidade_AA = len(evento_AA) / total_resultados\n",
        "print(f\"\\nEvento 'AA': {evento_AA}\")\n",
        "print(f\"Probabilidade de ser 'AA': {probabilidade_AA:.2f} ({probabilidade_AA*100}%)\")\n",
        "\n",
        "# Evento 2: Obter genótipo 'Aa' (incluindo 'aA')\n",
        "evento_Aa = [\"Aa\", \"aA\"]\n",
        "probabilidade_Aa = len(evento_Aa) / total_resultados\n",
        "print(f\"\\nEvento 'Aa' (heterozigoto): {evento_Aa}\")\n",
        "print(f\"Probabilidade de ser 'Aa': {probabilidade_Aa:.2f} ({probabilidade_Aa*100}%)\")\n",
        "\n",
        "# Evento 3: Obter genótipo 'aa'\n",
        "evento_aa = [\"aa\"]\n",
        "probabilidade_aa = len(evento_aa) / total_resultados\n",
        "print(f\"\\nEvento 'aa': {evento_aa}\")\n",
        "print(f\"Probabilidade de ser 'aa': {probabilidade_aa:.2f} ({probabilidade_aa*100}%)\")\n",
        "\n",
        "# Verificação da soma das probabilidades (Axioma 2)\n",
        "soma_probabilidades = probabilidade_AA + probabilidade_Aa + probabilidade_aa\n",
        "print(f\"\\nSoma das probabilidades (deve ser 1): {soma_probabilidades:.2f}\")\n",
        "\n"
      ],
      "metadata": {
        "colab": {
          "base_uri": "https://localhost:8080/"
        },
        "id": "j8dsszUHVqWs",
        "outputId": "35ca6faa-d22f-4904-b927-a0f0af97de2c"
      },
      "execution_count": 27,
      "outputs": [
        {
          "output_type": "stream",
          "name": "stdout",
          "text": [
            "\n",
            "--- 2. Espaço Amostral e Probabilidade Clássica ---\n",
            "Espaço Amostral: ['AA', 'Aa', 'aA', 'aa']\n",
            "Total de resultados possíveis: 4\n",
            "\n",
            "Evento 'AA': ['AA']\n",
            "Probabilidade de ser 'AA': 0.25 (25.0%)\n",
            "\n",
            "Evento 'Aa' (heterozigoto): ['Aa', 'aA']\n",
            "Probabilidade de ser 'Aa': 0.50 (50.0%)\n",
            "\n",
            "Evento 'aa': ['aa']\n",
            "Probabilidade de ser 'aa': 0.25 (25.0%)\n",
            "\n",
            "Soma das probabilidades (deve ser 1): 1.00\n"
          ]
        }
      ]
    },
    {
      "cell_type": "markdown",
      "source": [
        "## UNIÃO, INTERSEÇÃO E COMPLEMENTO (TEORIA DE CONJUNTOS)"
      ],
      "metadata": {
        "id": "mrgTOKAQWBAg"
      }
    },
    {
      "cell_type": "code",
      "source": [
        "print(\"\\n--- 3. União, Interseção e Complemento (Teoria de Conjuntos) ---\")\n",
        "# Dados fictícios para uma população de 1000 pacientes\n",
        "populacao = 1000\n",
        "pacientes_com_X = 250\n",
        "pacientes_com_Y = 150\n",
        "pacientes_com_ambas = 50\n",
        "\n",
        "# Eventos\n",
        "prob_X = pacientes_com_X / populacao\n",
        "prob_Y = pacientes_com_Y / populacao\n",
        "prob_X_e_Y = pacientes_com_ambas / populacao\n",
        "\n",
        "print(f\"Probabilidade de ter a Doença X: {prob_X:.2f}\")\n",
        "print(f\"Probabilidade de ter a Doença Y: {prob_Y:.2f}\")\n",
        "print(f\"Probabilidade de ter a Doença X E a Doença Y (Interseção): {prob_X_e_Y:.2f}\")\n",
        "\n",
        "# União: P(X U Y) = P(X) + P(Y) - P(X ∩ Y)\n",
        "prob_X_ou_Y = prob_X + prob_Y - prob_X_e_Y\n",
        "print(f\"Probabilidade de ter a Doença X OU a Doença Y (União): {prob_X_ou_Y:.2f}\")\n",
        "\n",
        "# Complemento: P(não X) = 1 - P(X)\n",
        "prob_nao_X = 1 - prob_X\n",
        "print(f\"Probabilidade de NÃO ter a Doença X (Complementar): {prob_nao_X:.2f}\")"
      ],
      "metadata": {
        "colab": {
          "base_uri": "https://localhost:8080/"
        },
        "id": "QMKqxeSHVqUD",
        "outputId": "77c6c20b-b327-4bac-c992-28f3e92c8575"
      },
      "execution_count": 28,
      "outputs": [
        {
          "output_type": "stream",
          "name": "stdout",
          "text": [
            "\n",
            "--- 3. União, Interseção e Complemento (Teoria de Conjuntos) ---\n",
            "Probabilidade de ter a Doença X: 0.25\n",
            "Probabilidade de ter a Doença Y: 0.15\n",
            "Probabilidade de ter a Doença X E a Doença Y (Interseção): 0.05\n",
            "Probabilidade de ter a Doença X OU a Doença Y (União): 0.35\n",
            "Probabilidade de NÃO ter a Doença X (Complementar): 0.75\n"
          ]
        }
      ]
    },
    {
      "cell_type": "markdown",
      "source": [
        "## PROBABILIDADE FREQUENTISTA"
      ],
      "metadata": {
        "id": "FQixabHaWF8C"
      }
    },
    {
      "cell_type": "code",
      "source": [
        "\n",
        "print(\"\\n--- 4. Probabilidade Frequentista ---\")\n",
        "# Dados da pesquisa de um antibiótico em 1000 colônias de bactérias\n",
        "total_colonias_testadas = 1000\n",
        "colonias_eliminadas = 850\n",
        "\n",
        "# Cálculo da probabilidade com base na frequência observada\n",
        "probabilidade_eficacia = colonias_eliminadas / total_colonias_testadas\n",
        "\n",
        "print(f\"Total de colônias testadas: {total_colonias_testadas}\")\n",
        "print(f\"Colônias eliminadas (casos favoráveis): {colonias_eliminadas}\")\n",
        "print(f\"Probabilidade frequentista de o antibiótico ser eficaz: {probabilidade_eficacia:.2f} ({probabilidade_eficacia*100}%)\")"
      ],
      "metadata": {
        "colab": {
          "base_uri": "https://localhost:8080/"
        },
        "id": "FGUk0RtvVqRE",
        "outputId": "aa8403c4-ebf5-422e-c177-c5857911175e"
      },
      "execution_count": 29,
      "outputs": [
        {
          "output_type": "stream",
          "name": "stdout",
          "text": [
            "\n",
            "--- 4. Probabilidade Frequentista ---\n",
            "Total de colônias testadas: 1000\n",
            "Colônias eliminadas (casos favoráveis): 850\n",
            "Probabilidade frequentista de o antibiótico ser eficaz: 0.85 (85.0%)\n"
          ]
        }
      ]
    },
    {
      "cell_type": "markdown",
      "source": [
        "# Exercícios"
      ],
      "metadata": {
        "id": "o9vKq18uUcES"
      }
    },
    {
      "cell_type": "code",
      "execution_count": 30,
      "metadata": {
        "id": "5GfJfq87UAIU"
      },
      "outputs": [],
      "source": [
        "import random\n",
        "from math import comb"
      ]
    },
    {
      "cell_type": "markdown",
      "source": [
        "## Genética Clássica (Monohibridismo)"
      ],
      "metadata": {
        "id": "knTr_9ueaU8A"
      }
    },
    {
      "cell_type": "code",
      "source": [
        "\n",
        "print(\"--- 1. Genética Clássica (Monohibridismo) ---\")\n",
        "# Pergunta: Qual a probabilidade de um descendente nascer com pelagem branca recessiva (bb)?\n",
        "casos_possiveis = 4\n",
        "casos_favoraveis = 1  # Apenas o genótipo bb\n",
        "\n",
        "probabilidade_bb = casos_favoraveis / casos_possiveis\n",
        "print(f\"Probabilidade teórica de um descendente ser 'bb': {probabilidade_bb * 100:.2f}%\\n\")\n",
        "\n",
        "\n"
      ],
      "metadata": {
        "colab": {
          "base_uri": "https://localhost:8080/"
        },
        "id": "Afg86de4WKnZ",
        "outputId": "ab260028-b88b-4986-985d-029491b4e4a2"
      },
      "execution_count": 31,
      "outputs": [
        {
          "output_type": "stream",
          "name": "stdout",
          "text": [
            "--- 1. Genética Clássica (Monohibridismo) ---\n",
            "Probabilidade teórica de um descendente ser 'bb': 25.00%\n",
            "\n"
          ]
        }
      ]
    },
    {
      "cell_type": "markdown",
      "source": [
        "## Simulação de Herança Genética"
      ],
      "metadata": {
        "id": "WqkoHVmSaZ_8"
      }
    },
    {
      "cell_type": "code",
      "source": [
        "print(\"--- 2. Simulação de Herança Genética ---\")\n",
        "# Pergunta: Simule o cruzamento 1000 vezes e calcule a frequência de descendentes com genótipo 'bb'.\n",
        "pai1 = ['B', 'b']\n",
        "pai2 = ['B', 'b']\n",
        "simulacoes = 1000\n",
        "resultados = []\n",
        "\n",
        "for _ in range(simulacoes):\n",
        "    genotipo = random.choice(pai1) + random.choice(pai2)\n",
        "    resultados.append(genotipo)\n",
        "\n",
        "frequencia_bb = resultados.count('bb')\n",
        "probabilidade_simulada = frequencia_bb / simulacoes\n",
        "\n",
        "print(f\"Frequência simulada de 'bb' em {simulacoes} cruzamentos: {frequencia_bb}\")\n",
        "print(f\"Probabilidade simulada: {probabilidade_simulada * 100:.2f}%\\n\")\n",
        "\n",
        "\n"
      ],
      "metadata": {
        "colab": {
          "base_uri": "https://localhost:8080/"
        },
        "id": "VOL6GKfwWKer",
        "outputId": "88b9a70f-4bac-43dc-ba2e-d3df8f862222"
      },
      "execution_count": 32,
      "outputs": [
        {
          "output_type": "stream",
          "name": "stdout",
          "text": [
            "--- 2. Simulação de Herança Genética ---\n",
            "Frequência simulada de 'bb' em 1000 cruzamentos: 210\n",
            "Probabilidade simulada: 21.00%\n",
            "\n"
          ]
        }
      ]
    },
    {
      "cell_type": "markdown",
      "source": [
        "## Mutações e Probabilidade"
      ],
      "metadata": {
        "id": "7_D_tPhWaemY"
      }
    },
    {
      "cell_type": "code",
      "source": [
        "print(\"--- 3. Mutações e Probabilidade ---\")\n",
        "# Pergunta: Em uma população de 5000, quantos mutantes espera-se encontrar?\n",
        "taxa_mutacao = 0.001\n",
        "populacao = 5000\n",
        "\n",
        "mutantes_esperados = populacao * taxa_mutacao\n",
        "print(f\"Espera-se encontrar {mutantes_esperados:.0f} mutantes em uma população de {populacao} indivíduos.\\n\")\n",
        "\n",
        "\n"
      ],
      "metadata": {
        "colab": {
          "base_uri": "https://localhost:8080/"
        },
        "id": "YBJP05l6WKah",
        "outputId": "7ece9e53-4008-48c9-d3a5-a8b2c8c17d35"
      },
      "execution_count": 33,
      "outputs": [
        {
          "output_type": "stream",
          "name": "stdout",
          "text": [
            "--- 3. Mutações e Probabilidade ---\n",
            "Espera-se encontrar 5 mutantes em uma população de 5000 indivíduos.\n",
            "\n"
          ]
        }
      ]
    },
    {
      "cell_type": "markdown",
      "source": [
        "## Probabilidade de Eventos Disjuntos (Tipagem Sanguínea)"
      ],
      "metadata": {
        "id": "vPqYudbhajaP"
      }
    },
    {
      "cell_type": "code",
      "source": [
        "\n",
        "\n",
        "\n",
        "print(\"--- 4. Probabilidade de Eventos Disjuntos (Tipagem Sanguínea) ---\")\n",
        "# Pergunta: Qual a probabilidade de um indivíduo ter sangue tipo A ou B?\n",
        "prob_A = 0.40\n",
        "prob_B = 0.15\n",
        "\n",
        "prob_A_ou_B = prob_A + prob_B\n",
        "print(f\"A probabilidade de ter sangue tipo A ou B é de {prob_A_ou_B * 100:.0f}%\\n\")\n",
        "\n",
        "\n"
      ],
      "metadata": {
        "colab": {
          "base_uri": "https://localhost:8080/"
        },
        "id": "VGTKnT3eWKW2",
        "outputId": "badffa9b-25b0-4c98-c5ba-02f2abc4508b"
      },
      "execution_count": 34,
      "outputs": [
        {
          "output_type": "stream",
          "name": "stdout",
          "text": [
            "--- 4. Probabilidade de Eventos Disjuntos (Tipagem Sanguínea) ---\n",
            "A probabilidade de ter sangue tipo A ou B é de 55%\n",
            "\n"
          ]
        }
      ]
    },
    {
      "cell_type": "markdown",
      "source": [
        "## Evento Complementar"
      ],
      "metadata": {
        "id": "RtQ8xmKwamyR"
      }
    },
    {
      "cell_type": "code",
      "source": [
        "\n",
        "\n",
        "\n",
        "print(\"--- 5. Evento Complementar ---\")\n",
        "# Pergunta: Qual a probabilidade de um indivíduo NÃO ter sangue tipo O?\n",
        "prob_O = 0.45\n",
        "\n",
        "prob_nao_O = 1 - prob_O\n",
        "print(f\"A probabilidade de um indivíduo NÃO ter sangue tipo O é de {prob_nao_O * 100:.0f}%\\n\")\n",
        "\n",
        "\n"
      ],
      "metadata": {
        "colab": {
          "base_uri": "https://localhost:8080/"
        },
        "id": "MI3pobDqWKTA",
        "outputId": "a9dcded7-23cf-46d8-d03c-6c3dc6361ed6"
      },
      "execution_count": 35,
      "outputs": [
        {
          "output_type": "stream",
          "name": "stdout",
          "text": [
            "--- 5. Evento Complementar ---\n",
            "A probabilidade de um indivíduo NÃO ter sangue tipo O é de 55%\n",
            "\n"
          ]
        }
      ]
    },
    {
      "cell_type": "markdown",
      "source": [
        "## Probabilidade de Interseção (Eventos Independentes)"
      ],
      "metadata": {
        "id": "e2yVbeSqaqMB"
      }
    },
    {
      "cell_type": "code",
      "source": [
        "\n",
        "print(\"--- 6. Probabilidade de Interseção (Eventos Independentes) ---\")\n",
        "# Pergunta: Qual a probabilidade de um pássaro ter pena azul E bico amarelo?\n",
        "prob_pena_azul = 0.6\n",
        "prob_bico_amarelo = 0.4\n",
        "\n",
        "prob_ambos = prob_pena_azul * prob_bico_amarelo\n",
        "print(f\"A probabilidade de ter pena azul e bico amarelo é de {prob_ambos * 100:.0f}%\\n\")\n",
        "\n",
        "\n"
      ],
      "metadata": {
        "colab": {
          "base_uri": "https://localhost:8080/"
        },
        "id": "mAP8UAeLWKPi",
        "outputId": "cdc24294-03d0-4278-bfa2-3b7ae0def469"
      },
      "execution_count": 36,
      "outputs": [
        {
          "output_type": "stream",
          "name": "stdout",
          "text": [
            "--- 6. Probabilidade de Interseção (Eventos Independentes) ---\n",
            "A probabilidade de ter pena azul e bico amarelo é de 24%\n",
            "\n"
          ]
        }
      ]
    },
    {
      "cell_type": "markdown",
      "source": [
        "## Probabilidade de União (Eventos Não-Disjuntos)"
      ],
      "metadata": {
        "id": "s3TpwyP9auav"
      }
    },
    {
      "cell_type": "code",
      "source": [
        "print(\"--- 7. Probabilidade de União (Eventos Não-Disjuntos) ---\")\n",
        "# Pergunta: Qual a probabilidade de uma árvore ser da espécie A ou B?\n",
        "prob_A_arvore = 0.35\n",
        "prob_B_arvore = 0.25\n",
        "prob_intersecao_arvore = 0.05\n",
        "\n",
        "prob_uniao_arvore = prob_A_arvore + prob_B_arvore - prob_intersecao_arvore\n",
        "print(f\"A probabilidade de uma árvore ser da espécie A ou B é de {prob_uniao_arvore * 100:.0f}%\\n\")\n",
        "\n"
      ],
      "metadata": {
        "colab": {
          "base_uri": "https://localhost:8080/"
        },
        "id": "jHKm-pYqWKKh",
        "outputId": "c665da34-851c-4fb2-adb3-df3ce331f19e"
      },
      "execution_count": 37,
      "outputs": [
        {
          "output_type": "stream",
          "name": "stdout",
          "text": [
            "--- 7. Probabilidade de União (Eventos Não-Disjuntos) ---\n",
            "A probabilidade de uma árvore ser da espécie A ou B é de 55%\n",
            "\n"
          ]
        }
      ]
    },
    {
      "cell_type": "markdown",
      "source": [
        "## População e Amostragem"
      ],
      "metadata": {
        "id": "gnBc1uqYaykX"
      }
    },
    {
      "cell_type": "code",
      "source": [
        "\n",
        "print(\"--- 8. População e Amostragem ---\")\n",
        "# Pergunta: Qual a probabilidade de um peixe retirado aleatoriamente estar doente?\n",
        "total_peixes = 1500\n",
        "peixes_doentes = 300\n",
        "\n",
        "probabilidade_doente = peixes_doentes / total_peixes\n",
        "print(f\"A probabilidade de selecionar um peixe doente é de {probabilidade_doente * 100:.0f}%\\n\")\n",
        "\n",
        "\n"
      ],
      "metadata": {
        "colab": {
          "base_uri": "https://localhost:8080/"
        },
        "id": "AzNKBKUaWKEj",
        "outputId": "b1c63dde-4756-4d87-d51b-019129c0f74c"
      },
      "execution_count": 38,
      "outputs": [
        {
          "output_type": "stream",
          "name": "stdout",
          "text": [
            "--- 8. População e Amostragem ---\n",
            "A probabilidade de selecionar um peixe doente é de 20%\n",
            "\n"
          ]
        }
      ]
    },
    {
      "cell_type": "markdown",
      "source": [
        "## Simulação de Amostragem"
      ],
      "metadata": {
        "id": "PffvohXVa11i"
      }
    },
    {
      "cell_type": "code",
      "source": [
        "print(\"--- 9. Simulação de Amostragem ---\")\n",
        "# Pergunta: Em uma amostra de 50 peixes, quantos, em média, estariam doentes?\n",
        "amostra = 50\n",
        "doentes_esperados = probabilidade_doente * amostra\n",
        "print(f\"Em uma amostra de {amostra} peixes, espera-se encontrar {doentes_esperados:.0f} peixes doentes.\\n\")\n",
        "\n",
        "\n"
      ],
      "metadata": {
        "colab": {
          "base_uri": "https://localhost:8080/"
        },
        "id": "7Frxe_UuWJ6v",
        "outputId": "b1430bb5-b229-4f98-ef94-ae8b77d41b0b"
      },
      "execution_count": 39,
      "outputs": [
        {
          "output_type": "stream",
          "name": "stdout",
          "text": [
            "--- 9. Simulação de Amostragem ---\n",
            "Em uma amostra de 50 peixes, espera-se encontrar 10 peixes doentes.\n",
            "\n"
          ]
        }
      ]
    },
    {
      "cell_type": "markdown",
      "source": [
        "## Epidemiologia"
      ],
      "metadata": {
        "id": "hxNwfBCaa5zd"
      }
    },
    {
      "cell_type": "code",
      "source": [
        "print(\"--- 10. Epidemiologia ---\")\n",
        "# Pergunta: Qual a probabilidade de uma pessoa selecionada aleatoriamente NÃO ter a doença?\n",
        "taxa_doenca = 0.05\n",
        "prob_nao_ter_doenca = 1 - taxa_doenca\n",
        "\n",
        "print(f\"A probabilidade de uma pessoa não ter a doença é de {prob_nao_ter_doenca * 100:.0f}%\\n\")\n",
        "\n",
        "\n"
      ],
      "metadata": {
        "colab": {
          "base_uri": "https://localhost:8080/"
        },
        "id": "b4VI_Dp7WjE9",
        "outputId": "d0ae714b-c052-4732-9295-75292de3d843"
      },
      "execution_count": 40,
      "outputs": [
        {
          "output_type": "stream",
          "name": "stdout",
          "text": [
            "--- 10. Epidemiologia ---\n",
            "A probabilidade de uma pessoa não ter a doença é de 95%\n",
            "\n"
          ]
        }
      ]
    },
    {
      "cell_type": "markdown",
      "source": [
        "## Probabilidade em Cadeia Alimentar"
      ],
      "metadata": {
        "id": "aqDbO9LIa99h"
      }
    },
    {
      "cell_type": "code",
      "source": [
        "\n",
        "print(\"--- 11. Probabilidade em Cadeia Alimentar ---\")\n",
        "# Pergunta: Qual a probabilidade de o coelho ser caçado?\n",
        "prob_encontrar_predador = 0.3\n",
        "prob_fugir_dado_encontrar = 0.8\n",
        "prob_nao_fugir_dado_encontrar = 1 - prob_fugir_dado_encontrar\n",
        "\n",
        "prob_ser_cacado = prob_encontrar_predador * prob_nao_fugir_dado_encontrar\n",
        "print(f\"A probabilidade de o coelho ser caçado é de {prob_ser_cacado * 100:.0f}%\\n\")\n",
        "\n",
        "\n"
      ],
      "metadata": {
        "colab": {
          "base_uri": "https://localhost:8080/"
        },
        "id": "Lr46ogX8WjB7",
        "outputId": "67d959bd-0a73-4afe-8e01-0248b2466659"
      },
      "execution_count": 41,
      "outputs": [
        {
          "output_type": "stream",
          "name": "stdout",
          "text": [
            "--- 11. Probabilidade em Cadeia Alimentar ---\n",
            "A probabilidade de o coelho ser caçado é de 6%\n",
            "\n"
          ]
        }
      ]
    },
    {
      "cell_type": "markdown",
      "source": [
        "## Distribuição de Espécies"
      ],
      "metadata": {
        "id": "g5GnWh1ZbCL7"
      }
    },
    {
      "cell_type": "code",
      "source": [
        "\n",
        "print(\"--- 12. Distribuição de Espécies ---\")\n",
        "# Pergunta: Qual a probabilidade de 5 árvores selecionadas serem todas carvalhos?\n",
        "prob_carvalho = 0.5\n",
        "amostra_arvores = 5\n",
        "\n",
        "prob_cinco_carvalhos = prob_carvalho ** amostra_arvores\n",
        "print(f\"A probabilidade de 5 árvores serem carvalhos é de {prob_cinco_carvalhos * 100:.2f}%\\n\")\n",
        "\n",
        "\n"
      ],
      "metadata": {
        "colab": {
          "base_uri": "https://localhost:8080/"
        },
        "id": "UQYiLtG6Wi_a",
        "outputId": "91b012b6-54e7-45b3-f4cd-63d6b3e70017"
      },
      "execution_count": 42,
      "outputs": [
        {
          "output_type": "stream",
          "name": "stdout",
          "text": [
            "--- 12. Distribuição de Espécies ---\n",
            "A probabilidade de 5 árvores serem carvalhos é de 3.12%\n",
            "\n"
          ]
        }
      ]
    },
    {
      "cell_type": "markdown",
      "source": [
        "## Probabilidade Condicional (Doença)"
      ],
      "metadata": {
        "id": "ogCvuvepbFvQ"
      }
    },
    {
      "cell_type": "code",
      "source": [
        "\n",
        "print(\"--- 13. Probabilidade Condicional (Doença) ---\")\n",
        "# Pergunta: Qual a probabilidade de uma pessoa ter a doença E apresentar o sintoma Y?\n",
        "prob_doenca_X = 0.10\n",
        "prob_sintoma_Y_dado_X = 0.80\n",
        "\n",
        "prob_ambos = prob_doenca_X * prob_sintoma_Y_dado_X\n",
        "print(f\"A probabilidade de ter a doença X e o sintoma Y é de {prob_ambos * 100:.0f}%\\n\")\n",
        "\n",
        "\n"
      ],
      "metadata": {
        "colab": {
          "base_uri": "https://localhost:8080/"
        },
        "id": "O2PyYziRWi8i",
        "outputId": "21e4af65-d544-402e-f093-ad85323e13de"
      },
      "execution_count": 43,
      "outputs": [
        {
          "output_type": "stream",
          "name": "stdout",
          "text": [
            "--- 13. Probabilidade Condicional (Doença) ---\n",
            "A probabilidade de ter a doença X e o sintoma Y é de 8%\n",
            "\n"
          ]
        }
      ]
    },
    {
      "cell_type": "markdown",
      "source": [
        "## Variação de Cores em Flores"
      ],
      "metadata": {
        "id": "1HzNZrWFbJEL"
      }
    },
    {
      "cell_type": "code",
      "source": [
        "\n",
        "\n",
        "print(\"--- 14. Variação de Cores em Flores ---\")\n",
        "# Pergunta: Qual a probabilidade de, ao selecionar duas flores, uma ser vermelha e a outra branca?\n",
        "prob_vermelha = 0.2\n",
        "prob_branca = 0.5\n",
        "\n",
        "prob_total = (prob_vermelha * prob_branca) + (prob_branca * prob_vermelha)\n",
        "print(f\"A probabilidade de uma flor ser vermelha e a outra branca é de {prob_total * 100:.0f}%\\n\")\n",
        "\n",
        "\n"
      ],
      "metadata": {
        "colab": {
          "base_uri": "https://localhost:8080/"
        },
        "id": "J7C3seZVWi5j",
        "outputId": "c36b94dc-7ce6-4960-c0a8-417bd6c0c4fc"
      },
      "execution_count": 44,
      "outputs": [
        {
          "output_type": "stream",
          "name": "stdout",
          "text": [
            "--- 14. Variação de Cores em Flores ---\n",
            "A probabilidade de uma flor ser vermelha e a outra branca é de 20%\n",
            "\n"
          ]
        }
      ]
    },
    {
      "cell_type": "markdown",
      "source": [
        "## Análise de DNA"
      ],
      "metadata": {
        "id": "xOLKTBvLbM70"
      }
    },
    {
      "cell_type": "code",
      "source": [
        "\n",
        "\n",
        "print(\"--- 15. Análise de DNA ---\")\n",
        "# Pergunta: Qual a probabilidade de uma amostra conter ambos os alelos?\n",
        "prob_alelo_A = 0.7\n",
        "prob_alelo_B = 0.8\n",
        "\n",
        "prob_ambos_alelos = prob_alelo_A * prob_alelo_B\n",
        "print(f\"A probabilidade de uma amostra conter os alelos A e B é de {prob_ambos_alelos * 100:.0f}%\\n\")\n",
        "\n",
        "\n"
      ],
      "metadata": {
        "colab": {
          "base_uri": "https://localhost:8080/"
        },
        "id": "tN8FNEqOWi2r",
        "outputId": "86a52c72-e73c-4250-81e5-8b4ad7fb3a38"
      },
      "execution_count": 45,
      "outputs": [
        {
          "output_type": "stream",
          "name": "stdout",
          "text": [
            "--- 15. Análise de DNA ---\n",
            "A probabilidade de uma amostra conter os alelos A e B é de 56%\n",
            "\n"
          ]
        }
      ]
    },
    {
      "cell_type": "markdown",
      "source": [
        "## Frequência de Doença em Gêmeos"
      ],
      "metadata": {
        "id": "A9p5igHdbQDR"
      }
    },
    {
      "cell_type": "code",
      "source": [
        "\n",
        "print(\"--- 16. Frequência de Doença em Gêmeos ---\")\n",
        "# Pergunta: Se um gêmeo idêntico tem a doença, qual a probabilidade de o outro também ter?\n",
        "prob_gemeo2_dado_gemeo1 = 0.70\n",
        "\n",
        "print(f\"A probabilidade de o segundo gêmeo ter a doença, dado que o primeiro já tem, é de {prob_gemeo2_dado_gemeo1 * 100:.0f}%\\n\")\n",
        "\n",
        "\n"
      ],
      "metadata": {
        "colab": {
          "base_uri": "https://localhost:8080/"
        },
        "id": "E2wtgGa4Wizk",
        "outputId": "f4400bcd-f1d8-4048-ee73-feaca3993ce3"
      },
      "execution_count": 46,
      "outputs": [
        {
          "output_type": "stream",
          "name": "stdout",
          "text": [
            "--- 16. Frequência de Doença em Gêmeos ---\n",
            "A probabilidade de o segundo gêmeo ter a doença, dado que o primeiro já tem, é de 70%\n",
            "\n"
          ]
        }
      ]
    },
    {
      "cell_type": "markdown",
      "source": [
        "## Simulação de Mutação Gênica"
      ],
      "metadata": {
        "id": "UtMLiMdjbTtq"
      }
    },
    {
      "cell_type": "code",
      "source": [
        "\n",
        "\n",
        "print(\"--- 17. Simulação de Mutação Gênica ---\")\n",
        "# Pergunta: Simule 1000 divisões celulares e conte quantas mutações ocorreram.\n",
        "prob_mutacao = 0.005\n",
        "divisoes = 1000\n",
        "mutacoes_simuladas = 0\n",
        "\n",
        "for _ in range(divisoes):\n",
        "    if random.random() < prob_mutacao:\n",
        "        mutacoes_simuladas += 1\n",
        "\n",
        "print(f\"Em {divisoes} divisões, ocorreram {mutacoes_simuladas} mutações (simuladas).\\n\")\n",
        "\n",
        "\n"
      ],
      "metadata": {
        "colab": {
          "base_uri": "https://localhost:8080/"
        },
        "id": "Bri9oP3YWip1",
        "outputId": "b6e2c8a3-b21a-41c3-e5b7-52998610b0f7"
      },
      "execution_count": 47,
      "outputs": [
        {
          "output_type": "stream",
          "name": "stdout",
          "text": [
            "--- 17. Simulação de Mutação Gênica ---\n",
            "Em 1000 divisões, ocorreram 10 mutações (simuladas).\n",
            "\n"
          ]
        }
      ]
    },
    {
      "cell_type": "markdown",
      "source": [
        "## Probabilidade de Sobrevivência (Distribuição Binomial)"
      ],
      "metadata": {
        "id": "kFRNqAHabW-Z"
      }
    },
    {
      "cell_type": "code",
      "source": [
        "print(\"--- 18. Probabilidade de Sobrevivência (Distribuição Binomial) ---\")\n",
        "# Pergunta: Qual a probabilidade de um predador caçar exatamente 2 de 10 presas?\n",
        "n = 10  # Número de tentativas\n",
        "k = 2   # Número de sucessos desejados\n",
        "p = 0.20 # Probabilidade de sucesso (caçar)\n",
        "\n",
        "probabilidade_binomial = comb(n, k) * (p**k) * ((1-p)**(n-k))\n",
        "print(f\"A probabilidade de caçar exatamente 2 presas é de {probabilidade_binomial * 100:.2f}%\\n\")\n",
        "\n",
        "\n"
      ],
      "metadata": {
        "colab": {
          "base_uri": "https://localhost:8080/"
        },
        "id": "brCBKaV8W8Ln",
        "outputId": "ab87a67f-86c2-4bbd-ffe1-f78e46f101e1"
      },
      "execution_count": 48,
      "outputs": [
        {
          "output_type": "stream",
          "name": "stdout",
          "text": [
            "--- 18. Probabilidade de Sobrevivência (Distribuição Binomial) ---\n",
            "A probabilidade de caçar exatamente 2 presas é de 30.20%\n",
            "\n"
          ]
        }
      ]
    },
    {
      "cell_type": "markdown",
      "source": [
        "## Análise de Sequência de DNA"
      ],
      "metadata": {
        "id": "pd868kfnbaeT"
      }
    },
    {
      "cell_type": "code",
      "source": [
        "print(\"--- 19. Análise de Sequência de DNA ---\")\n",
        "# Pergunta: Qual a probabilidade de uma sequência de 5 bases ser \"ATCGT\"?\n",
        "prob_base = 0.25\n",
        "comprimento_sequencia = 5\n",
        "\n",
        "prob_sequencia = prob_base ** comprimento_sequencia\n",
        "print(f\"A probabilidade de a sequência ser 'ATCGT' é de {prob_sequencia * 100:.4f}%\\n\")\n",
        "\n",
        "\n"
      ],
      "metadata": {
        "colab": {
          "base_uri": "https://localhost:8080/"
        },
        "id": "Touh9Lc_W8Ig",
        "outputId": "d99c5297-a01c-4558-ea38-4e7d616ba0df"
      },
      "execution_count": 49,
      "outputs": [
        {
          "output_type": "stream",
          "name": "stdout",
          "text": [
            "--- 19. Análise de Sequência de DNA ---\n",
            "A probabilidade de a sequência ser 'ATCGT' é de 0.0977%\n",
            "\n"
          ]
        }
      ]
    },
    {
      "cell_type": "markdown",
      "source": [
        "## Prevalência de Doença"
      ],
      "metadata": {
        "id": "XKbeH1Tlbdn0"
      }
    },
    {
      "cell_type": "code",
      "source": [
        "\n",
        "print(\"--- 20. Prevalência de Doença ---\")\n",
        "# Pergunta: Qual a prevalência (frequência) da doença na amostra testada?\n",
        "amostra = 500\n",
        "plantas_doentes = 80\n",
        "\n",
        "prevalencia = plantas_doentes / amostra\n",
        "print(f\"A prevalência da doença nas plantas testadas é de {prevalencia * 100:.0f}%\\n\")"
      ],
      "metadata": {
        "colab": {
          "base_uri": "https://localhost:8080/"
        },
        "id": "kBvPJE5yW8Fd",
        "outputId": "9e98a3b5-c971-4006-f105-b900322e741e"
      },
      "execution_count": 50,
      "outputs": [
        {
          "output_type": "stream",
          "name": "stdout",
          "text": [
            "--- 20. Prevalência de Doença ---\n",
            "A prevalência da doença nas plantas testadas é de 16%\n",
            "\n"
          ]
        }
      ]
    },
    {
      "cell_type": "markdown",
      "source": [
        "# Probabilidade condicional"
      ],
      "metadata": {
        "id": "gzniqDT4E85X"
      }
    },
    {
      "cell_type": "code",
      "source": [
        "import pandas as pd\n",
        "\n",
        "def analisar_tabela_contingencia(dados, titulo):\n",
        "    \"\"\"\n",
        "    Função para calcular e exibir probabilidades marginais, conjuntas e condicionais\n",
        "    a partir de uma tabela de contingência 2x2.\n",
        "\n",
        "    Args:\n",
        "        dados (dict): Um dicionário com os dados da tabela.\n",
        "        titulo (str): O título para o exemplo.\n",
        "    \"\"\"\n",
        "    print(\"=\" * 60)\n",
        "    print(f\"Exemplo: {titulo}\")\n",
        "    print(\"=\" * 60)\n",
        "\n",
        "    df = pd.DataFrame(dados)\n",
        "\n",
        "    # Adiciona a linha de totais (margens)\n",
        "    df.loc['Total'] = df.sum()\n",
        "\n",
        "    # Adiciona a coluna de totais (margens)\n",
        "    df['Total'] = df.sum(axis=1)\n",
        "\n",
        "    print(\"\\nTabela de Contingência Completa:\")\n",
        "    print(df)\n",
        "    print(\"\\n\" + \"-\"*30)\n",
        "\n",
        "    # Nomes das variáveis para os cálculos\n",
        "    row_label = list(dados.keys())[0]\n",
        "    col_label = list(dados.keys())[1]\n",
        "\n",
        "    row_cat1 = list(dados[row_label].keys())[0]\n",
        "    row_cat2 = list(dados[row_label].keys())[1]\n",
        "    col_cat1 = list(dados.keys())[0]\n",
        "    col_cat2 = list(dados.keys())[1]\n",
        "\n",
        "\n",
        "    # Probabilidades Marginais\n",
        "    total_geral = df.loc['Total', 'Total']\n",
        "\n",
        "    # Probabilidades das linhas\n",
        "    prob_linha1 = df.iloc[0, 2] / total_geral\n",
        "    prob_linha2 = df.iloc[1, 2] / total_geral\n",
        "\n",
        "    # Probabilidades das colunas\n",
        "    prob_coluna1 = df.iloc[2, 0] / total_geral\n",
        "    prob_coluna2 = df.iloc[2, 1] / total_geral\n",
        "\n",
        "    print(\"\\n1. Probabilidades Marginais:\")\n",
        "    print(f\"P({row_cat1}) = {prob_linha1:.2f}\")\n",
        "    print(f\"P({row_cat2}) = {prob_linha2:.2f}\")\n",
        "    print(f\"P({col_cat1}) = {prob_coluna1:.2f}\")\n",
        "    print(f\"P({col_cat2}) = {prob_coluna2:.2f}\")\n",
        "\n",
        "    # Probabilidades Conjuntas\n",
        "    prob_conjunta1 = df.iloc[0, 0] / total_geral\n",
        "    prob_conjunta2 = df.iloc[0, 1] / total_geral\n",
        "    prob_conjunta3 = df.iloc[1, 0] / total_geral\n",
        "    prob_conjunta4 = df.iloc[1, 1] / total_geral\n",
        "\n",
        "    print(\"\\n2. Probabilidades Conjuntas:\")\n",
        "    print(f\"P({row_cat1} e {col_cat1}) = {prob_conjunta1:.2f}\")\n",
        "    print(f\"P({row_cat1} e {col_cat2}) = {prob_conjunta2:.2f}\")\n",
        "    print(f\"P({row_cat2} e {col_cat1}) = {prob_conjunta3:.2f}\")\n",
        "    print(f\"P({row_cat2} e {col_cat2}) = {prob_conjunta4:.2f}\")\n",
        "\n",
        "    # Probabilidades Condicionais\n",
        "    print(\"\\n3. Probabilidades Condicionais:\")\n",
        "\n",
        "    # Exemplo de Condicional 1: Probabilidade da linha dado a coluna\n",
        "    prob_condicional1 = df.iloc[0, 0] / df.iloc[2, 0]\n",
        "    print(f\"P({row_cat1} | {col_cat1}) = {prob_condicional1:.2f}\")\n",
        "\n",
        "    # Exemplo de Condicional 2: Probabilidade da coluna dado a linha\n",
        "    prob_condicional2 = df.iloc[0, 1] / df.iloc[0, 2]\n",
        "    print(f\"P({col_cat2} | {row_cat1}) = {prob_condicional2:.2f}\")\n",
        "\n",
        "    print(\"\\n\" + \"=\" * 60 + \"\\n\\n\")"
      ],
      "metadata": {
        "id": "pFdxn6-jE3LY"
      },
      "execution_count": 51,
      "outputs": []
    },
    {
      "cell_type": "code",
      "source": [
        "# Dados para cada exemplo\n",
        "exemplo1_dados = {\n",
        "    'Gene Presente': {'Penas Azuis': 60, 'Penas Verdes': 20},\n",
        "    'Gene Ausente': {'Penas Azuis': 40, 'Penas Verdes': 80}\n",
        "}\n",
        "analisar_tabela_contingencia(exemplo1_dados, \"Gene e Cor das Penas em Aves\")\n",
        "\n"
      ],
      "metadata": {
        "colab": {
          "base_uri": "https://localhost:8080/"
        },
        "id": "fblLA63jFLOQ",
        "outputId": "4d376df9-392a-45f9-829c-dae04d317241"
      },
      "execution_count": 52,
      "outputs": [
        {
          "output_type": "stream",
          "name": "stdout",
          "text": [
            "============================================================\n",
            "Exemplo: Gene e Cor das Penas em Aves\n",
            "============================================================\n",
            "\n",
            "Tabela de Contingência Completa:\n",
            "              Gene Presente  Gene Ausente  Total\n",
            "Penas Azuis              60            40    100\n",
            "Penas Verdes             20            80    100\n",
            "Total                    80           120    200\n",
            "\n",
            "------------------------------\n",
            "\n",
            "1. Probabilidades Marginais:\n",
            "P(Penas Azuis) = 0.50\n",
            "P(Penas Verdes) = 0.50\n",
            "P(Gene Presente) = 0.40\n",
            "P(Gene Ausente) = 0.60\n",
            "\n",
            "2. Probabilidades Conjuntas:\n",
            "P(Penas Azuis e Gene Presente) = 0.30\n",
            "P(Penas Azuis e Gene Ausente) = 0.20\n",
            "P(Penas Verdes e Gene Presente) = 0.10\n",
            "P(Penas Verdes e Gene Ausente) = 0.40\n",
            "\n",
            "3. Probabilidades Condicionais:\n",
            "P(Penas Azuis | Gene Presente) = 0.75\n",
            "P(Gene Ausente | Penas Azuis) = 0.40\n",
            "\n",
            "============================================================\n",
            "\n",
            "\n"
          ]
        }
      ]
    },
    {
      "cell_type": "code",
      "source": [
        "import pandas as pd\n",
        "df = pd.DataFrame(dados)\n",
        "\n",
        "print(df)"
      ],
      "metadata": {
        "colab": {
          "base_uri": "https://localhost:8080/"
        },
        "id": "AgO9y1HNW44x",
        "outputId": "c5e0d96e-8954-4f93-9100-e29cb517a6b3"
      },
      "execution_count": 53,
      "outputs": [
        {
          "output_type": "stream",
          "name": "stdout",
          "text": [
            "              Gene Presente  Gene Ausente\n",
            "Penas Azuis              60            40\n",
            "Penas Verdes             20            80\n"
          ]
        }
      ]
    },
    {
      "cell_type": "code",
      "source": [
        "exemplo2_dados = {\n",
        "    'Pesticida': {'Doença': 80, 'Sem Doença': 70},\n",
        "    'Sem Pesticida': {'Doença': 20, 'Sem Doença': 80}\n",
        "}\n",
        "analisar_tabela_contingencia(exemplo2_dados, \"Doença e Exposição a um Fator de Risco em Ratos\")\n",
        "\n"
      ],
      "metadata": {
        "colab": {
          "base_uri": "https://localhost:8080/"
        },
        "id": "atdtHTz8FOlI",
        "outputId": "c7e47394-8128-4a0f-c359-c92ae597ba36"
      },
      "execution_count": 54,
      "outputs": [
        {
          "output_type": "stream",
          "name": "stdout",
          "text": [
            "============================================================\n",
            "Exemplo: Doença e Exposição a um Fator de Risco em Ratos\n",
            "============================================================\n",
            "\n",
            "Tabela de Contingência Completa:\n",
            "            Pesticida  Sem Pesticida  Total\n",
            "Doença             80             20    100\n",
            "Sem Doença         70             80    150\n",
            "Total             150            100    250\n",
            "\n",
            "------------------------------\n",
            "\n",
            "1. Probabilidades Marginais:\n",
            "P(Doença) = 0.40\n",
            "P(Sem Doença) = 0.60\n",
            "P(Pesticida) = 0.60\n",
            "P(Sem Pesticida) = 0.40\n",
            "\n",
            "2. Probabilidades Conjuntas:\n",
            "P(Doença e Pesticida) = 0.32\n",
            "P(Doença e Sem Pesticida) = 0.08\n",
            "P(Sem Doença e Pesticida) = 0.28\n",
            "P(Sem Doença e Sem Pesticida) = 0.32\n",
            "\n",
            "3. Probabilidades Condicionais:\n",
            "P(Doença | Pesticida) = 0.53\n",
            "P(Sem Pesticida | Doença) = 0.20\n",
            "\n",
            "============================================================\n",
            "\n",
            "\n"
          ]
        }
      ]
    },
    {
      "cell_type": "code",
      "source": [
        "exemplo3_dados = {\n",
        "    'Mutação Presente': {'Resistente': 75, 'Não Resistente': 25},\n",
        "    'Mutação Ausente': {'Resistente': 15, 'Não Resistente': 35}\n",
        "}\n",
        "analisar_tabela_contingencia(exemplo3_dados, \"Mutação Genética e Resistência a Antibióticos\")\n",
        "\n"
      ],
      "metadata": {
        "colab": {
          "base_uri": "https://localhost:8080/"
        },
        "id": "bbg5qQNyFQn9",
        "outputId": "8ac6ae0b-ae46-45e7-a8fd-63c91880ba4f"
      },
      "execution_count": 55,
      "outputs": [
        {
          "output_type": "stream",
          "name": "stdout",
          "text": [
            "============================================================\n",
            "Exemplo: Mutação Genética e Resistência a Antibióticos\n",
            "============================================================\n",
            "\n",
            "Tabela de Contingência Completa:\n",
            "                Mutação Presente  Mutação Ausente  Total\n",
            "Resistente                    75               15     90\n",
            "Não Resistente                25               35     60\n",
            "Total                        100               50    150\n",
            "\n",
            "------------------------------\n",
            "\n",
            "1. Probabilidades Marginais:\n",
            "P(Resistente) = 0.60\n",
            "P(Não Resistente) = 0.40\n",
            "P(Mutação Presente) = 0.67\n",
            "P(Mutação Ausente) = 0.33\n",
            "\n",
            "2. Probabilidades Conjuntas:\n",
            "P(Resistente e Mutação Presente) = 0.50\n",
            "P(Resistente e Mutação Ausente) = 0.10\n",
            "P(Não Resistente e Mutação Presente) = 0.17\n",
            "P(Não Resistente e Mutação Ausente) = 0.23\n",
            "\n",
            "3. Probabilidades Condicionais:\n",
            "P(Resistente | Mutação Presente) = 0.75\n",
            "P(Mutação Ausente | Resistente) = 0.17\n",
            "\n",
            "============================================================\n",
            "\n",
            "\n"
          ]
        }
      ]
    },
    {
      "cell_type": "code",
      "source": [
        "exemplo4_dados = {\n",
        "    'Polimorfismo': {'Doença': 90, 'Sem Doença': 60},\n",
        "    'Sem Polimorfismo': {'Doença': 30, 'Sem Doença': 120}\n",
        "}\n",
        "analisar_tabela_contingencia(exemplo4_dados, \"Traço Genético e Doença em Cães\")"
      ],
      "metadata": {
        "colab": {
          "base_uri": "https://localhost:8080/"
        },
        "id": "AbNUWKpDFSwv",
        "outputId": "cb853415-735d-46c7-895a-8c10e4183238"
      },
      "execution_count": 56,
      "outputs": [
        {
          "output_type": "stream",
          "name": "stdout",
          "text": [
            "============================================================\n",
            "Exemplo: Traço Genético e Doença em Cães\n",
            "============================================================\n",
            "\n",
            "Tabela de Contingência Completa:\n",
            "            Polimorfismo  Sem Polimorfismo  Total\n",
            "Doença                90                30    120\n",
            "Sem Doença            60               120    180\n",
            "Total                150               150    300\n",
            "\n",
            "------------------------------\n",
            "\n",
            "1. Probabilidades Marginais:\n",
            "P(Doença) = 0.40\n",
            "P(Sem Doença) = 0.60\n",
            "P(Polimorfismo) = 0.50\n",
            "P(Sem Polimorfismo) = 0.50\n",
            "\n",
            "2. Probabilidades Conjuntas:\n",
            "P(Doença e Polimorfismo) = 0.30\n",
            "P(Doença e Sem Polimorfismo) = 0.10\n",
            "P(Sem Doença e Polimorfismo) = 0.20\n",
            "P(Sem Doença e Sem Polimorfismo) = 0.40\n",
            "\n",
            "3. Probabilidades Condicionais:\n",
            "P(Doença | Polimorfismo) = 0.60\n",
            "P(Sem Polimorfismo | Doença) = 0.25\n",
            "\n",
            "============================================================\n",
            "\n",
            "\n"
          ]
        }
      ]
    },
    {
      "cell_type": "code",
      "source": [
        "exemplo5_dados = {\n",
        "    'Solo Poluído': {'Crescimento Alto': 30, 'Crescimento Baixo': 50},\n",
        "    'Solo Não Poluído': {'Crescimento Alto': 70, 'Crescimento Baixo': 30}\n",
        "}\n",
        "analisar_tabela_contingencia(exemplo5_dados, \"Nível de Poluição e Crescimento de Plantas\")"
      ],
      "metadata": {
        "colab": {
          "base_uri": "https://localhost:8080/"
        },
        "id": "-zU6BL5SFUVJ",
        "outputId": "db8095a7-04c8-469d-9cd6-840c7edc7334"
      },
      "execution_count": 57,
      "outputs": [
        {
          "output_type": "stream",
          "name": "stdout",
          "text": [
            "============================================================\n",
            "Exemplo: Nível de Poluição e Crescimento de Plantas\n",
            "============================================================\n",
            "\n",
            "Tabela de Contingência Completa:\n",
            "                   Solo Poluído  Solo Não Poluído  Total\n",
            "Crescimento Alto             30                70    100\n",
            "Crescimento Baixo            50                30     80\n",
            "Total                        80               100    180\n",
            "\n",
            "------------------------------\n",
            "\n",
            "1. Probabilidades Marginais:\n",
            "P(Crescimento Alto) = 0.56\n",
            "P(Crescimento Baixo) = 0.44\n",
            "P(Solo Poluído) = 0.44\n",
            "P(Solo Não Poluído) = 0.56\n",
            "\n",
            "2. Probabilidades Conjuntas:\n",
            "P(Crescimento Alto e Solo Poluído) = 0.17\n",
            "P(Crescimento Alto e Solo Não Poluído) = 0.39\n",
            "P(Crescimento Baixo e Solo Poluído) = 0.28\n",
            "P(Crescimento Baixo e Solo Não Poluído) = 0.17\n",
            "\n",
            "3. Probabilidades Condicionais:\n",
            "P(Crescimento Alto | Solo Poluído) = 0.38\n",
            "P(Solo Não Poluído | Crescimento Alto) = 0.70\n",
            "\n",
            "============================================================\n",
            "\n",
            "\n"
          ]
        }
      ]
    }
  ]
}