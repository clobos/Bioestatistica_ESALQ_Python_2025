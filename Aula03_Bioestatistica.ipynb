{
  "nbformat": 4,
  "nbformat_minor": 0,
  "metadata": {
    "colab": {
      "provenance": [],
      "authorship_tag": "ABX9TyP6HE5GD4W33aHBEh1F3RRm",
      "include_colab_link": true
    },
    "kernelspec": {
      "name": "python3",
      "display_name": "Python 3"
    },
    "language_info": {
      "name": "python"
    }
  },
  "cells": [
    {
      "cell_type": "markdown",
      "metadata": {
        "id": "view-in-github",
        "colab_type": "text"
      },
      "source": [
        "<a href=\"https://colab.research.google.com/github/clobos/Bioestatistica_ESALQ_Python_2025/blob/main/Aula03_Bioestatistica.ipynb\" target=\"_parent\"><img src=\"https://colab.research.google.com/assets/colab-badge.svg\" alt=\"Open In Colab\"/></a>"
      ]
    },
    {
      "cell_type": "markdown",
      "source": [
        "# Revisão da aula 2\n",
        "\n",
        "O que vocês lembram da aula anterior?"
      ],
      "metadata": {
        "id": "OK0J-bWja77w"
      }
    },
    {
      "cell_type": "markdown",
      "source": [
        "# Aula nova!"
      ],
      "metadata": {
        "id": "WeTGRfB2jViN"
      }
    },
    {
      "cell_type": "code",
      "source": [
        "import numpy as np\n",
        "import statistics as stats\n",
        "\n",
        "# Conjuntos de dados\n",
        "conjunto_a = [5, 5, 5, 10, 20]\n",
        "conjunto_b = [4, 5, 5, 11, 20]\n",
        "conjunto_c = [3, 5, 5, 12, 20]\n",
        "\n",
        "# Lista com todos os conjuntos para iterar\n",
        "dados = {'Conjunto A': conjunto_a, 'Conjunto B': conjunto_b, 'Conjunto C': conjunto_c}\n",
        "\n",
        "print(dados)\n"
      ],
      "metadata": {
        "colab": {
          "base_uri": "https://localhost:8080/"
        },
        "id": "yFEiq-43eKcq",
        "outputId": "c501d0f4-3a7c-469d-87e6-5b985ecd3dda"
      },
      "execution_count": 117,
      "outputs": [
        {
          "output_type": "stream",
          "name": "stdout",
          "text": [
            "{'Conjunto A': [5, 5, 5, 10, 20], 'Conjunto B': [4, 5, 5, 11, 20], 'Conjunto C': [3, 5, 5, 12, 20]}\n"
          ]
        }
      ]
    },
    {
      "cell_type": "markdown",
      "source": [
        "## Calcular e exibir as medidas para cada conjunto"
      ],
      "metadata": {
        "id": "uMdxUo2tm0bc"
      }
    },
    {
      "cell_type": "code",
      "source": [
        "for nome, dados in dados.items():\n",
        "    media = np.mean(dados)\n",
        "    mediana = np.median(dados)\n",
        "\n",
        "    # A moda pode ter mais de um valor, então a biblioteca retorna uma lista\n",
        "    try:\n",
        "        moda = stats.mode(dados)\n",
        "    except stats.StatisticsError:\n",
        "        # Lida com o caso de não haver moda única\n",
        "        moda = \"Não há uma moda única\"\n",
        "\n",
        "    print(f\"--- {nome} ---\")\n",
        "    print(f\"Dados: {dados}\")\n",
        "    print(f\"Média: {media}\")\n",
        "    print(f\"Mediana: {mediana}\")\n",
        "    print(f\"Moda: {moda}\\n\")"
      ],
      "metadata": {
        "colab": {
          "base_uri": "https://localhost:8080/"
        },
        "id": "vylv4cIrfYce",
        "outputId": "4049daaf-455d-4ef7-8740-89e3b3848f88"
      },
      "execution_count": 118,
      "outputs": [
        {
          "output_type": "stream",
          "name": "stdout",
          "text": [
            "--- Conjunto A ---\n",
            "Dados: [5, 5, 5, 10, 20]\n",
            "Média: 9.0\n",
            "Mediana: 5.0\n",
            "Moda: 5\n",
            "\n",
            "--- Conjunto B ---\n",
            "Dados: [4, 5, 5, 11, 20]\n",
            "Média: 9.0\n",
            "Mediana: 5.0\n",
            "Moda: 5\n",
            "\n",
            "--- Conjunto C ---\n",
            "Dados: [3, 5, 5, 12, 20]\n",
            "Média: 9.0\n",
            "Mediana: 5.0\n",
            "Moda: 5\n",
            "\n"
          ]
        }
      ]
    },
    {
      "cell_type": "code",
      "source": [
        "import matplotlib.pyplot as plt\n",
        "import numpy as np\n",
        "\n",
        "min_val = min(min(conjunto_a), min(conjunto_b), min(conjunto_c))\n",
        "print(min_val)"
      ],
      "metadata": {
        "colab": {
          "base_uri": "https://localhost:8080/"
        },
        "id": "odOS_xqXjlVN",
        "outputId": "60c38e33-33d7-486a-8b9b-fda3d051db20"
      },
      "execution_count": 119,
      "outputs": [
        {
          "output_type": "stream",
          "name": "stdout",
          "text": [
            "3\n"
          ]
        }
      ]
    },
    {
      "cell_type": "code",
      "source": [
        "max_val = max(max(conjunto_a), max(conjunto_b), max(conjunto_c))\n",
        "print(max_val)"
      ],
      "metadata": {
        "colab": {
          "base_uri": "https://localhost:8080/"
        },
        "id": "obnG6qWgjnZq",
        "outputId": "dfec7628-540e-422c-e38e-b5f8727e2b04"
      },
      "execution_count": 120,
      "outputs": [
        {
          "output_type": "stream",
          "name": "stdout",
          "text": [
            "20\n"
          ]
        }
      ]
    },
    {
      "cell_type": "markdown",
      "source": [
        "## Gráficos de dispersão"
      ],
      "metadata": {
        "id": "YslEvhkqmuv1"
      }
    },
    {
      "cell_type": "code",
      "source": [
        "plt.figure(figsize=(15, 5))\n",
        "\n",
        "plt.subplot(1, 3, 1)\n",
        "plt.scatter(range(len(conjunto_a)), conjunto_a, label='dados 1')\n",
        "plt.ylim([min_val - 1, max_val + 1])\n",
        "plt.xlabel(\"Índice\")\n",
        "plt.ylabel(\"Valor\")\n",
        "plt.title(\"dados 1\")\n",
        "plt.grid(True)\n",
        "plt.legend()\n",
        "\n",
        "\n",
        "plt.subplot(1, 3, 2)\n",
        "plt.scatter(range(len(conjunto_b)), conjunto_b, label='dados 2', color='orange')\n",
        "plt.ylim([min_val - 1, max_val + 1])\n",
        "plt.xlabel(\"Índice\")\n",
        "plt.ylabel(\"Valor\")\n",
        "plt.title(\"dados 2\")\n",
        "plt.grid(True)\n",
        "plt.legend()\n",
        "\n",
        "plt.subplot(1, 3, 3)\n",
        "plt.scatter(range(len(conjunto_c)), conjunto_c, label='dados 3', color='green')\n",
        "plt.ylim([min_val - 1, max_val + 1])\n",
        "plt.xlabel(\"Índice\")\n",
        "plt.ylabel(\"Valor\")\n",
        "plt.title(\"dados 3\")\n",
        "plt.grid(True)\n",
        "plt.legend()\n",
        "\n",
        "plt.tight_layout()\n",
        "plt.show()"
      ],
      "metadata": {
        "colab": {
          "base_uri": "https://localhost:8080/",
          "height": 507
        },
        "id": "xaBvRWkHekHC",
        "outputId": "e129e884-fffe-4917-e41e-a845f8bea4f6"
      },
      "execution_count": 121,
      "outputs": [
        {
          "output_type": "display_data",
          "data": {
            "text/plain": [
              "<Figure size 1500x500 with 3 Axes>"
            ],
            "image/png": "[encoded data removed]"
          },
          "metadata": {}
        }
      ]
    },
    {
      "cell_type": "code",
      "source": [
        "print(\"dados 1:\")\n",
        "print(\"Variância:\", np.var(conjunto_a, ddof =1))"
      ],
      "metadata": {
        "colab": {
          "base_uri": "https://localhost:8080/"
        },
        "id": "29DDdnByhI3B",
        "outputId": "928f2c4a-1722-4905-c6c2-7dff9a66d65a"
      },
      "execution_count": 122,
      "outputs": [
        {
          "output_type": "stream",
          "name": "stdout",
          "text": [
            "dados 1:\n",
            "Variância: 42.5\n"
          ]
        }
      ]
    },
    {
      "cell_type": "code",
      "source": [
        "print(\"dados 2:\")\n",
        "print(\"Variância:\", np.var(conjunto_b, ddof =1))\n"
      ],
      "metadata": {
        "colab": {
          "base_uri": "https://localhost:8080/"
        },
        "id": "O3lo6ipnk5Q4",
        "outputId": "7eba1c4c-5fb2-4e77-b9bf-d8604ea52652"
      },
      "execution_count": 123,
      "outputs": [
        {
          "output_type": "stream",
          "name": "stdout",
          "text": [
            "dados 2:\n",
            "Variância: 45.5\n"
          ]
        }
      ]
    },
    {
      "cell_type": "code",
      "source": [
        "print(\"dados 3:\")\n",
        "print(\"Variância:\", np.var(conjunto_c, ddof =1))"
      ],
      "metadata": {
        "colab": {
          "base_uri": "https://localhost:8080/"
        },
        "id": "-kCAnPKjk6jG",
        "outputId": "32326ff2-b9fc-4f29-9bcc-bce1822e901f"
      },
      "execution_count": 124,
      "outputs": [
        {
          "output_type": "stream",
          "name": "stdout",
          "text": [
            "dados 3:\n",
            "Variância: 49.5\n"
          ]
        }
      ]
    },
    {
      "cell_type": "markdown",
      "source": [
        "# Calculo da variância (manualmente)"
      ],
      "metadata": {
        "id": "Qx7oxrSjmls4"
      }
    },
    {
      "cell_type": "code",
      "source": [
        "variancia_conjunto_a = np.sum((conjunto_a-np.mean(conjunto_a))**2)/(len(conjunto_a)-1)\n",
        "\n",
        "print(variancia_conjunto_a)"
      ],
      "metadata": {
        "colab": {
          "base_uri": "https://localhost:8080/"
        },
        "id": "fYqwVnF3kXLl",
        "outputId": "976845ac-09b3-4987-d56f-16c61fd37992"
      },
      "execution_count": 125,
      "outputs": [
        {
          "output_type": "stream",
          "name": "stdout",
          "text": [
            "42.5\n"
          ]
        }
      ]
    },
    {
      "cell_type": "code",
      "source": [
        "import numpy as np\n",
        "\n",
        "dados = {'Conjunto A': conjunto_a, 'Conjunto B': conjunto_b, 'Conjunto C': conjunto_c}\n",
        "\n",
        "print(dados)\n"
      ],
      "metadata": {
        "colab": {
          "base_uri": "https://localhost:8080/"
        },
        "id": "xbcmvDjwnfOv",
        "outputId": "3e3c7ef1-b7f8-4cc4-fedc-66df7a245d0a"
      },
      "execution_count": 126,
      "outputs": [
        {
          "output_type": "stream",
          "name": "stdout",
          "text": [
            "{'Conjunto A': [5, 5, 5, 10, 20], 'Conjunto B': [4, 5, 5, 11, 20], 'Conjunto C': [3, 5, 5, 12, 20]}\n"
          ]
        }
      ]
    },
    {
      "cell_type": "code",
      "source": [
        "print(type(dados.items()))"
      ],
      "metadata": {
        "colab": {
          "base_uri": "https://localhost:8080/"
        },
        "id": "J-B5pUZGpJ2v",
        "outputId": "d30355c6-719f-4e1c-debb-74cbe6aa58c2"
      },
      "execution_count": 127,
      "outputs": [
        {
          "output_type": "stream",
          "name": "stdout",
          "text": [
            "<class 'dict_items'>\n"
          ]
        }
      ]
    },
    {
      "cell_type": "code",
      "source": [
        "for nome, dados in dados.items():\n",
        "\n",
        "    Amplitude = np.max(dados) - np.min(dados)\n",
        "\n",
        "    Variancia = np.var(dados, ddof=1)\n",
        "\n",
        "    Desvio_Padrao = np.std(dados, ddof=1)\n",
        "\n",
        "    print(f\"--- {nome} ---\")\n",
        "    print(f\"Amplitude: {Amplitude}\")\n",
        "    print(f\"Variância: {Variancia:.2f}\")\n",
        "    print(f\"Desvio Padrão: {Desvio_Padrao:.2f}\\n\")"
      ],
      "metadata": {
        "colab": {
          "base_uri": "https://localhost:8080/"
        },
        "id": "ly_QbxBppDJT",
        "outputId": "3f325525-8c72-4010-f30f-74f099761c41"
      },
      "execution_count": 128,
      "outputs": [
        {
          "output_type": "stream",
          "name": "stdout",
          "text": [
            "--- Conjunto A ---\n",
            "Amplitude: 15\n",
            "Variância: 42.50\n",
            "Desvio Padrão: 6.52\n",
            "\n",
            "--- Conjunto B ---\n",
            "Amplitude: 16\n",
            "Variância: 45.50\n",
            "Desvio Padrão: 6.75\n",
            "\n",
            "--- Conjunto C ---\n",
            "Amplitude: 17\n",
            "Variância: 49.50\n",
            "Desvio Padrão: 7.04\n",
            "\n"
          ]
        }
      ]
    },
    {
      "cell_type": "markdown",
      "source": [
        "# Cenário do Experimento: Efeito de um Novo Fertilizante em Plantas de Soja\n",
        "\n",
        "Um **biólogo** queria testar o efeito de um novo fertilizante no crescimento de plantas de soja. Ele dividiu 30 plantas em três grupos: um grupo controle (sem fertilizante), um grupo com fertilizante padrão e um grupo com o novo fertilizante. Após 45 dias, ele mediu várias características das plantas."
      ],
      "metadata": {
        "id": "-IDiDGQlGLAm"
      }
    },
    {
      "cell_type": "markdown",
      "source": [
        "# Dados para estudar na aula\n",
        "\n",
        "* id: ID da Planta\n",
        "* tratamento: Grupo de Tratamento\n",
        "* tipo_solo: Tipo de Solo\n",
        "* ph: pH do Solo\n",
        "* altura: Altura (cm)\n",
        "* peso_folhagem: Peso da Folhagem (g)\n",
        "* numero_vagens: Número de Vagens\n",
        "* qualidade_folhagem: Qualidade da Folhagem\n"
      ],
      "metadata": {
        "id": "ayAgaDLHGOH9"
      }
    },
    {
      "cell_type": "code",
      "source": [
        "import pandas as pd\n",
        "import numpy as np\n",
        "\n",
        "dados = pd.read_csv(\"/content/soja.csv\", encoding= \"latin-1\")\n",
        "dados = dados.drop('id', axis=1)\n",
        "dados.head()"
      ],
      "metadata": {
        "colab": {
          "base_uri": "https://localhost:8080/",
          "height": 206
        },
        "id": "KgLfiYhuGS2d",
        "outputId": "2104a0be-2c15-4193-806a-73c517209147"
      },
      "execution_count": 129,
      "outputs": [
        {
          "output_type": "execute_result",
          "data": {
            "text/plain": [
              "          tratamento tipo_solo   ph  altura  peso  numero_vagens  \\\n",
              "0           Controle  Argiloso  6.5    45.2  55.8             12   \n",
              "1             Padrão   Arenoso  6.8    58.9  72.1             18   \n",
              "2  Novo Fertilizante     Húmus  7.1    75.4  95.5             25   \n",
              "3           Controle  Argiloso  6.4    48.1  60.3             14   \n",
              "4             Padrão   Arenoso  6.7    62.5  78.2             20   \n",
              "\n",
              "  qualidade_folhagem  \n",
              "0              Baixa  \n",
              "1              Média  \n",
              "2               Alta  \n",
              "3              Baixa  \n",
              "4              Média  "
            ],
            "text/html": [
              "\n",
              "  <div id=\"df-b0a5eadb-5a94-4fee-9d0c-450d681ab73f\" class=\"colab-df-container\">\n",
              "    <div>\n",
              "<style scoped>\n",
              "    .dataframe tbody tr th:only-of-type {\n",
              "        vertical-align: middle;\n",
              "    }\n",
              "\n",
              "    .dataframe tbody tr th {\n",
              "        vertical-align: top;\n",
              "    }\n",
              "\n",
              "    .dataframe thead th {\n",
              "        text-align: right;\n",
              "    }\n",
              "</style>\n",
              "<table border=\"1\" class=\"dataframe\">\n",
              "  <thead>\n",
              "    <tr style=\"text-align: right;\">\n",
              "      <th></th>\n",
              "      <th>tratamento</th>\n",
              "      <th>tipo_solo</th>\n",
              "      <th>ph</th>\n",
              "      <th>altura</th>\n",
              "      <th>peso</th>\n",
              "      <th>numero_vagens</th>\n",
              "      <th>qualidade_folhagem</th>\n",
              "    </tr>\n",
              "  </thead>\n",
              "  <tbody>\n",
              "    <tr>\n",
              "      <th>0</th>\n",
              "      <td>Controle</td>\n",
              "      <td>Argiloso</td>\n",
              "      <td>6.5</td>\n",
              "      <td>45.2</td>\n",
              "      <td>55.8</td>\n",
              "      <td>12</td>\n",
              "      <td>Baixa</td>\n",
              "    </tr>\n",
              "    <tr>\n",
              "      <th>1</th>\n",
              "      <td>Padrão</td>\n",
              "      <td>Arenoso</td>\n",
              "      <td>6.8</td>\n",
              "      <td>58.9</td>\n",
              "      <td>72.1</td>\n",
              "      <td>18</td>\n",
              "      <td>Média</td>\n",
              "    </tr>\n",
              "    <tr>\n",
              "      <th>2</th>\n",
              "      <td>Novo Fertilizante</td>\n",
              "      <td>Húmus</td>\n",
              "      <td>7.1</td>\n",
              "      <td>75.4</td>\n",
              "      <td>95.5</td>\n",
              "      <td>25</td>\n",
              "      <td>Alta</td>\n",
              "    </tr>\n",
              "    <tr>\n",
              "      <th>3</th>\n",
              "      <td>Controle</td>\n",
              "      <td>Argiloso</td>\n",
              "      <td>6.4</td>\n",
              "      <td>48.1</td>\n",
              "      <td>60.3</td>\n",
              "      <td>14</td>\n",
              "      <td>Baixa</td>\n",
              "    </tr>\n",
              "    <tr>\n",
              "      <th>4</th>\n",
              "      <td>Padrão</td>\n",
              "      <td>Arenoso</td>\n",
              "      <td>6.7</td>\n",
              "      <td>62.5</td>\n",
              "      <td>78.2</td>\n",
              "      <td>20</td>\n",
              "      <td>Média</td>\n",
              "    </tr>\n",
              "  </tbody>\n",
              "</table>\n",
              "</div>\n",
              "    <div class=\"colab-df-buttons\">\n",
              "\n",
              "  <div class=\"colab-df-container\">\n",
              "    <button class=\"colab-df-convert\" onclick=\"convertToInteractive('df-b0a5eadb-5a94-4fee-9d0c-450d681ab73f')\"\n",
              "            title=\"Convert this dataframe to an interactive table.\"\n",
              "            style=\"display:none;\">\n",
              "\n",
              "  <svg xmlns=\"http://www.w3.org/2000/svg\" height=\"24px\" viewBox=\"0 -960 960 960\">\n",
              "    <path d=\"M120-120v-720h720v720H120Zm60-500h600v-160H180v160Zm220 220h160v-160H400v160Zm0 220h160v-160H400v160ZM180-400h160v-160H180v160Zm440 0h160v-160H620v160ZM180-180h160v-160H180v160Zm440 0h160v-160H620v160Z\"/>\n",
              "  </svg>\n",
              "    </button>\n",
              "\n",
              "  <style>\n",
              "    .colab-df-container {\n",
              "      display:flex;\n",
              "      gap: 12px;\n",
              "    }\n",
              "\n",
              "    .colab-df-convert {\n",
              "      background-color: #E8F0FE;\n",
              "      border: none;\n",
              "      border-radius: 50%;\n",
              "      cursor: pointer;\n",
              "      display: none;\n",
              "      fill: #1967D2;\n",
              "      height: 32px;\n",
              "      padding: 0 0 0 0;\n",
              "      width: 32px;\n",
              "    }\n",
              "\n",
              "    .colab-df-convert:hover {\n",
              "      background-color: #E2EBFA;\n",
              "      box-shadow: 0px 1px 2px rgba(60, 64, 67, 0.3), 0px 1px 3px 1px rgba(60, 64, 67, 0.15);\n",
              "      fill: #174EA6;\n",
              "    }\n",
              "\n",
              "    .colab-df-buttons div {\n",
              "      margin-bottom: 4px;\n",
              "    }\n",
              "\n",
              "    [theme=dark] .colab-df-convert {\n",
              "      background-color: #3B4455;\n",
              "      fill: #D2E3FC;\n",
              "    }\n",
              "\n",
              "    [theme=dark] .colab-df-convert:hover {\n",
              "      background-color: #434B5C;\n",
              "      box-shadow: 0px 1px 3px 1px rgba(0, 0, 0, 0.15);\n",
              "      filter: drop-shadow(0px 1px 2px rgba(0, 0, 0, 0.3));\n",
              "      fill: #FFFFFF;\n",
              "    }\n",
              "  </style>\n",
              "\n",
              "    <script>\n",
              "      const buttonEl =\n",
              "        document.querySelector('#df-b0a5eadb-5a94-4fee-9d0c-450d681ab73f button.colab-df-convert');\n",
              "      buttonEl.style.display =\n",
              "        google.colab.kernel.accessAllowed ? 'block' : 'none';\n",
              "\n",
              "      async function convertToInteractive(key) {\n",
              "        const element = document.querySelector('#df-b0a5eadb-5a94-4fee-9d0c-450d681ab73f');\n",
              "        const dataTable =\n",
              "          await google.colab.kernel.invokeFunction('convertToInteractive',\n",
              "                                                    [key], {});\n",
              "        if (!dataTable) return;\n",
              "\n",
              "        const docLinkHtml = 'Like what you see? Visit the ' +\n",
              "          '<a target=\"_blank\" href=https://colab.research.google.com/notebooks/data_table.ipynb>data table notebook</a>'\n",
              "          + ' to learn more about interactive tables.';\n",
              "        element.innerHTML = '';\n",
              "        dataTable['output_type'] = 'display_data';\n",
              "        await google.colab.output.renderOutput(dataTable, element);\n",
              "        const docLink = document.createElement('div');\n",
              "        docLink.innerHTML = docLinkHtml;\n",
              "        element.appendChild(docLink);\n",
              "      }\n",
              "    </script>\n",
              "  </div>\n",
              "\n",
              "\n",
              "    <div id=\"df-9c38b77e-090c-4f91-8830-25a4a226a8c7\">\n",
              "      <button class=\"colab-df-quickchart\" onclick=\"quickchart('df-9c38b77e-090c-4f91-8830-25a4a226a8c7')\"\n",
              "                title=\"Suggest charts\"\n",
              "                style=\"display:none;\">\n",
              "\n",
              "<svg xmlns=\"http://www.w3.org/2000/svg\" height=\"24px\"viewBox=\"0 0 24 24\"\n",
              "     width=\"24px\">\n",
              "    <g>\n",
              "        <path d=\"M19 3H5c-1.1 0-2 .9-2 2v14c0 1.1.9 2 2 2h14c1.1 0 2-.9 2-2V5c0-1.1-.9-2-2-2zM9 17H7v-7h2v7zm4 0h-2V7h2v10zm4 0h-2v-4h2v4z\"/>\n",
              "    </g>\n",
              "</svg>\n",
              "      </button>\n",
              "\n",
              "<style>\n",
              "  .colab-df-quickchart {\n",
              "      --bg-color: #E8F0FE;\n",
              "      --fill-color: #1967D2;\n",
              "      --hover-bg-color: #E2EBFA;\n",
              "      --hover-fill-color: #174EA6;\n",
              "      --disabled-fill-color: #AAA;\n",
              "      --disabled-bg-color: #DDD;\n",
              "  }\n",
              "\n",
              "  [theme=dark] .colab-df-quickchart {\n",
              "      --bg-color: #3B4455;\n",
              "      --fill-color: #D2E3FC;\n",
              "      --hover-bg-color: #434B5C;\n",
              "      --hover-fill-color: #FFFFFF;\n",
              "      --disabled-bg-color: #3B4455;\n",
              "      --disabled-fill-color: #666;\n",
              "  }\n",
              "\n",
              "  .colab-df-quickchart {\n",
              "    background-color: var(--bg-color);\n",
              "    border: none;\n",
              "    border-radius: 50%;\n",
              "    cursor: pointer;\n",
              "    display: none;\n",
              "    fill: var(--fill-color);\n",
              "    height: 32px;\n",
              "    padding: 0;\n",
              "    width: 32px;\n",
              "  }\n",
              "\n",
              "  .colab-df-quickchart:hover {\n",
              "    background-color: var(--hover-bg-color);\n",
              "    box-shadow: 0 1px 2px rgba(60, 64, 67, 0.3), 0 1px 3px 1px rgba(60, 64, 67, 0.15);\n",
              "    fill: var(--button-hover-fill-color);\n",
              "  }\n",
              "\n",
              "  .colab-df-quickchart-complete:disabled,\n",
              "  .colab-df-quickchart-complete:disabled:hover {\n",
              "    background-color: var(--disabled-bg-color);\n",
              "    fill: var(--disabled-fill-color);\n",
              "    box-shadow: none;\n",
              "  }\n",
              "\n",
              "  .colab-df-spinner {\n",
              "    border: 2px solid var(--fill-color);\n",
              "    border-color: transparent;\n",
              "    border-bottom-color: var(--fill-color);\n",
              "    animation:\n",
              "      spin 1s steps(1) infinite;\n",
              "  }\n",
              "\n",
              "  @keyframes spin {\n",
              "    0% {\n",
              "      border-color: transparent;\n",
              "      border-bottom-color: var(--fill-color);\n",
              "      border-left-color: var(--fill-color);\n",
              "    }\n",
              "    20% {\n",
              "      border-color: transparent;\n",
              "      border-left-color: var(--fill-color);\n",
              "      border-top-color: var(--fill-color);\n",
              "    }\n",
              "    30% {\n",
              "      border-color: transparent;\n",
              "      border-left-color: var(--fill-color);\n",
              "      border-top-color: var(--fill-color);\n",
              "      border-right-color: var(--fill-color);\n",
              "    }\n",
              "    40% {\n",
              "      border-color: transparent;\n",
              "      border-right-color: var(--fill-color);\n",
              "      border-top-color: var(--fill-color);\n",
              "    }\n",
              "    60% {\n",
              "      border-color: transparent;\n",
              "      border-right-color: var(--fill-color);\n",
              "    }\n",
              "    80% {\n",
              "      border-color: transparent;\n",
              "      border-right-color: var(--fill-color);\n",
              "      border-bottom-color: var(--fill-color);\n",
              "    }\n",
              "    90% {\n",
              "      border-color: transparent;\n",
              "      border-bottom-color: var(--fill-color);\n",
              "    }\n",
              "  }\n",
              "</style>\n",
              "\n",
              "      <script>\n",
              "        async function quickchart(key) {\n",
              "          const quickchartButtonEl =\n",
              "            document.querySelector('#' + key + ' button');\n",
              "          quickchartButtonEl.disabled = true;  // To prevent multiple clicks.\n",
              "          quickchartButtonEl.classList.add('colab-df-spinner');\n",
              "          try {\n",
              "            const charts = await google.colab.kernel.invokeFunction(\n",
              "                'suggestCharts', [key], {});\n",
              "          } catch (error) {\n",
              "            console.error('Error during call to suggestCharts:', error);\n",
              "          }\n",
              "          quickchartButtonEl.classList.remove('colab-df-spinner');\n",
              "          quickchartButtonEl.classList.add('colab-df-quickchart-complete');\n",
              "        }\n",
              "        (() => {\n",
              "          let quickchartButtonEl =\n",
              "            document.querySelector('#df-9c38b77e-090c-4f91-8830-25a4a226a8c7 button');\n",
              "          quickchartButtonEl.style.display =\n",
              "            google.colab.kernel.accessAllowed ? 'block' : 'none';\n",
              "        })();\n",
              "      </script>\n",
              "    </div>\n",
              "\n",
              "    </div>\n",
              "  </div>\n"
            ],
            "application/vnd.google.colaboratory.intrinsic+json": {
              "type": "dataframe",
              "variable_name": "dados",
              "summary": "{\n  \"name\": \"dados\",\n  \"rows\": 30,\n  \"fields\": [\n    {\n      \"column\": \"tratamento\",\n      \"properties\": {\n        \"dtype\": \"category\",\n        \"num_unique_values\": 3,\n        \"samples\": [\n          \"Controle\",\n          \"Padr\\u00e3o\",\n          \"Novo Fertilizante\"\n        ],\n        \"semantic_type\": \"\",\n        \"description\": \"\"\n      }\n    },\n    {\n      \"column\": \"tipo_solo\",\n      \"properties\": {\n        \"dtype\": \"category\",\n        \"num_unique_values\": 3,\n        \"samples\": [\n          \"Argiloso\",\n          \"Arenoso\",\n          \"H\\u00famus\"\n        ],\n        \"semantic_type\": \"\",\n        \"description\": \"\"\n      }\n    },\n    {\n      \"column\": \"ph\",\n      \"properties\": {\n        \"dtype\": \"number\",\n        \"std\": 0.26129650221341555,\n        \"min\": 6.4,\n        \"max\": 7.2,\n        \"num_unique_values\": 9,\n        \"samples\": [\n          6.9,\n          6.8,\n          7.2\n        ],\n        \"semantic_type\": \"\",\n        \"description\": \"\"\n      }\n    },\n    {\n      \"column\": \"altura\",\n      \"properties\": {\n        \"dtype\": \"number\",\n        \"std\": 12.85635090609655,\n        \"min\": 42.9,\n        \"max\": 80.5,\n        \"num_unique_values\": 30,\n        \"samples\": [\n          45.8,\n          44.5,\n          79.9\n        ],\n        \"semantic_type\": \"\",\n        \"description\": \"\"\n      }\n    },\n    {\n      \"column\": \"peso\",\n      \"properties\": {\n        \"dtype\": \"number\",\n        \"std\": 17.292456996202628,\n        \"min\": 51.7,\n        \"max\": 105.3,\n        \"num_unique_values\": 30,\n        \"samples\": [\n          56.7,\n          54.2,\n          103.5\n        ],\n        \"semantic_type\": \"\",\n        \"description\": \"\"\n      }\n    },\n    {\n      \"column\": \"numero_vagens\",\n      \"properties\": {\n        \"dtype\": \"number\",\n        \"std\": 6,\n        \"min\": 10,\n        \"max\": 30,\n        \"num_unique_values\": 19,\n        \"samples\": [\n          12,\n          28,\n          26\n        ],\n        \"semantic_type\": \"\",\n        \"description\": \"\"\n      }\n    },\n    {\n      \"column\": \"qualidade_folhagem\",\n      \"properties\": {\n        \"dtype\": \"category\",\n        \"num_unique_values\": 3,\n        \"samples\": [\n          \"Baixa\",\n          \"M\\u00e9dia\",\n          \"Alta\"\n        ],\n        \"semantic_type\": \"\",\n        \"description\": \"\"\n      }\n    }\n  ]\n}"
            }
          },
          "metadata": {},
          "execution_count": 129
        }
      ]
    },
    {
      "cell_type": "markdown",
      "source": [
        "# Medidas de variabilidade\n",
        "\n",
        "Determine a amplitude, variância e desvio padrão das variáveis Peso da Folhagem (g) e Número de Vagens. Qual das duas variáveis em estudo possui maior variabilidade?\n"
      ],
      "metadata": {
        "id": "bMvW5oUNF2cY"
      }
    },
    {
      "cell_type": "code",
      "execution_count": 130,
      "metadata": {
        "id": "y6TZhZi6GDa5"
      },
      "outputs": [],
      "source": [
        "# Amplitude"
      ]
    },
    {
      "cell_type": "code",
      "source": [
        "# Variância"
      ],
      "metadata": {
        "id": "P1NP4AJVGBzV"
      },
      "execution_count": 131,
      "outputs": []
    },
    {
      "cell_type": "code",
      "source": [
        "# Desvio padrão"
      ],
      "metadata": {
        "id": "MLffyNOCGDUV"
      },
      "execution_count": 132,
      "outputs": []
    },
    {
      "cell_type": "markdown",
      "source": [
        "# Medidas de posição\n",
        "\n",
        "Determine o **Q1, Q2, Q3** para a variável **Peso da Folhagem**. Interprete os resultados."
      ],
      "metadata": {
        "id": "b9DR9cdGGvf9"
      }
    },
    {
      "cell_type": "code",
      "source": [
        "# Q1"
      ],
      "metadata": {
        "id": "BVDc85XhoaP4"
      },
      "execution_count": 133,
      "outputs": []
    },
    {
      "cell_type": "code",
      "source": [
        "# Q2"
      ],
      "metadata": {
        "id": "xJJe6AZzodFb"
      },
      "execution_count": 134,
      "outputs": []
    },
    {
      "cell_type": "code",
      "source": [
        "# Q3"
      ],
      "metadata": {
        "id": "qUdiTUjFoegB"
      },
      "execution_count": 135,
      "outputs": []
    },
    {
      "cell_type": "code",
      "source": [
        "# IQR"
      ],
      "metadata": {
        "id": "Qz3fNrgKohJw"
      },
      "execution_count": 136,
      "outputs": []
    },
    {
      "cell_type": "code",
      "source": [
        "# Q1 - 1.5*IQR"
      ],
      "metadata": {
        "id": "h6bGgjNpojQg"
      },
      "execution_count": 137,
      "outputs": []
    },
    {
      "cell_type": "code",
      "source": [
        "# Q3 + 1.5*IQR"
      ],
      "metadata": {
        "id": "Cpy_qAAZomq4"
      },
      "execution_count": 138,
      "outputs": []
    },
    {
      "cell_type": "markdown",
      "source": [
        "# Boxplot (gráfico de caixas-e-bigodes)\n",
        "\n",
        "Faça um boxplot para a variável **Peso da Folhagem**. Interprete os resultados."
      ],
      "metadata": {
        "id": "0ChHZpSoGmpM"
      }
    },
    {
      "cell_type": "code",
      "source": [],
      "metadata": {
        "id": "RGfecTF3oYzR"
      },
      "execution_count": 138,
      "outputs": []
    },
    {
      "cell_type": "code",
      "metadata": {
        "id": "bb759d62"
      },
      "source": [],
      "execution_count": 138,
      "outputs": []
    },
    {
      "cell_type": "code",
      "metadata": {
        "id": "63294cfc"
      },
      "source": [],
      "execution_count": 138,
      "outputs": []
    }
  ]
}