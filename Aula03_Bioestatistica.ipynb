{
  "nbformat": 4,
  "nbformat_minor": 0,
  "metadata": {
    "colab": {
      "provenance": [],
      "authorship_tag": "ABX9TyNc8FT388Jlu0ek0APCCzA2",
      "include_colab_link": true
    },
    "kernelspec": {
      "name": "python3",
      "display_name": "Python 3"
    },
    "language_info": {
      "name": "python"
    }
  },
  "cells": [
    {
      "cell_type": "markdown",
      "metadata": {
        "id": "view-in-github",
        "colab_type": "text"
      },
      "source": [
        "<a href=\"https://colab.research.google.com/github/clobos/Bioestatistica_ESALQ_Python_2025/blob/main/Aula03_Bioestatistica.ipynb\" target=\"_parent\"><img src=\"https://colab.research.google.com/assets/colab-badge.svg\" alt=\"Open In Colab\"/></a>"
      ]
    },
    {
      "cell_type": "markdown",
      "source": [
        "# Revisão da aula 2\n",
        "\n",
        "O que vocês lembram da aula anterior?"
      ],
      "metadata": {
        "id": "OK0J-bWja77w"
      }
    },
    {
      "cell_type": "markdown",
      "source": [
        "# Aula nova!"
      ],
      "metadata": {
        "id": "WeTGRfB2jViN"
      }
    },
    {
      "cell_type": "code",
      "source": [
        "import numpy as np\n",
        "import statistics as stats\n",
        "\n",
        "# Conjuntos de dados\n",
        "conjunto_a = [5, 5, 5, 10, 20]\n",
        "conjunto_b = [4, 5, 5, 11, 20]\n",
        "conjunto_c = [3, 5, 5, 12, 20]\n",
        "\n",
        "# Lista com todos os conjuntos para iterar\n",
        "dados = {'Conjunto A': conjunto_a, 'Conjunto B': conjunto_b, 'Conjunto C': conjunto_c}\n",
        "\n",
        "print(dados)\n"
      ],
      "metadata": {
        "colab": {
          "base_uri": "https://localhost:8080/"
        },
        "id": "yFEiq-43eKcq",
        "outputId": "fa8e3166-3d60-4078-c489-c33a6f8d8ff6"
      },
      "execution_count": 61,
      "outputs": [
        {
          "output_type": "stream",
          "name": "stdout",
          "text": [
            "{'Conjunto A': [5, 5, 5, 10, 20], 'Conjunto B': [4, 5, 5, 11, 20], 'Conjunto C': [3, 5, 5, 12, 20]}\n"
          ]
        }
      ]
    },
    {
      "cell_type": "markdown",
      "source": [
        "## Calcular e exibir as medidas para cada conjunto"
      ],
      "metadata": {
        "id": "uMdxUo2tm0bc"
      }
    },
    {
      "cell_type": "code",
      "source": [
        "for nome, lula in dados.items():\n",
        "    media = np.mean(lula)\n",
        "    mediana = np.median(lula)\n",
        "\n",
        "    # A moda pode ter mais de um valor, então a biblioteca retorna uma lista\n",
        "    try:\n",
        "        moda = stats.multimode(lula)\n",
        "    except stats.StatisticsError:\n",
        "        # Lida com o caso de não haver moda única\n",
        "        moda = \"Não há uma moda única\"\n",
        "\n",
        "    print(f\"--- {nome} ---\")\n",
        "    print(f\"Dados: {lula}\")\n",
        "    print(f\"Média: {media}\")\n",
        "    print(f\"Mediana: {mediana}\")\n",
        "    print(f\"Moda: {moda}\\n\")"
      ],
      "metadata": {
        "colab": {
          "base_uri": "https://localhost:8080/"
        },
        "id": "vylv4cIrfYce",
        "outputId": "3715e53f-40e9-4b3c-d554-2ce4f6b4bd95"
      },
      "execution_count": 62,
      "outputs": [
        {
          "output_type": "stream",
          "name": "stdout",
          "text": [
            "--- Conjunto A ---\n",
            "Dados: [5, 5, 5, 10, 20]\n",
            "Média: 9.0\n",
            "Mediana: 5.0\n",
            "Moda: [5]\n",
            "\n",
            "--- Conjunto B ---\n",
            "Dados: [4, 5, 5, 11, 20]\n",
            "Média: 9.0\n",
            "Mediana: 5.0\n",
            "Moda: [5]\n",
            "\n",
            "--- Conjunto C ---\n",
            "Dados: [3, 5, 5, 12, 20]\n",
            "Média: 9.0\n",
            "Mediana: 5.0\n",
            "Moda: [5]\n",
            "\n"
          ]
        }
      ]
    },
    {
      "cell_type": "code",
      "source": [
        "import matplotlib.pyplot as plt\n",
        "import numpy as np\n",
        "\n",
        "min_val = min(min(conjunto_a), min(conjunto_b), min(conjunto_c))\n",
        "print(min_val)"
      ],
      "metadata": {
        "colab": {
          "base_uri": "https://localhost:8080/"
        },
        "id": "odOS_xqXjlVN",
        "outputId": "b2b1dcfd-d1de-4b27-9a72-4c1d9d86af3a"
      },
      "execution_count": 63,
      "outputs": [
        {
          "output_type": "stream",
          "name": "stdout",
          "text": [
            "3\n"
          ]
        }
      ]
    },
    {
      "cell_type": "code",
      "source": [
        "max_val = max(max(conjunto_a), max(conjunto_b), max(conjunto_c))\n",
        "print(max_val)"
      ],
      "metadata": {
        "colab": {
          "base_uri": "https://localhost:8080/"
        },
        "id": "obnG6qWgjnZq",
        "outputId": "cdb9ee5d-c7af-43d8-f750-1500f3468912"
      },
      "execution_count": 64,
      "outputs": [
        {
          "output_type": "stream",
          "name": "stdout",
          "text": [
            "20\n"
          ]
        }
      ]
    },
    {
      "cell_type": "markdown",
      "source": [
        "## Gráficos de dispersão"
      ],
      "metadata": {
        "id": "YslEvhkqmuv1"
      }
    },
    {
      "cell_type": "code",
      "source": [
        "plt.figure(figsize=(15, 5))\n",
        "\n",
        "plt.subplot(1, 3, 1)\n",
        "plt.scatter(range(len(conjunto_a)), conjunto_a, label='dados 1')\n",
        "plt.ylim([min_val - 1, max_val + 1])\n",
        "plt.xlabel(\"Índice\")\n",
        "plt.ylabel(\"Valor\")\n",
        "plt.title(\"dados 1\")\n",
        "plt.grid(True)\n",
        "plt.legend()\n",
        "\n",
        "\n",
        "plt.subplot(1, 3, 2)\n",
        "plt.scatter(range(len(conjunto_b)), conjunto_b, label='dados 2', color='orange')\n",
        "plt.ylim([min_val - 1, max_val + 1])\n",
        "plt.xlabel(\"Índice\")\n",
        "plt.ylabel(\"Valor\")\n",
        "plt.title(\"dados 2\")\n",
        "plt.grid(True)\n",
        "plt.legend()\n",
        "\n",
        "plt.subplot(1, 3, 3)\n",
        "plt.scatter(range(len(conjunto_c)), conjunto_c, label='dados 3', color='green')\n",
        "plt.ylim([min_val - 1, max_val + 1])\n",
        "plt.xlabel(\"Índice\")\n",
        "plt.ylabel(\"Valor\")\n",
        "plt.title(\"dados 3\")\n",
        "plt.grid(True)\n",
        "plt.legend()\n",
        "\n",
        "plt.tight_layout()\n",
        "plt.show()"
      ],
      "metadata": {
        "colab": {
          "base_uri": "https://localhost:8080/",
          "height": 357
        },
        "id": "xaBvRWkHekHC",
        "outputId": "7ffec353-ce21-457c-90dd-b5185727ba3a"
      },
      "execution_count": 65,
      "outputs": [
        {
          "output_type": "display_data",
          "data": {
            "text/plain": [
              "<Figure size 1500x500 with 3 Axes>"
            ],
            "image/png": "[encoded data removed]"
          },
          "metadata": {}
        }
      ]
    },
    {
      "cell_type": "code",
      "source": [
        "print(\"Variância:\", np.var(conjunto_a, ddof =1))"
      ],
      "metadata": {
        "colab": {
          "base_uri": "https://localhost:8080/"
        },
        "id": "GX6us8smlsUf",
        "outputId": "ae81ec83-383b-45f6-8143-3158bea19277"
      },
      "execution_count": 66,
      "outputs": [
        {
          "output_type": "stream",
          "name": "stdout",
          "text": [
            "Variância: 42.5\n"
          ]
        }
      ]
    },
    {
      "cell_type": "code",
      "source": [
        "print(\"dados 2:\")\n",
        "print(\"Variância:\", np.var(conjunto_b, ddof =1))\n"
      ],
      "metadata": {
        "colab": {
          "base_uri": "https://localhost:8080/"
        },
        "id": "O3lo6ipnk5Q4",
        "outputId": "496115c7-6f4d-4784-c6ed-dd32b826908c"
      },
      "execution_count": 67,
      "outputs": [
        {
          "output_type": "stream",
          "name": "stdout",
          "text": [
            "dados 2:\n",
            "Variância: 45.5\n"
          ]
        }
      ]
    },
    {
      "cell_type": "code",
      "source": [
        "print(\"dados 3:\")\n",
        "print(\"Variância:\", np.var(conjunto_c, ddof =1))"
      ],
      "metadata": {
        "colab": {
          "base_uri": "https://localhost:8080/"
        },
        "id": "-kCAnPKjk6jG",
        "outputId": "ff30221a-4a1b-4008-85bc-b8c53e77f070"
      },
      "execution_count": 68,
      "outputs": [
        {
          "output_type": "stream",
          "name": "stdout",
          "text": [
            "dados 3:\n",
            "Variância: 49.5\n"
          ]
        }
      ]
    },
    {
      "cell_type": "markdown",
      "source": [
        "# Calculo da variância (manualmente)"
      ],
      "metadata": {
        "id": "Qx7oxrSjmls4"
      }
    },
    {
      "cell_type": "code",
      "source": [
        "variancia_conjunto_a = np.sum((conjunto_a-np.mean(conjunto_a))**2)/(len(conjunto_a)-1)\n",
        "\n",
        "print(variancia_conjunto_a)"
      ],
      "metadata": {
        "colab": {
          "base_uri": "https://localhost:8080/"
        },
        "id": "fYqwVnF3kXLl",
        "outputId": "8769bc3a-4d86-434d-a21e-0298828e1301"
      },
      "execution_count": 69,
      "outputs": [
        {
          "output_type": "stream",
          "name": "stdout",
          "text": [
            "42.5\n"
          ]
        }
      ]
    },
    {
      "cell_type": "code",
      "source": [
        "print(dados)"
      ],
      "metadata": {
        "colab": {
          "base_uri": "https://localhost:8080/"
        },
        "id": "J-B5pUZGpJ2v",
        "outputId": "970d3d7f-b521-421a-9afc-2f19824a232e"
      },
      "execution_count": 70,
      "outputs": [
        {
          "output_type": "stream",
          "name": "stdout",
          "text": [
            "{'Conjunto A': [5, 5, 5, 10, 20], 'Conjunto B': [4, 5, 5, 11, 20], 'Conjunto C': [3, 5, 5, 12, 20]}\n"
          ]
        }
      ]
    },
    {
      "cell_type": "code",
      "source": [
        "for nome, pokemon in dados.items():\n",
        "\n",
        "    Amplitude = np.max(pokemon) - np.min(pokemon)\n",
        "\n",
        "    Variancia = np.var(pokemon, ddof=1)\n",
        "\n",
        "    Desvio_Padrao = np.std(pokemon, ddof=1)\n",
        "\n",
        "    print(f\"--- {nome} ---\")\n",
        "    print(f\"Amplitude: {Amplitude}\")\n",
        "    print(f\"Variância: {Variancia:.2f}\")\n",
        "    print(f\"Desvio Padrão: {Desvio_Padrao:.2f}\\n\")"
      ],
      "metadata": {
        "colab": {
          "base_uri": "https://localhost:8080/"
        },
        "id": "ly_QbxBppDJT",
        "outputId": "eb32a181-b473-47e0-ac79-3a95e43e40c0"
      },
      "execution_count": 71,
      "outputs": [
        {
          "output_type": "stream",
          "name": "stdout",
          "text": [
            "--- Conjunto A ---\n",
            "Amplitude: 15\n",
            "Variância: 42.50\n",
            "Desvio Padrão: 6.52\n",
            "\n",
            "--- Conjunto B ---\n",
            "Amplitude: 16\n",
            "Variância: 45.50\n",
            "Desvio Padrão: 6.75\n",
            "\n",
            "--- Conjunto C ---\n",
            "Amplitude: 17\n",
            "Variância: 49.50\n",
            "Desvio Padrão: 7.04\n",
            "\n"
          ]
        }
      ]
    },
    {
      "cell_type": "markdown",
      "source": [
        "# Cenário do Experimento: Efeito de um Novo Fertilizante em Plantas de Soja\n",
        "\n",
        "Um **biólogo** queria testar o efeito de um novo fertilizante no crescimento de plantas de soja. Ele dividiu 30 plantas em três grupos: um grupo controle (sem fertilizante), um grupo com fertilizante padrão e um grupo com o novo fertilizante. Após 45 dias, ele mediu várias características das plantas."
      ],
      "metadata": {
        "id": "-IDiDGQlGLAm"
      }
    },
    {
      "cell_type": "markdown",
      "source": [
        "# Dados para estudar na aula\n",
        "\n",
        "* id: ID da Planta\n",
        "* tratamento: Grupo de Tratamento\n",
        "* tipo_solo: Tipo de Solo\n",
        "* ph: pH do Solo\n",
        "* altura: Altura (cm)\n",
        "* peso_folhagem: Peso da Folhagem (g)\n",
        "* numero_vagens: Número de Vagens\n",
        "* qualidade_folhagem: Qualidade da Folhagem\n"
      ],
      "metadata": {
        "id": "ayAgaDLHGOH9"
      }
    },
    {
      "cell_type": "code",
      "source": [
        "import pandas as pd\n",
        "import numpy as np\n",
        "\n",
        "dados_csv = pd.read_csv(\"soja.csv\", encoding= \"latin-1\")\n",
        "dados_csv = dados_csv.drop('id', axis=1)\n",
        "dados_csv.head()"
      ],
      "metadata": {
        "colab": {
          "base_uri": "https://localhost:8080/",
          "height": 206
        },
        "id": "KgLfiYhuGS2d",
        "outputId": "519ab419-89ac-489a-ed7d-8eb6a2e46f1d"
      },
      "execution_count": 72,
      "outputs": [
        {
          "output_type": "execute_result",
          "data": {
            "text/plain": [
              "          tratamento tipo_solo   ph  altura  peso  numero_vagens  \\\n",
              "0           Controle  Argiloso  6.5    45.2  55.8             12   \n",
              "1             Padrão   Arenoso  6.8    58.9  72.1             18   \n",
              "2  Novo Fertilizante     Húmus  7.1    75.4  95.5             25   \n",
              "3           Controle  Argiloso  6.4    48.1  60.3             14   \n",
              "4             Padrão   Arenoso  6.7    62.5  78.2             20   \n",
              "\n",
              "  qualidade_folhagem  \n",
              "0              Baixa  \n",
              "1              Média  \n",
              "2               Alta  \n",
              "3              Baixa  \n",
              "4              Média  "
            ],
            "text/html": [
              "\n",
              "  <div id=\"df-839d43c8-5e62-4949-8cf2-226eb90a7983\" class=\"colab-df-container\">\n",
              "    <div>\n",
              "<style scoped>\n",
              "    .dataframe tbody tr th:only-of-type {\n",
              "        vertical-align: middle;\n",
              "    }\n",
              "\n",
              "    .dataframe tbody tr th {\n",
              "        vertical-align: top;\n",
              "    }\n",
              "\n",
              "    .dataframe thead th {\n",
              "        text-align: right;\n",
              "    }\n",
              "</style>\n",
              "<table border=\"1\" class=\"dataframe\">\n",
              "  <thead>\n",
              "    <tr style=\"text-align: right;\">\n",
              "      <th></th>\n",
              "      <th>tratamento</th>\n",
              "      <th>tipo_solo</th>\n",
              "      <th>ph</th>\n",
              "      <th>altura</th>\n",
              "      <th>peso</th>\n",
              "      <th>numero_vagens</th>\n",
              "      <th>qualidade_folhagem</th>\n",
              "    </tr>\n",
              "  </thead>\n",
              "  <tbody>\n",
              "    <tr>\n",
              "      <th>0</th>\n",
              "      <td>Controle</td>\n",
              "      <td>Argiloso</td>\n",
              "      <td>6.5</td>\n",
              "      <td>45.2</td>\n",
              "      <td>55.8</td>\n",
              "      <td>12</td>\n",
              "      <td>Baixa</td>\n",
              "    </tr>\n",
              "    <tr>\n",
              "      <th>1</th>\n",
              "      <td>Padrão</td>\n",
              "      <td>Arenoso</td>\n",
              "      <td>6.8</td>\n",
              "      <td>58.9</td>\n",
              "      <td>72.1</td>\n",
              "      <td>18</td>\n",
              "      <td>Média</td>\n",
              "    </tr>\n",
              "    <tr>\n",
              "      <th>2</th>\n",
              "      <td>Novo Fertilizante</td>\n",
              "      <td>Húmus</td>\n",
              "      <td>7.1</td>\n",
              "      <td>75.4</td>\n",
              "      <td>95.5</td>\n",
              "      <td>25</td>\n",
              "      <td>Alta</td>\n",
              "    </tr>\n",
              "    <tr>\n",
              "      <th>3</th>\n",
              "      <td>Controle</td>\n",
              "      <td>Argiloso</td>\n",
              "      <td>6.4</td>\n",
              "      <td>48.1</td>\n",
              "      <td>60.3</td>\n",
              "      <td>14</td>\n",
              "      <td>Baixa</td>\n",
              "    </tr>\n",
              "    <tr>\n",
              "      <th>4</th>\n",
              "      <td>Padrão</td>\n",
              "      <td>Arenoso</td>\n",
              "      <td>6.7</td>\n",
              "      <td>62.5</td>\n",
              "      <td>78.2</td>\n",
              "      <td>20</td>\n",
              "      <td>Média</td>\n",
              "    </tr>\n",
              "  </tbody>\n",
              "</table>\n",
              "</div>\n",
              "    <div class=\"colab-df-buttons\">\n",
              "\n",
              "  <div class=\"colab-df-container\">\n",
              "    <button class=\"colab-df-convert\" onclick=\"convertToInteractive('df-839d43c8-5e62-4949-8cf2-226eb90a7983')\"\n",
              "            title=\"Convert this dataframe to an interactive table.\"\n",
              "            style=\"display:none;\">\n",
              "\n",
              "  <svg xmlns=\"http://www.w3.org/2000/svg\" height=\"24px\" viewBox=\"0 -960 960 960\">\n",
              "    <path d=\"M120-120v-720h720v720H120Zm60-500h600v-160H180v160Zm220 220h160v-160H400v160Zm0 220h160v-160H400v160ZM180-400h160v-160H180v160Zm440 0h160v-160H620v160ZM180-180h160v-160H180v160Zm440 0h160v-160H620v160Z\"/>\n",
              "  </svg>\n",
              "    </button>\n",
              "\n",
              "  <style>\n",
              "    .colab-df-container {\n",
              "      display:flex;\n",
              "      gap: 12px;\n",
              "    }\n",
              "\n",
              "    .colab-df-convert {\n",
              "      background-color: #E8F0FE;\n",
              "      border: none;\n",
              "      border-radius: 50%;\n",
              "      cursor: pointer;\n",
              "      display: none;\n",
              "      fill: #1967D2;\n",
              "      height: 32px;\n",
              "      padding: 0 0 0 0;\n",
              "      width: 32px;\n",
              "    }\n",
              "\n",
              "    .colab-df-convert:hover {\n",
              "      background-color: #E2EBFA;\n",
              "      box-shadow: 0px 1px 2px rgba(60, 64, 67, 0.3), 0px 1px 3px 1px rgba(60, 64, 67, 0.15);\n",
              "      fill: #174EA6;\n",
              "    }\n",
              "\n",
              "    .colab-df-buttons div {\n",
              "      margin-bottom: 4px;\n",
              "    }\n",
              "\n",
              "    [theme=dark] .colab-df-convert {\n",
              "      background-color: #3B4455;\n",
              "      fill: #D2E3FC;\n",
              "    }\n",
              "\n",
              "    [theme=dark] .colab-df-convert:hover {\n",
              "      background-color: #434B5C;\n",
              "      box-shadow: 0px 1px 3px 1px rgba(0, 0, 0, 0.15);\n",
              "      filter: drop-shadow(0px 1px 2px rgba(0, 0, 0, 0.3));\n",
              "      fill: #FFFFFF;\n",
              "    }\n",
              "  </style>\n",
              "\n",
              "    <script>\n",
              "      const buttonEl =\n",
              "        document.querySelector('#df-839d43c8-5e62-4949-8cf2-226eb90a7983 button.colab-df-convert');\n",
              "      buttonEl.style.display =\n",
              "        google.colab.kernel.accessAllowed ? 'block' : 'none';\n",
              "\n",
              "      async function convertToInteractive(key) {\n",
              "        const element = document.querySelector('#df-839d43c8-5e62-4949-8cf2-226eb90a7983');\n",
              "        const dataTable =\n",
              "          await google.colab.kernel.invokeFunction('convertToInteractive',\n",
              "                                                    [key], {});\n",
              "        if (!dataTable) return;\n",
              "\n",
              "        const docLinkHtml = 'Like what you see? Visit the ' +\n",
              "          '<a target=\"_blank\" href=https://colab.research.google.com/notebooks/data_table.ipynb>data table notebook</a>'\n",
              "          + ' to learn more about interactive tables.';\n",
              "        element.innerHTML = '';\n",
              "        dataTable['output_type'] = 'display_data';\n",
              "        await google.colab.output.renderOutput(dataTable, element);\n",
              "        const docLink = document.createElement('div');\n",
              "        docLink.innerHTML = docLinkHtml;\n",
              "        element.appendChild(docLink);\n",
              "      }\n",
              "    </script>\n",
              "  </div>\n",
              "\n",
              "\n",
              "    <div id=\"df-0a5bf875-93e3-43a5-85e1-ac2ab87a758a\">\n",
              "      <button class=\"colab-df-quickchart\" onclick=\"quickchart('df-0a5bf875-93e3-43a5-85e1-ac2ab87a758a')\"\n",
              "                title=\"Suggest charts\"\n",
              "                style=\"display:none;\">\n",
              "\n",
              "<svg xmlns=\"http://www.w3.org/2000/svg\" height=\"24px\"viewBox=\"0 0 24 24\"\n",
              "     width=\"24px\">\n",
              "    <g>\n",
              "        <path d=\"M19 3H5c-1.1 0-2 .9-2 2v14c0 1.1.9 2 2 2h14c1.1 0 2-.9 2-2V5c0-1.1-.9-2-2-2zM9 17H7v-7h2v7zm4 0h-2V7h2v10zm4 0h-2v-4h2v4z\"/>\n",
              "    </g>\n",
              "</svg>\n",
              "      </button>\n",
              "\n",
              "<style>\n",
              "  .colab-df-quickchart {\n",
              "      --bg-color: #E8F0FE;\n",
              "      --fill-color: #1967D2;\n",
              "      --hover-bg-color: #E2EBFA;\n",
              "      --hover-fill-color: #174EA6;\n",
              "      --disabled-fill-color: #AAA;\n",
              "      --disabled-bg-color: #DDD;\n",
              "  }\n",
              "\n",
              "  [theme=dark] .colab-df-quickchart {\n",
              "      --bg-color: #3B4455;\n",
              "      --fill-color: #D2E3FC;\n",
              "      --hover-bg-color: #434B5C;\n",
              "      --hover-fill-color: #FFFFFF;\n",
              "      --disabled-bg-color: #3B4455;\n",
              "      --disabled-fill-color: #666;\n",
              "  }\n",
              "\n",
              "  .colab-df-quickchart {\n",
              "    background-color: var(--bg-color);\n",
              "    border: none;\n",
              "    border-radius: 50%;\n",
              "    cursor: pointer;\n",
              "    display: none;\n",
              "    fill: var(--fill-color);\n",
              "    height: 32px;\n",
              "    padding: 0;\n",
              "    width: 32px;\n",
              "  }\n",
              "\n",
              "  .colab-df-quickchart:hover {\n",
              "    background-color: var(--hover-bg-color);\n",
              "    box-shadow: 0 1px 2px rgba(60, 64, 67, 0.3), 0 1px 3px 1px rgba(60, 64, 67, 0.15);\n",
              "    fill: var(--button-hover-fill-color);\n",
              "  }\n",
              "\n",
              "  .colab-df-quickchart-complete:disabled,\n",
              "  .colab-df-quickchart-complete:disabled:hover {\n",
              "    background-color: var(--disabled-bg-color);\n",
              "    fill: var(--disabled-fill-color);\n",
              "    box-shadow: none;\n",
              "  }\n",
              "\n",
              "  .colab-df-spinner {\n",
              "    border: 2px solid var(--fill-color);\n",
              "    border-color: transparent;\n",
              "    border-bottom-color: var(--fill-color);\n",
              "    animation:\n",
              "      spin 1s steps(1) infinite;\n",
              "  }\n",
              "\n",
              "  @keyframes spin {\n",
              "    0% {\n",
              "      border-color: transparent;\n",
              "      border-bottom-color: var(--fill-color);\n",
              "      border-left-color: var(--fill-color);\n",
              "    }\n",
              "    20% {\n",
              "      border-color: transparent;\n",
              "      border-left-color: var(--fill-color);\n",
              "      border-top-color: var(--fill-color);\n",
              "    }\n",
              "    30% {\n",
              "      border-color: transparent;\n",
              "      border-left-color: var(--fill-color);\n",
              "      border-top-color: var(--fill-color);\n",
              "      border-right-color: var(--fill-color);\n",
              "    }\n",
              "    40% {\n",
              "      border-color: transparent;\n",
              "      border-right-color: var(--fill-color);\n",
              "      border-top-color: var(--fill-color);\n",
              "    }\n",
              "    60% {\n",
              "      border-color: transparent;\n",
              "      border-right-color: var(--fill-color);\n",
              "    }\n",
              "    80% {\n",
              "      border-color: transparent;\n",
              "      border-right-color: var(--fill-color);\n",
              "      border-bottom-color: var(--fill-color);\n",
              "    }\n",
              "    90% {\n",
              "      border-color: transparent;\n",
              "      border-bottom-color: var(--fill-color);\n",
              "    }\n",
              "  }\n",
              "</style>\n",
              "\n",
              "      <script>\n",
              "        async function quickchart(key) {\n",
              "          const quickchartButtonEl =\n",
              "            document.querySelector('#' + key + ' button');\n",
              "          quickchartButtonEl.disabled = true;  // To prevent multiple clicks.\n",
              "          quickchartButtonEl.classList.add('colab-df-spinner');\n",
              "          try {\n",
              "            const charts = await google.colab.kernel.invokeFunction(\n",
              "                'suggestCharts', [key], {});\n",
              "          } catch (error) {\n",
              "            console.error('Error during call to suggestCharts:', error);\n",
              "          }\n",
              "          quickchartButtonEl.classList.remove('colab-df-spinner');\n",
              "          quickchartButtonEl.classList.add('colab-df-quickchart-complete');\n",
              "        }\n",
              "        (() => {\n",
              "          let quickchartButtonEl =\n",
              "            document.querySelector('#df-0a5bf875-93e3-43a5-85e1-ac2ab87a758a button');\n",
              "          quickchartButtonEl.style.display =\n",
              "            google.colab.kernel.accessAllowed ? 'block' : 'none';\n",
              "        })();\n",
              "      </script>\n",
              "    </div>\n",
              "\n",
              "    </div>\n",
              "  </div>\n"
            ],
            "application/vnd.google.colaboratory.intrinsic+json": {
              "type": "dataframe",
              "variable_name": "dados_csv",
              "summary": "{\n  \"name\": \"dados_csv\",\n  \"rows\": 30,\n  \"fields\": [\n    {\n      \"column\": \"tratamento\",\n      \"properties\": {\n        \"dtype\": \"category\",\n        \"num_unique_values\": 3,\n        \"samples\": [\n          \"Controle\",\n          \"Padr\\u00e3o\",\n          \"Novo Fertilizante\"\n        ],\n        \"semantic_type\": \"\",\n        \"description\": \"\"\n      }\n    },\n    {\n      \"column\": \"tipo_solo\",\n      \"properties\": {\n        \"dtype\": \"category\",\n        \"num_unique_values\": 3,\n        \"samples\": [\n          \"Argiloso\",\n          \"Arenoso\",\n          \"H\\u00famus\"\n        ],\n        \"semantic_type\": \"\",\n        \"description\": \"\"\n      }\n    },\n    {\n      \"column\": \"ph\",\n      \"properties\": {\n        \"dtype\": \"number\",\n        \"std\": 0.26129650221341555,\n        \"min\": 6.4,\n        \"max\": 7.2,\n        \"num_unique_values\": 9,\n        \"samples\": [\n          6.9,\n          6.8,\n          7.2\n        ],\n        \"semantic_type\": \"\",\n        \"description\": \"\"\n      }\n    },\n    {\n      \"column\": \"altura\",\n      \"properties\": {\n        \"dtype\": \"number\",\n        \"std\": 12.85635090609655,\n        \"min\": 42.9,\n        \"max\": 80.5,\n        \"num_unique_values\": 30,\n        \"samples\": [\n          45.8,\n          44.5,\n          79.9\n        ],\n        \"semantic_type\": \"\",\n        \"description\": \"\"\n      }\n    },\n    {\n      \"column\": \"peso\",\n      \"properties\": {\n        \"dtype\": \"number\",\n        \"std\": 17.292456996202628,\n        \"min\": 51.7,\n        \"max\": 105.3,\n        \"num_unique_values\": 30,\n        \"samples\": [\n          56.7,\n          54.2,\n          103.5\n        ],\n        \"semantic_type\": \"\",\n        \"description\": \"\"\n      }\n    },\n    {\n      \"column\": \"numero_vagens\",\n      \"properties\": {\n        \"dtype\": \"number\",\n        \"std\": 6,\n        \"min\": 10,\n        \"max\": 30,\n        \"num_unique_values\": 19,\n        \"samples\": [\n          12,\n          28,\n          26\n        ],\n        \"semantic_type\": \"\",\n        \"description\": \"\"\n      }\n    },\n    {\n      \"column\": \"qualidade_folhagem\",\n      \"properties\": {\n        \"dtype\": \"category\",\n        \"num_unique_values\": 3,\n        \"samples\": [\n          \"Baixa\",\n          \"M\\u00e9dia\",\n          \"Alta\"\n        ],\n        \"semantic_type\": \"\",\n        \"description\": \"\"\n      }\n    }\n  ]\n}"
            }
          },
          "metadata": {},
          "execution_count": 72
        }
      ]
    },
    {
      "cell_type": "markdown",
      "source": [
        "# Medidas de variabilidade\n",
        "\n",
        "Determine a amplitude, variância e desvio padrão das variáveis Peso da Folhagem (g) e Número de Vagens. Qual das duas variáveis em estudo possui maior variabilidade?\n"
      ],
      "metadata": {
        "id": "bMvW5oUNF2cY"
      }
    },
    {
      "cell_type": "code",
      "execution_count": 73,
      "metadata": {
        "id": "y6TZhZi6GDa5"
      },
      "outputs": [],
      "source": [
        "# Amplitude"
      ]
    },
    {
      "cell_type": "code",
      "source": [
        "# Variância"
      ],
      "metadata": {
        "id": "P1NP4AJVGBzV"
      },
      "execution_count": 74,
      "outputs": []
    },
    {
      "cell_type": "code",
      "source": [
        "# Desvio padrão"
      ],
      "metadata": {
        "id": "MLffyNOCGDUV"
      },
      "execution_count": 75,
      "outputs": []
    },
    {
      "cell_type": "code",
      "source": [
        "# Coeficiente de variação"
      ],
      "metadata": {
        "id": "Uj5miVLw6_HY"
      },
      "execution_count": 76,
      "outputs": []
    },
    {
      "cell_type": "markdown",
      "source": [
        "# Medidas de posição\n",
        "\n",
        "Determine o **Q1, Q2, Q3** para a variável **Peso da Folhagem**. Interprete os resultados."
      ],
      "metadata": {
        "id": "b9DR9cdGGvf9"
      }
    },
    {
      "cell_type": "code",
      "source": [
        "# Q1\n",
        "q1_peso = dados_csv['peso'].quantile(0.25)\n",
        "print(f\"Q1 (Peso da Folhagem): {q1_peso:.2f}\")"
      ],
      "metadata": {
        "id": "BVDc85XhoaP4",
        "colab": {
          "base_uri": "https://localhost:8080/"
        },
        "outputId": "f11fedfc-7f3a-4405-8830-12d3840fff6e"
      },
      "execution_count": 77,
      "outputs": [
        {
          "output_type": "stream",
          "name": "stdout",
          "text": [
            "Q1 (Peso da Folhagem): 60.45\n"
          ]
        }
      ]
    },
    {
      "cell_type": "code",
      "source": [
        "# Q2\n",
        "q2_peso = dados_csv['peso'].quantile(0.50)\n",
        "print(f\"Q2 (Peso da Folhagem): {q2_peso:.2f}\")"
      ],
      "metadata": {
        "id": "xJJe6AZzodFb",
        "colab": {
          "base_uri": "https://localhost:8080/"
        },
        "outputId": "9d9a5161-fb71-4f34-b42e-ba59ee1eca90"
      },
      "execution_count": 78,
      "outputs": [
        {
          "output_type": "stream",
          "name": "stdout",
          "text": [
            "Q2 (Peso da Folhagem): 77.45\n"
          ]
        }
      ]
    },
    {
      "cell_type": "code",
      "source": [
        "# Q3\n",
        "q3_peso = dados_csv['peso'].quantile(0.75)\n",
        "print(f\"Q3 (Peso da Folhagem): {q3_peso:.2f}\")"
      ],
      "metadata": {
        "id": "qUdiTUjFoegB",
        "colab": {
          "base_uri": "https://localhost:8080/"
        },
        "outputId": "d83cc81c-8e62-4fe4-d4ce-13265f94e919"
      },
      "execution_count": 79,
      "outputs": [
        {
          "output_type": "stream",
          "name": "stdout",
          "text": [
            "Q3 (Peso da Folhagem): 92.45\n"
          ]
        }
      ]
    },
    {
      "cell_type": "code",
      "source": [
        "# IQR\n",
        "IQR = q3_peso - q1_peso\n",
        "print(f\"IQR (Peso da Folhagem): {IQR:.2f}\")"
      ],
      "metadata": {
        "id": "Qz3fNrgKohJw",
        "colab": {
          "base_uri": "https://localhost:8080/"
        },
        "outputId": "21530108-7109-4535-df4d-31fcfc4f58bf"
      },
      "execution_count": 80,
      "outputs": [
        {
          "output_type": "stream",
          "name": "stdout",
          "text": [
            "IQR (Peso da Folhagem): 32.00\n"
          ]
        }
      ]
    },
    {
      "cell_type": "code",
      "source": [
        "# Q1 - 1.5*IQR\n",
        "q1_peso_min = q1_peso - 1.5*IQR\n",
        "print(f\"Q1 - 1.5*IQR (Peso da Folhagem): {q1_peso_min:.2f}\")"
      ],
      "metadata": {
        "id": "h6bGgjNpojQg",
        "colab": {
          "base_uri": "https://localhost:8080/"
        },
        "outputId": "757e9597-98d1-4cbe-e34d-01e720178b9b"
      },
      "execution_count": 81,
      "outputs": [
        {
          "output_type": "stream",
          "name": "stdout",
          "text": [
            "Q1 - 1.5*IQR (Peso da Folhagem): 12.45\n"
          ]
        }
      ]
    },
    {
      "cell_type": "code",
      "source": [
        "# Q3 + 1.5*IQR\n",
        "q3_peso_max = q3_peso + 1.5*IQR\n",
        "print(f\"Q3 + 1.5*IQR (Peso da Folhagem): {q3_peso_max:.2f}\")"
      ],
      "metadata": {
        "id": "Cpy_qAAZomq4",
        "colab": {
          "base_uri": "https://localhost:8080/"
        },
        "outputId": "fa5c522b-2a09-4d6b-93c1-14b4977e675d"
      },
      "execution_count": 82,
      "outputs": [
        {
          "output_type": "stream",
          "name": "stdout",
          "text": [
            "Q3 + 1.5*IQR (Peso da Folhagem): 140.45\n"
          ]
        }
      ]
    },
    {
      "cell_type": "markdown",
      "source": [
        "# Boxplot (gráfico de caixas-e-bigodes)\n",
        "\n",
        "Faça um boxplot para a variável **Peso da Folhagem**. Interprete os resultados."
      ],
      "metadata": {
        "id": "0ChHZpSoGmpM"
      }
    },
    {
      "cell_type": "code",
      "source": [
        "import matplotlib.pyplot as plt\n",
        "import seaborn as sns\n",
        "\n",
        "plt.figure(figsize=(8, 6))\n",
        "ax = sns.boxplot(y=dados_csv['peso'])\n",
        "plt.title('Boxplot do Peso da Folhagem')\n",
        "plt.ylabel('Peso da Folhagem (g)')\n",
        "\n",
        "# Adicionar linhas tracejadas para q1_peso_min e q3_peso_max\n",
        "ax.axhline(q1_peso_min, color='red', linestyle='--', linewidth=2, label=f'Q1 - 1.5*IQR ({q1_peso_min:.2f})')\n",
        "ax.axhline(q3_peso_max, color='red', linestyle='--', linewidth=2, label=f'Q3 + 1.5*IQR ({q3_peso_max:.2f})')\n",
        "ax.legend()\n",
        "\n",
        "plt.show()"
      ],
      "metadata": {
        "id": "RGfecTF3oYzR",
        "colab": {
          "base_uri": "https://localhost:8080/",
          "height": 526
        },
        "outputId": "99a4d35e-b31b-4f31-939e-b1032b93629e"
      },
      "execution_count": 83,
      "outputs": [
        {
          "output_type": "display_data",
          "data": {
            "text/plain": [
              "<Figure size 800x600 with 1 Axes>"
            ],
            "image/png": "[encoded data removed]"
          },
          "metadata": {}
        }
      ]
    },
    {
      "cell_type": "code",
      "source": [
        "nova_variavel = [dados_csv['peso'], 150]"
      ],
      "metadata": {
        "id": "3VKsJl5M70u8"
      },
      "execution_count": 84,
      "outputs": []
    },
    {
      "cell_type": "code",
      "metadata": {
        "colab": {
          "base_uri": "https://localhost:8080/",
          "height": 613
        },
        "id": "7a38f651",
        "outputId": "12e8dcc6-8981-4dbe-c6f0-5812135ac5f0"
      },
      "source": [
        "import matplotlib.pyplot as plt\n",
        "import seaborn as sns\n",
        "import pandas as pd\n",
        "\n",
        "# Combine the data from nova_variavel into a single Series for plotting\n",
        "nova_variavel_series = pd.concat([nova_variavel[0], pd.Series([nova_variavel[1]])])\n",
        "\n",
        "# Calculate Q1, Q3, and IQR\n",
        "q1_nova = nova_variavel_series.quantile(0.25)\n",
        "q3_nova = nova_variavel_series.quantile(0.75)\n",
        "IQR_nova = q3_nova - q1_nova\n",
        "\n",
        "# Calculate Q1 - 1.5*IQR and Q3 + 1.5*IQR\n",
        "q1_nova_min = q1_nova - 1.5 * IQR_nova\n",
        "q3_nova_max = q3_nova + 1.5 * IQR_nova\n",
        "\n",
        "print(f\"Q1: {q1_nova:.2f}\")\n",
        "print(f\"Q3: {q3_nova:.2f}\")\n",
        "print(f\"IQR: {IQR_nova:.2f}\")\n",
        "print(f\"Q1 - 1.5*IQR: {q1_nova_min:.2f}\")\n",
        "print(f\"Q3 + 1.5*IQR: {q3_nova_max:.2f}\")\n",
        "\n",
        "\n",
        "plt.figure(figsize=(8, 6))\n",
        "ax = sns.boxplot(y=nova_variavel_series)\n",
        "plt.title('Boxplot da Nova Variável')\n",
        "plt.ylabel('Valor')\n",
        "\n",
        "# Add dashed red lines for q1_nova_min and q3_nova_max\n",
        "ax.axhline(q1_nova_min, color='red', linestyle='--', linewidth=2, label=f'Q1 - 1.5*IQR ({q1_nova_min:.2f})')\n",
        "ax.axhline(q3_nova_max, color='red', linestyle='--', linewidth=2, label=f'Q3 + 1.5*IQR ({q3_nova_max:.2f})')\n",
        "ax.legend()\n",
        "\n",
        "plt.show()"
      ],
      "execution_count": 85,
      "outputs": [
        {
          "output_type": "stream",
          "name": "stdout",
          "text": [
            "Q1: 60.60\n",
            "Q3: 94.15\n",
            "IQR: 33.55\n",
            "Q1 - 1.5*IQR: 10.27\n",
            "Q3 + 1.5*IQR: 144.48\n"
          ]
        },
        {
          "output_type": "display_data",
          "data": {
            "text/plain": [
              "<Figure size 800x600 with 1 Axes>"
            ],
            "image/png": "[encoded data removed]"
          },
          "metadata": {}
        }
      ]
    }
  ]
}